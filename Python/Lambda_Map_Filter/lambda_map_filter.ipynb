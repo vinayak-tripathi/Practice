{
 "cells": [
  {
   "cell_type": "markdown",
   "id": "57ffcd06-e5cd-4140-9ca5-5d703200ccf5",
   "metadata": {},
   "source": [
    "## Lambda\n",
    "`lambda` arguments: expression"
   ]
  },
  {
   "cell_type": "code",
   "execution_count": 3,
   "id": "c8f3b8b4-c0d1-4106-a1f2-60b5f6230d06",
   "metadata": {},
   "outputs": [
    {
     "name": "stdout",
     "output_type": "stream",
     "text": [
      "3\n",
      "3\n",
      "85\n",
      "33\n"
     ]
    }
   ],
   "source": [
    "l1 = lambda x, y: x+y\n",
    "l2 = lambda x, y=2: x+y\n",
    "l3 = lambda *args: sum(args)\n",
    "l4 = lambda **kwargs: sum(kwargs.values())\n",
    "print(l1(1, 2))\n",
    "print(l2(1))\n",
    "print(l3(1, 2, 4, 55, 23))\n",
    "print(l4(key1=12, key2=21))"
   ]
  },
  {
   "cell_type": "code",
   "execution_count": 4,
   "id": "0eef1761-2f46-4b7b-8de5-401cdf10a31c",
   "metadata": {},
   "outputs": [
    {
     "name": "stdout",
     "output_type": "stream",
     "text": [
      "33\n",
      "33\n",
      "33\n"
     ]
    }
   ],
   "source": [
    "def sum(a,b):\n",
    "    return a+b\n",
    "\n",
    "print(sum(12,21))\n",
    "\n",
    "# lambda function with name\n",
    "sum_lambda = lambda a,b: a+b\n",
    "print(sum_lambda(12,21))\n",
    "\n",
    "# lambda function without name\n",
    "print((lambda x, y: x + y)(12, 21))"
   ]
  },
  {
   "cell_type": "code",
   "execution_count": 5,
   "id": "8adda108-2653-4187-a0f9-8c4776dd9d42",
   "metadata": {},
   "outputs": [
    {
     "name": "stdout",
     "output_type": "stream",
     "text": [
      "<class 'function'>\n",
      "<class 'function'>\n"
     ]
    }
   ],
   "source": [
    "print(type(sum))\n",
    "print(type(sum_lambda))"
   ]
  },
  {
   "cell_type": "code",
   "execution_count": 7,
   "id": "5aea510e-937d-4cb4-8078-894c0b56476d",
   "metadata": {},
   "outputs": [
    {
     "name": "stdout",
     "output_type": "stream",
     "text": [
      "<function sum at 0x000002BB0140B160>\n",
      "<function <lambda> at 0x000002BB0140BAF0>\n"
     ]
    }
   ],
   "source": [
    "print(sum)\n",
    "print(sum_lambda) \n",
    "# Even though we assigned the lambda function to \n",
    "# a value, it is still an anonymous function."
   ]
  },
  {
   "cell_type": "markdown",
   "id": "b173fbd2-348f-4652-bea1-cafd65ff618e",
   "metadata": {},
   "source": [
    "## Map\n",
    "map() function takes 2 arguments: an input mapping function and an iterable"
   ]
  },
  {
   "cell_type": "code",
   "execution_count": 9,
   "id": "8945928d-8072-42c1-825d-b29c23469cbe",
   "metadata": {},
   "outputs": [
    {
     "name": "stdout",
     "output_type": "stream",
     "text": [
      "[1, 4, 9, 16, 25]\n",
      "[1, 4, 9, 16, 25]\n"
     ]
    }
   ],
   "source": [
    "def map_func(x): return x**2\n",
    "\n",
    "mapped_output = list(map(map_func,[1,2,3,4,5]))\n",
    "print(mapped_output)\n",
    "\n",
    "map_func_lambda = lambda x: x**2\n",
    "print(list(map(map_func_lambda,[1,2,3,4,5])))"
   ]
  },
  {
   "cell_type": "code",
   "execution_count": 16,
   "id": "d6757206-1b89-46ca-9dea-dc314c215da8",
   "metadata": {},
   "outputs": [
    {
     "name": "stdin",
     "output_type": "stream",
     "text": [
      " 23 234 23 12\n"
     ]
    },
    {
     "data": {
      "text/plain": [
       "[23, 234, 23, 12]"
      ]
     },
     "execution_count": 16,
     "metadata": {},
     "output_type": "execute_result"
    }
   ],
   "source": [
    "input_list = input().split()\n",
    "final_list = list(map(int,input_list))\n",
    "final_list"
   ]
  },
  {
   "cell_type": "markdown",
   "id": "e0177d88-be3f-4033-bdef-17bc3b604e2b",
   "metadata": {},
   "source": [
    "## Filter\n",
    "filter() function takes the same arguments as map(): an input filtering function and an iterable."
   ]
  },
  {
   "cell_type": "code",
   "execution_count": 19,
   "id": "81f1c8fd-2485-4496-b3b9-1f7573d509be",
   "metadata": {},
   "outputs": [
    {
     "name": "stdout",
     "output_type": "stream",
     "text": [
      "[2, 4]\n",
      "[2, 4]\n"
     ]
    }
   ],
   "source": [
    "def filter_func(x):\n",
    "    return x%2==0\n",
    "\n",
    "filter_output = list(filter(filter_func,[1,2,3,4]))\n",
    "print(filter_output)\n",
    "\n",
    "filter_func_lambda = list(filter(lambda x: x % 2 == 0, [1,2,3,4]))\n",
    "print(filter_func_lambda)"
   ]
  },
  {
   "cell_type": "markdown",
   "id": "93722384-63c4-4ad5-9d32-fa57dcbbb0c5",
   "metadata": {},
   "source": [
    "## Reduce\n",
    "reduce(function, sequence[, initial]) -> value\n",
    "\n",
    "Apply a function of two arguments cumulatively to the items of a sequence,\n",
    "from left to right, so as to reduce the sequence to a single value.\n",
    "For example, reduce(lambda x, y: x+y, [1, 2, 3, 4, 5]) calculates\n",
    "((((1+2)+3)+4)+5).  If initial is present, it is placed before the items"
   ]
  },
  {
   "cell_type": "code",
   "execution_count": 22,
   "id": "df1abca0-47b0-466e-b37e-eefab076e6f0",
   "metadata": {},
   "outputs": [
    {
     "name": "stdout",
     "output_type": "stream",
     "text": [
      "55\n"
     ]
    }
   ],
   "source": [
    "from functools import reduce\n",
    "int_list = [1,2,3,4,5]\n",
    "\n",
    "reduce_func = lambda x, y: x+y**2\n",
    "print(reduce(reduce_func,int_list))"
   ]
  },
  {
   "cell_type": "code",
   "execution_count": 24,
   "id": "580f61f0-73e2-4276-a10c-d3bd903f010f",
   "metadata": {},
   "outputs": [
    {
     "name": "stdout",
     "output_type": "stream",
     "text": [
      "55\n"
     ]
    }
   ],
   "source": [
    "su = 0\n",
    "for i in int_list:\n",
    "    su=su+i**2\n",
    "print(su)"
   ]
  },
  {
   "cell_type": "markdown",
   "id": "bc2599e5-f634-4491-9fd4-b75e6da6967f",
   "metadata": {},
   "source": [
    "## Performance comparison\n",
    "The comparison includes:\n",
    "\n",
    "* time to create a function (v.s. regular function)\n",
    "* time to invoke a function (v.s. regular function)\n",
    "* time to invoke higher-order functions like map() (v.s. for-loop and list comprehension)"
   ]
  },
  {
   "cell_type": "code",
   "execution_count": 26,
   "id": "79cbe9a2-6ee2-4bb1-affd-509c1d1300bc",
   "metadata": {},
   "outputs": [
    {
     "name": "stdout",
     "output_type": "stream",
     "text": [
      "lambda_creation 2.3100000362319406e-05\n",
      "def_creation 2.8299999939918052e-05\n",
      "lambda_invoke 0.00011590000030992087\n",
      "def_invoke 9.4600000011269e-05\n"
     ]
    }
   ],
   "source": [
    "from timeit import timeit\n",
    "\n",
    "def square(x):\n",
    "    return x ** 2\n",
    "\n",
    "lambda_creation = timeit('lambda x: x ** 2', number=100)\n",
    "def_creation = timeit('def square(x): return x ** 2', number=100)\n",
    "\n",
    "lambda_invoke = timeit('(lambda x: x ** 2)(2)', number=100)\n",
    "def_invoke = timeit('square(2)', number=100, globals=globals())\n",
    "\n",
    "print(\"lambda_creation\",lambda_creation)\n",
    "print(\"def_creation\",def_creation)\n",
    "print(\"lambda_invoke\",lambda_invoke)\n",
    "print(\"def_invoke\",def_invoke)"
   ]
  },
  {
   "cell_type": "markdown",
   "id": "2f527319-e861-40ac-9f66-b5ea9fd0bfaf",
   "metadata": {},
   "source": [
    "It turns out that the time to create a function is nearly the same.\n",
    "\n",
    "Map take longer time than creating a function, but lambda function doesn’t win any time here."
   ]
  },
  {
   "cell_type": "code",
   "execution_count": 28,
   "id": "79e7a0d1-3791-42e7-85a0-8cb70e0608e4",
   "metadata": {},
   "outputs": [
    {
     "name": "stdout",
     "output_type": "stream",
     "text": [
      "lambda_map 0.0003906\n",
      "lambda_list_comprehension 0.0013922\n",
      "lambda_for_loop 0.000315\n"
     ]
    }
   ],
   "source": [
    "def for_loop_map():\n",
    "    res = []\n",
    "    for i in [1, 2, 3]:\n",
    "        res.append(i ** 2)\n",
    "    return res\n",
    "\n",
    "lambda_map = timeit('list(map(lambda x: x ** 2, [1, 2, 3]))', number=100)  # 0.00025\n",
    "lambda_list_comprehension = timeit('[x**2 for x in [1,2,3]]', number=100)  # 0.00014\n",
    "lambda_for_loop = timeit('for_loop_map()', number=100, globals=globals())  # 0.00017\n",
    "\n",
    "print(\"lambda_map\",round(lambda_map,7))\n",
    "print(\"lambda_list_comprehension\",round(lambda_list_comprehension,7))\n",
    "print(\"lambda_for_loop\",round(lambda_for_loop,7))"
   ]
  },
  {
   "cell_type": "markdown",
   "id": "5cb899fe-2b31-4c55-a0a3-7683a666da3a",
   "metadata": {},
   "source": [
    "List comprehension performances the best in this case."
   ]
  },
  {
   "cell_type": "code",
   "execution_count": null,
   "id": "391b3d37-3358-4765-be49-83d2d697ecd5",
   "metadata": {},
   "outputs": [],
   "source": []
  }
 ],
 "metadata": {
  "kernelspec": {
   "display_name": "Python 3",
   "language": "python",
   "name": "python3"
  },
  "language_info": {
   "codemirror_mode": {
    "name": "ipython",
    "version": 3
   },
   "file_extension": ".py",
   "mimetype": "text/x-python",
   "name": "python",
   "nbconvert_exporter": "python",
   "pygments_lexer": "ipython3",
   "version": "3.8.8"
  }
 },
 "nbformat": 4,
 "nbformat_minor": 5
}
