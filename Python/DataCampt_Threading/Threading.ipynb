{
 "cells": [
  {
   "cell_type": "code",
   "execution_count": 1,
   "id": "541ff10b-a930-4acc-97c7-a6543f2a2b70",
   "metadata": {},
   "outputs": [],
   "source": [
    "import _thread #thread module imported\n",
    "import time #time module\n"
   ]
  },
  {
   "cell_type": "code",
   "execution_count": 2,
   "id": "62410a32-1f9d-4b80-9281-9e6d5ebabd18",
   "metadata": {},
   "outputs": [],
   "source": [
    "def thread_delay(thread_name, delay):\n",
    "    count = 0\n",
    "    while count < 3:\n",
    "        time.sleep(delay)\n",
    "        count += 1\n",
    "        print(thread_name, '-------->', time.time())"
   ]
  },
  {
   "cell_type": "code",
   "execution_count": 3,
   "id": "b11d2b63-d0fd-41ca-bd91-8d1969d1bb8d",
   "metadata": {},
   "outputs": [
    {
     "data": {
      "text/plain": [
       "\u001b[1;31mDocstring:\u001b[0m\n",
       "start_new_thread(function, args[, kwargs])\n",
       "(start_new() is an obsolete synonym)\n",
       "\n",
       "Start a new thread and return its identifier.  The thread will call the\n",
       "function with positional arguments from the tuple args and keyword arguments\n",
       "taken from the optional dictionary kwargs.  The thread exits when the\n",
       "function returns; the return value is ignored.  The thread will also exit\n",
       "when the function raises an unhandled exception; a stack trace will be\n",
       "printed unless the exception is SystemExit.\n",
       "\u001b[1;31mType:\u001b[0m      builtin_function_or_method\n"
      ]
     },
     "metadata": {},
     "output_type": "display_data"
    }
   ],
   "source": [
    "?_thread.start_new_thread"
   ]
  },
  {
   "cell_type": "code",
   "execution_count": 4,
   "id": "2525b85c-cd75-4ea5-8014-1ea9d583d5bc",
   "metadata": {},
   "outputs": [
    {
     "data": {
      "text/plain": [
       "19452"
      ]
     },
     "execution_count": 4,
     "metadata": {},
     "output_type": "execute_result"
    },
    {
     "name": "stdout",
     "output_type": "stream",
     "text": [
      "t1 --------> 1674639922.6931674\n",
      "t1 --------> 1674639923.710731\n",
      "t2 --------> 1674639924.6877563\n",
      "t1 --------> 1674639924.7152872\n",
      "t2 --------> 1674639927.7025692\n",
      "t2 --------> 1674639930.7069504\n"
     ]
    }
   ],
   "source": [
    "_thread.start_new_thread(thread_delay, ('t1', 1))\n",
    "_thread.start_new_thread(thread_delay, ('t2', 3))"
   ]
  },
  {
   "cell_type": "code",
   "execution_count": 5,
   "id": "1a59c726-cc3f-4c42-9f86-59848ef58135",
   "metadata": {},
   "outputs": [
    {
     "data": {
      "text/plain": [
       "20156"
      ]
     },
     "execution_count": 5,
     "metadata": {},
     "output_type": "execute_result"
    },
    {
     "name": "stdout",
     "output_type": "stream",
     "text": [
      "t1 --------> 1674640131.244286\n",
      "t1 --------> 1674640132.2553627\n",
      "t1 --------> 1674640133.2596724\n",
      "t2 --------> 1674640135.2449548\n",
      "t2 --------> 1674640140.2504833\n",
      "t2 --------> 1674640145.2657034\n"
     ]
    }
   ],
   "source": [
    "_thread.start_new_thread(thread_delay, ('t1', 1))\n",
    "_thread.start_new_thread(thread_delay, ('t2', 5))"
   ]
  },
  {
   "cell_type": "code",
   "execution_count": 7,
   "id": "7995c409-efe4-46c4-8d6f-022cc98cb978",
   "metadata": {},
   "outputs": [],
   "source": [
    "import threading\n",
    "import time"
   ]
  },
  {
   "cell_type": "code",
   "execution_count": 8,
   "id": "7f7a3345-745b-4876-96d1-89f371e127f2",
   "metadata": {},
   "outputs": [
    {
     "data": {
      "text/plain": [
       "\u001b[1;31mInit signature:\u001b[0m\n",
       "\u001b[0mthreading\u001b[0m\u001b[1;33m.\u001b[0m\u001b[0mThread\u001b[0m\u001b[1;33m(\u001b[0m\u001b[1;33m\n",
       "\u001b[0m    \u001b[0mgroup\u001b[0m\u001b[1;33m=\u001b[0m\u001b[1;32mNone\u001b[0m\u001b[1;33m,\u001b[0m\u001b[1;33m\n",
       "\u001b[0m    \u001b[0mtarget\u001b[0m\u001b[1;33m=\u001b[0m\u001b[1;32mNone\u001b[0m\u001b[1;33m,\u001b[0m\u001b[1;33m\n",
       "\u001b[0m    \u001b[0mname\u001b[0m\u001b[1;33m=\u001b[0m\u001b[1;32mNone\u001b[0m\u001b[1;33m,\u001b[0m\u001b[1;33m\n",
       "\u001b[0m    \u001b[0margs\u001b[0m\u001b[1;33m=\u001b[0m\u001b[1;33m(\u001b[0m\u001b[1;33m)\u001b[0m\u001b[1;33m,\u001b[0m\u001b[1;33m\n",
       "\u001b[0m    \u001b[0mkwargs\u001b[0m\u001b[1;33m=\u001b[0m\u001b[1;32mNone\u001b[0m\u001b[1;33m,\u001b[0m\u001b[1;33m\n",
       "\u001b[0m    \u001b[1;33m*\u001b[0m\u001b[1;33m,\u001b[0m\u001b[1;33m\n",
       "\u001b[0m    \u001b[0mdaemon\u001b[0m\u001b[1;33m=\u001b[0m\u001b[1;32mNone\u001b[0m\u001b[1;33m,\u001b[0m\u001b[1;33m\n",
       "\u001b[0m\u001b[1;33m)\u001b[0m\u001b[1;33m\u001b[0m\u001b[1;33m\u001b[0m\u001b[0m\n",
       "\u001b[1;31mDocstring:\u001b[0m     \n",
       "A class that represents a thread of control.\n",
       "\n",
       "This class can be safely subclassed in a limited fashion. There are two ways\n",
       "to specify the activity: by passing a callable object to the constructor, or\n",
       "by overriding the run() method in a subclass.\n",
       "\u001b[1;31mInit docstring:\u001b[0m\n",
       "This constructor should always be called with keyword arguments. Arguments are:\n",
       "\n",
       "*group* should be None; reserved for future extension when a ThreadGroup\n",
       "class is implemented.\n",
       "\n",
       "*target* is the callable object to be invoked by the run()\n",
       "method. Defaults to None, meaning nothing is called.\n",
       "\n",
       "*name* is the thread name. By default, a unique name is constructed of\n",
       "the form \"Thread-N\" where N is a small decimal number.\n",
       "\n",
       "*args* is the argument tuple for the target invocation. Defaults to ().\n",
       "\n",
       "*kwargs* is a dictionary of keyword arguments for the target\n",
       "invocation. Defaults to {}.\n",
       "\n",
       "If a subclass overrides the constructor, it must make sure to invoke\n",
       "the base class constructor (Thread.__init__()) before doing anything\n",
       "else to the thread.\n",
       "\u001b[1;31mFile:\u001b[0m           c:\\users\\tripvin\\anaconda3\\lib\\threading.py\n",
       "\u001b[1;31mType:\u001b[0m           type\n",
       "\u001b[1;31mSubclasses:\u001b[0m     Timer, _MainThread, _DummyThread, HistorySavingThread, BackgroundJobBase, HBChannel, Heartbeat, ParentPollerUnix, ParentPollerWindows\n"
      ]
     },
     "metadata": {},
     "output_type": "display_data"
    }
   ],
   "source": [
    "?threading.Thread"
   ]
  },
  {
   "cell_type": "code",
   "execution_count": 10,
   "id": "109c30e8-c232-4895-82e4-5927f45fbd23",
   "metadata": {},
   "outputs": [
    {
     "data": {
      "text/plain": [
       "\u001b[1;31mSignature:\u001b[0m \u001b[0mt1\u001b[0m\u001b[1;33m.\u001b[0m\u001b[0mstart\u001b[0m\u001b[1;33m(\u001b[0m\u001b[1;33m)\u001b[0m\u001b[1;33m\u001b[0m\u001b[1;33m\u001b[0m\u001b[0m\n",
       "\u001b[1;31mDocstring:\u001b[0m\n",
       "Start the thread's activity.\n",
       "\n",
       "It must be called at most once per thread object. It arranges for the\n",
       "object's run() method to be invoked in a separate thread of control.\n",
       "\n",
       "This method will raise a RuntimeError if called more than once on the\n",
       "same thread object.\n",
       "\u001b[1;31mFile:\u001b[0m      c:\\users\\tripvin\\anaconda3\\lib\\threading.py\n",
       "\u001b[1;31mType:\u001b[0m      method\n"
      ]
     },
     "metadata": {},
     "output_type": "display_data"
    }
   ],
   "source": [
    "?t1.start"
   ]
  },
  {
   "cell_type": "code",
   "execution_count": 12,
   "id": "476b09e4-8d99-4265-9b4d-39bf32425848",
   "metadata": {},
   "outputs": [
    {
     "data": {
      "text/plain": [
       "\u001b[1;31mSignature:\u001b[0m \u001b[0mt1\u001b[0m\u001b[1;33m.\u001b[0m\u001b[0mjoin\u001b[0m\u001b[1;33m(\u001b[0m\u001b[0mtimeout\u001b[0m\u001b[1;33m=\u001b[0m\u001b[1;32mNone\u001b[0m\u001b[1;33m)\u001b[0m\u001b[1;33m\u001b[0m\u001b[1;33m\u001b[0m\u001b[0m\n",
       "\u001b[1;31mDocstring:\u001b[0m\n",
       "Wait until the thread terminates.\n",
       "\n",
       "This blocks the calling thread until the thread whose join() method is\n",
       "called terminates -- either normally or through an unhandled exception\n",
       "or until the optional timeout occurs.\n",
       "\n",
       "When the timeout argument is present and not None, it should be a\n",
       "floating point number specifying a timeout for the operation in seconds\n",
       "(or fractions thereof). As join() always returns None, you must call\n",
       "is_alive() after join() to decide whether a timeout happened -- if the\n",
       "thread is still alive, the join() call timed out.\n",
       "\n",
       "When the timeout argument is not present or None, the operation will\n",
       "block until the thread terminates.\n",
       "\n",
       "A thread can be join()ed many times.\n",
       "\n",
       "join() raises a RuntimeError if an attempt is made to join the current\n",
       "thread as that would cause a deadlock. It is also an error to join() a\n",
       "thread before it has been started and attempts to do so raises the same\n",
       "exception.\n",
       "\u001b[1;31mFile:\u001b[0m      c:\\users\\tripvin\\anaconda3\\lib\\threading.py\n",
       "\u001b[1;31mType:\u001b[0m      method\n"
      ]
     },
     "metadata": {},
     "output_type": "display_data"
    }
   ],
   "source": [
    "?t1.join"
   ]
  },
  {
   "cell_type": "code",
   "execution_count": 18,
   "id": "d2775835-9792-4b65-a92f-f8c10ecca40b",
   "metadata": {},
   "outputs": [],
   "source": [
    "t1 = threading.Thread(target=thread_delay, args=('t1', 1))\n",
    "t2 = threading.Thread(target=thread_delay, args=('t2', 3))"
   ]
  },
  {
   "cell_type": "code",
   "execution_count": 11,
   "id": "2440abd4-f680-4e60-a061-824d85b08c73",
   "metadata": {},
   "outputs": [
    {
     "name": "stdout",
     "output_type": "stream",
     "text": [
      "t1 --------> 1674640281.2792494\n",
      "t1 --------> 1674640282.2937663\n",
      "t2 --------> 1674640283.2790377\n",
      "t1 --------> 1674640283.2951982\n",
      "t2 --------> 1674640286.2832778\n",
      "t2 --------> 1674640289.2861376\n"
     ]
    }
   ],
   "source": [
    "t1.start()\n",
    "t2.start()"
   ]
  },
  {
   "cell_type": "code",
   "execution_count": 23,
   "id": "d80fe966-1cc0-44cd-a98d-34f969709106",
   "metadata": {},
   "outputs": [
    {
     "name": "stdout",
     "output_type": "stream",
     "text": [
      "t1 --------> 1674641327.1994119\n",
      "t1 --------> 1674641328.208596\n",
      "t2 --------> 1674641328.7881072\n",
      "t2 --------> 1674641329.1901698\n",
      "t1 --------> 1674641329.222927\n",
      "t2 --------> 1674641332.1962924\n",
      "t2 --------> 1674641335.2063804\n",
      "Thread execution is complete!\n"
     ]
    }
   ],
   "source": [
    "t1 = threading.Thread(target=thread_delay, args=('t1', 1))\n",
    "t2 = threading.Thread(target=thread_delay, args=('t2', 3))\n",
    "t1.start()\n",
    "t2.start()\n",
    "\n",
    "t1.join()\n",
    "t2.join()\n",
    "\n",
    "print(\"Thread execution is complete!\")"
   ]
  },
  {
   "cell_type": "code",
   "execution_count": 25,
   "id": "a821a804-adf5-4509-b2b2-cd6c4ecce3d7",
   "metadata": {},
   "outputs": [],
   "source": [
    "def volume_cube(a):\n",
    "    print (\"Volume of Cube:\", a*a*a)\n",
    "\n",
    "def volume_square(a):\n",
    "    print (\"Volume of Square:\", a*a)"
   ]
  },
  {
   "cell_type": "code",
   "execution_count": 27,
   "id": "dd41c763-7c72-4286-bf99-c86efe2ee872",
   "metadata": {},
   "outputs": [
    {
     "name": "stdout",
     "output_type": "stream",
     "text": [
      "Volume of Cube: Volume of Square: 9\n",
      "8\n",
      "Thread execution is complete!\n"
     ]
    }
   ],
   "source": [
    "t1 = threading.Thread(target=volume_cube, args=(2,))\n",
    "t2 = threading.Thread(target=volume_square, args=(3,))\n",
    "\n",
    "t1.start()\n",
    "t2.start()\n",
    "\n",
    "t1.join()\n",
    "t2.join()\n",
    "\n",
    "print(\"Thread execution is complete!\")\n"
   ]
  },
  {
   "cell_type": "code",
   "execution_count": 32,
   "id": "82e83586-6290-4517-888e-7921150c1c70",
   "metadata": {},
   "outputs": [
    {
     "name": "stdout",
     "output_type": "stream",
     "text": [
      "Starting Thread:Starting Thread: t2\n",
      " t1\n",
      "t1 --------> 1674643072.578857\n",
      "t1 --------> 1674643073.58746\n",
      "t2 --------> 1674643074.5797086\n",
      "t1 --------> 1674643074.596438\n",
      "Execution of Thread: t1 is complete!\n",
      "t2 --------> 1674643077.5837808\n",
      "t2 --------> 1674643080.5898263\n",
      "Execution of Thread: t2 is complete!\n",
      "Thread execution is complete!\n"
     ]
    }
   ],
   "source": [
    "class DataCampThread(threading.Thread):\n",
    "    def __init__(self, name, delay):\n",
    "        threading.Thread.__init__(self)\n",
    "        self.name = name\n",
    "        self.delay = delay\n",
    "\n",
    "\n",
    "    def run(self):\n",
    "        print('Starting Thread:', self.name)\n",
    "        thread_delay(self.name,self.delay)\n",
    "        print('Execution of Thread:', self.name, 'is complete!')\n",
    "\n",
    "\n",
    "t1 = DataCampThread('t1', 1)\n",
    "t2 = DataCampThread('t2', 3)    \n",
    "\n",
    "t1.start()\n",
    "t2.start()\n",
    "\n",
    "t1.join()\n",
    "t2.join()\n",
    "\n",
    "print(\"Thread execution is complete!\")"
   ]
  },
  {
   "cell_type": "code",
   "execution_count": 35,
   "id": "5fea9c2b-c80a-4b3e-a589-06464e59f5f1",
   "metadata": {},
   "outputs": [
    {
     "data": {
      "text/plain": [
       "mappingproxy({'__module__': 'threading',\n",
       "              '__doc__': 'A class that represents a thread of control.\\n\\n    This class can be safely subclassed in a limited fashion. There are two ways\\n    to specify the activity: by passing a callable object to the constructor, or\\n    by overriding the run() method in a subclass.\\n\\n    ',\n",
       "              '_initialized': False,\n",
       "              '__init__': <function threading.Thread.__init__(self, group=None, target=None, name=None, args=(), kwargs=None, *, daemon=None)>,\n",
       "              '_reset_internal_locks': <function threading.Thread._reset_internal_locks(self, is_alive)>,\n",
       "              '__repr__': <function threading.Thread.__repr__(self)>,\n",
       "              'start': <function threading.Thread.start(self)>,\n",
       "              'run': <function threading.Thread.run(self)>,\n",
       "              '_bootstrap': <function threading.Thread._bootstrap(self)>,\n",
       "              '_set_ident': <function threading.Thread._set_ident(self)>,\n",
       "              '_set_native_id': <function threading.Thread._set_native_id(self)>,\n",
       "              '_set_tstate_lock': <function threading.Thread._set_tstate_lock(self)>,\n",
       "              '_bootstrap_inner': <function threading.Thread._bootstrap_inner(self)>,\n",
       "              '_stop': <function threading.Thread._stop(self)>,\n",
       "              '_delete': <function threading.Thread._delete(self)>,\n",
       "              'join': <function threading.Thread.join(self, timeout=None)>,\n",
       "              '_wait_for_tstate_lock': <function threading.Thread._wait_for_tstate_lock(self, block=True, timeout=-1)>,\n",
       "              'name': <property at 0x1b8fa8362c0>,\n",
       "              'ident': <property at 0x1b8fa836220>,\n",
       "              'native_id': <property at 0x1b8fa836310>,\n",
       "              'is_alive': <function threading.Thread.is_alive(self)>,\n",
       "              'isAlive': <function threading.Thread.isAlive(self)>,\n",
       "              'daemon': <property at 0x1b8fa8363b0>,\n",
       "              'isDaemon': <function threading.Thread.isDaemon(self)>,\n",
       "              'setDaemon': <function threading.Thread.setDaemon(self, daemonic)>,\n",
       "              'getName': <function threading.Thread.getName(self)>,\n",
       "              'setName': <function threading.Thread.setName(self, name)>,\n",
       "              '__dict__': <attribute '__dict__' of 'Thread' objects>,\n",
       "              '__weakref__': <attribute '__weakref__' of 'Thread' objects>})"
      ]
     },
     "execution_count": 35,
     "metadata": {},
     "output_type": "execute_result"
    }
   ],
   "source": [
    "threading.Thread.__dict__"
   ]
  },
  {
   "cell_type": "code",
   "execution_count": null,
   "id": "9fae4c55-62e5-4c8b-9b60-7f701a917966",
   "metadata": {},
   "outputs": [],
   "source": []
  }
 ],
 "metadata": {
  "kernelspec": {
   "display_name": "Python 3",
   "language": "python",
   "name": "python3"
  },
  "language_info": {
   "codemirror_mode": {
    "name": "ipython",
    "version": 3
   },
   "file_extension": ".py",
   "mimetype": "text/x-python",
   "name": "python",
   "nbconvert_exporter": "python",
   "pygments_lexer": "ipython3",
   "version": "3.8.8"
  }
 },
 "nbformat": 4,
 "nbformat_minor": 5
}
