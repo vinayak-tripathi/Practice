{
 "cells": [
  {
   "cell_type": "code",
   "execution_count": 17,
   "id": "2a92c98f-97f1-44c8-8542-6ac05d0ebe5c",
   "metadata": {},
   "outputs": [
    {
     "name": "stdout",
     "output_type": "stream",
     "text": [
      "Argument is 10\n",
      "11\n",
      "Argument is 12\n",
      "13\n",
      "1796653930960 1796653930960\n",
      "Argument is 10\n",
      "11\n",
      "succ\n"
     ]
    }
   ],
   "source": [
    "def succ(x):\n",
    "    print('Argument is',x)\n",
    "    return x + 1\n",
    "successor = succ # passing the succ function to successort\n",
    "print(successor(10))\n",
    "print(succ(12))\n",
    "\n",
    "print(id(successor),id(succ))\n",
    "\n",
    "del succ #deleted the succ variable but the actual function is not destroyed \n",
    "# the function is referenced by successor variable\n",
    "print(successor(10))\n",
    "print(successor.__name__)"
   ]
  },
  {
   "cell_type": "markdown",
   "id": "593c82cf-cfa7-4879-8062-eecf4708f47a",
   "metadata": {},
   "source": [
    "## Functions inside Functions"
   ]
  },
  {
   "cell_type": "code",
   "execution_count": 18,
   "id": "2f7aee2a-dc2a-404a-9cc8-8b6c2958f50e",
   "metadata": {},
   "outputs": [
    {
     "name": "stdout",
     "output_type": "stream",
     "text": [
      "This is the function 'f'\n",
      "I am calling 'g' now:\n",
      "Hi, it's me 'g'\n",
      "Thanks for calling me\n"
     ]
    }
   ],
   "source": [
    "def f():\n",
    "    def g():\n",
    "        print(\"Hi, it's me 'g'\")\n",
    "        print(\"Thanks for calling me\")\n",
    "     \n",
    "    print(\"This is the function 'f'\")\n",
    "    print(\"I am calling 'g' now:\")\n",
    "    g()\n",
    "\n",
    "    \n",
    "f()"
   ]
  },
  {
   "cell_type": "code",
   "execution_count": 19,
   "id": "1ce37e20-a7cc-423a-8705-9fd88932a4f9",
   "metadata": {},
   "outputs": [
    {
     "name": "stdout",
     "output_type": "stream",
     "text": [
      "It's 68.0 degrees!\n"
     ]
    }
   ],
   "source": [
    "def temperature(t):\n",
    "    def celsius2fahrenheit(x):\n",
    "        return 9 * x / 5 + 32\n",
    "\n",
    "    result = \"It's \" + str(celsius2fahrenheit(t)) + \" degrees!\" \n",
    "    return result\n",
    "\n",
    "print(temperature(20))"
   ]
  },
  {
   "cell_type": "markdown",
   "id": "ba811164-d7d7-44d9-b2b7-f5a811d1e469",
   "metadata": {},
   "source": [
    "#### Factorial - validating argument before calling the function"
   ]
  },
  {
   "cell_type": "code",
   "execution_count": 22,
   "id": "658e3ded-ea2f-4aba-ba26-41088a66cb36",
   "metadata": {},
   "outputs": [],
   "source": [
    "def factorial(n):\n",
    "    \"\"\" calculates the factorial of n, \n",
    "        n should be an integer and n <= 0 \"\"\"\n",
    "    if type(n) == int and n >=0:\n",
    "        if n == 0:\n",
    "            return 1\n",
    "        else:\n",
    "            return n * factorial(n-1)\n",
    "    else:\n",
    "        raise TypeError(\"n has to be a positive integer or zero\")\n",
    "\n",
    "# The above function first checks the required condition but the problem is \n",
    "# in recursion this gets unnnecssarily checked again and agin\n",
    "\n",
    "#****With a nested function (local function) one can solve this problem elegantly:****\n",
    "def factorial(n):\n",
    "    \"\"\" calculates the factorial of n, if n is either a non negative\n",
    "    integer or a float number x being equivalent to an integer, like\n",
    "    4.0, 12.0, 8. i.e. no decimals following the decimal point \"\"\"\n",
    "    def inner_factorial(n):\n",
    "        if n == 0:\n",
    "            return 1\n",
    "        else:\n",
    "            return n * inner_factorial(n-1)\n",
    "    if not isinstance(n, (int, float)):\n",
    "        raise ValueError(\"Value is neither an integer nor a float equivalent to int\")\n",
    "    if isinstance(n, (int))  and n < 0:\n",
    "        raise ValueError('Should be a positive integer or 0')\n",
    "    elif isinstance(n, (float)) and not n.is_integer():\n",
    "        raise ValueError('value is a float but not equivalent to an int')\n",
    "    else:\n",
    "        return inner_factorial(n)"
   ]
  },
  {
   "cell_type": "code",
   "execution_count": 23,
   "id": "5ffe235f-995d-4785-b8db-7ca69609f73c",
   "metadata": {},
   "outputs": [
    {
     "name": "stdout",
     "output_type": "stream",
     "text": [
      "0, 1\n",
      "1, 1\n",
      "5, 120\n",
      "7.0, 5040.0\n",
      "-4, Should be a positive integer or 0\n",
      "7.3, value is a float but not equivalent to an int\n",
      "7, Value is neither an integer nor a float equivalent to int\n"
     ]
    }
   ],
   "source": [
    "values = [0, 1, 5, 7.0, -4, 7.3, \"7\"]\n",
    "for value in values:\n",
    "    try: \n",
    "        print(value, end=\", \")\n",
    "        print(factorial(value))\n",
    "    except ValueError as e:\n",
    "        print(e)"
   ]
  },
  {
   "cell_type": "markdown",
   "id": "e705a10b-c930-4cc0-9fa0-dca8a062d15c",
   "metadata": {},
   "source": [
    "## Functions as Parameters"
   ]
  },
  {
   "cell_type": "code",
   "execution_count": 36,
   "id": "3f60dfd2-eff0-4053-9777-bdba2eac7877",
   "metadata": {},
   "outputs": [],
   "source": [
    "import math"
   ]
  },
  {
   "cell_type": "code",
   "execution_count": 38,
   "id": "c1b2c43c-59cb-46b8-a3c2-ec365fda6a95",
   "metadata": {},
   "outputs": [
    {
     "name": "stdout",
     "output_type": "stream",
     "text": [
      "Hi, it's me 'f'\n",
      "I will call 'func' now\n",
      "Hi, it's me 'g'\n",
      "Thanks for calling me\n",
      "func's real name is g\n"
     ]
    }
   ],
   "source": [
    "def g():\n",
    "    print(\"Hi, it's me 'g'\")\n",
    "    print(\"Thanks for calling me\")\n",
    "    \n",
    "def f(func):\n",
    "    # function is passed as argument in function f\n",
    "    print(\"Hi, it's me 'f'\")\n",
    "    print(\"I will call 'func' now\")\n",
    "    func() # here passed function will be called\n",
    "    print(\"func's real name is \" + func.__name__)\n",
    "    \n",
    "f(g)"
   ]
  },
  {
   "cell_type": "code",
   "execution_count": 40,
   "id": "3dd64794-cd1a-43be-b0fe-b9065b3a24e1",
   "metadata": {},
   "outputs": [
    {
     "name": "stdout",
     "output_type": "stream",
     "text": [
      "The function sin was passed to foo\n",
      "2.3492405557375347\n",
      "The function cos was passed to foo\n",
      "-0.6769881462259364\n"
     ]
    }
   ],
   "source": [
    "import math\n",
    "\n",
    "def foo(func):\n",
    "    print(\"The function \" + func.__name__ + \" was passed to foo\")\n",
    "    res = 0\n",
    "    for x in [1, 2, 2.5]:\n",
    "        res += func(x)\n",
    "    return res\n",
    "\n",
    "print(foo(math.sin))\n",
    "print(foo(math.cos))"
   ]
  },
  {
   "cell_type": "markdown",
   "id": "e44f777a-618a-4c99-87c6-292185401cc7",
   "metadata": {},
   "source": [
    "## Functions returning Functions"
   ]
  },
  {
   "cell_type": "code",
   "execution_count": 45,
   "id": "e68098d1-02eb-4be8-a57a-6217b5e43310",
   "metadata": {},
   "outputs": [
    {
     "name": "stdout",
     "output_type": "stream",
     "text": [
      "2\n",
      "4\n"
     ]
    }
   ],
   "source": [
    "def f(x):\n",
    "    def g(y):\n",
    "        return y + x\n",
    "    return g\n",
    "\n",
    "add1to = f(1) # THis retruns a function that will add 1 to any number passed to it\n",
    "add3to = f(3) # THis retruns a function that will add 3 to any number passed to it\n",
    "\n",
    "print(add1to(1))\n",
    "print(add3to(1))"
   ]
  },
  {
   "cell_type": "code",
   "execution_count": 48,
   "id": "652b2ca0-f462-4932-90f3-520088aa90a0",
   "metadata": {},
   "outputs": [
    {
     "name": "stdout",
     "output_type": "stream",
     "text": [
      "Günaydın Gülay!\n"
     ]
    }
   ],
   "source": [
    "def greeting_func_gen(lang):\n",
    "    \"\"\"\n",
    "    this function returns (or generates) functions which \n",
    "    can be used to create people in different languages, \n",
    "    i.e. German, French, Italian, Turkish, and Greek:\n",
    "    \"\"\"\n",
    "    def customized_greeting(name):\n",
    "        if lang == \"de\":   # German\n",
    "            phrase = \"Guten Morgen \"\n",
    "        elif lang == \"fr\": # French\n",
    "            phrase = \"Bonjour \"\n",
    "        elif lang == \"it\": # Italian\n",
    "            phrase = \"Buongiorno \"\n",
    "        elif lang == \"tr\": # Turkish\n",
    "            phrase = \"Günaydın \"\n",
    "        elif lang == \"gr\": # Greek\n",
    "            phrase = \"Καλημερα \"\n",
    "        else:\n",
    "            phrase = \"Hi \"\n",
    "        return phrase + name + \"!\"\n",
    "    return customized_greeting\n",
    "\n",
    "\n",
    "say_hi = greeting_func_gen(\"tr\")\n",
    "print(say_hi(\"Gülay\")) "
   ]
  },
  {
   "cell_type": "code",
   "execution_count": 49,
   "id": "68e2d298-9b98-4e56-81be-bdd5a9479abc",
   "metadata": {},
   "outputs": [],
   "source": [
    "# Python implementation as a polynomial factory function\n",
    "def polynomial_creator(*coefficients):\n",
    "    \"\"\" coefficients are in the form a_n, ... a_1, a_0 \n",
    "    \"\"\"\n",
    "    def polynomial(x):\n",
    "        res = 0\n",
    "        for index, coeff in enumerate(coefficients[::-1]):\n",
    "            res += coeff * x** index\n",
    "        return res\n",
    "    return polynomial\n",
    "  \n",
    "p1 = polynomial_creator(4)\n",
    "p2 = polynomial_creator(2, 4)\n",
    "p3 = polynomial_creator(1, 8, -1, 0, 3, 2)\n",
    "p4 = polynomial_creator(-1, 2, 1)\n",
    "p5 = polynomial_creator(4, 5, 7, 7, 9, 12, 3, 43, 9)"
   ]
  },
  {
   "cell_type": "markdown",
   "id": "2d9e3a0c-a43d-43d8-b3f7-389268cbb747",
   "metadata": {},
   "source": [
    "## The Usual Syntax for Decorators in Python"
   ]
  },
  {
   "cell_type": "code",
   "execution_count": 50,
   "id": "6e020390-9080-4e40-ad41-8d61df8c324d",
   "metadata": {},
   "outputs": [
    {
     "name": "stdout",
     "output_type": "stream",
     "text": [
      "We call foo before decoration:\n",
      "Hi, foo has been called with Hi\n",
      "We now decorate foo with f:\n",
      "We call foo after decoration:\n",
      "Before calling foo\n",
      "Hi, foo has been called with 42\n",
      "After calling foo\n"
     ]
    }
   ],
   "source": [
    "def our_decorator(func):\n",
    "    def function_wrapper(x):\n",
    "        print(\"Before calling \" + func.__name__)\n",
    "        func(x)\n",
    "        print(\"After calling \" + func.__name__)\n",
    "    return function_wrapper\n",
    "\n",
    "def foo(x):\n",
    "    print(\"Hi, foo has been called with \" + str(x))\n",
    "\n",
    "print(\"We call foo before decoration:\")\n",
    "foo(\"Hi\")\n",
    "    \n",
    "print(\"We now decorate foo with f:\")\n",
    "foo = our_decorator(foo)\n",
    "\n",
    "print(\"We call foo after decoration:\")\n",
    "foo(42)"
   ]
  },
  {
   "cell_type": "markdown",
   "id": "9ae47ac2-8fc5-46c0-b61e-557d282ad3c4",
   "metadata": {},
   "source": [
    "We will rewrite now our initial example. Instead of writing the statement\n",
    "\n",
    " foo = our_decorator(foo)\n",
    "we can write\n",
    "\n",
    " @our_decorator "
   ]
  },
  {
   "cell_type": "code",
   "execution_count": 51,
   "id": "72e4871b-a00d-46a0-a23a-fcad1dbb31ea",
   "metadata": {},
   "outputs": [
    {
     "name": "stdout",
     "output_type": "stream",
     "text": [
      "Before calling foo\n",
      "Hi, foo has been called with Hi\n",
      "After calling foo\n"
     ]
    }
   ],
   "source": [
    "def our_decorator(func):\n",
    "    def function_wrapper(x):\n",
    "        print(\"Before calling \" + func.__name__)\n",
    "        func(x)\n",
    "        print(\"After calling \" + func.__name__)\n",
    "    return function_wrapper\n",
    "\n",
    "@our_decorator\n",
    "def foo(x):\n",
    "    print(\"Hi, foo has been called with \" + str(x))\n",
    "\n",
    "foo(\"Hi\")"
   ]
  },
  {
   "cell_type": "code",
   "execution_count": 53,
   "id": "3bcf031a-4aad-4328-a276-4c8acc3debe8",
   "metadata": {},
   "outputs": [],
   "source": [
    "@our_decorator\n",
    "def vt(x):\n",
    "    print(math.pow(x,2))"
   ]
  },
  {
   "cell_type": "markdown",
   "id": "bf8a51f9-e580-47d6-86a9-83d8e7bcddd6",
   "metadata": {},
   "source": [
    "It is also possible to decorate third party functions, e.g. functions we import from a module. We can't use the Python syntax with the \"at\" sign in this case"
   ]
  },
  {
   "cell_type": "code",
   "execution_count": 54,
   "id": "4d4ac569-746f-4976-8cd5-17f17f528412",
   "metadata": {},
   "outputs": [
    {
     "name": "stdout",
     "output_type": "stream",
     "text": [
      "Before calling vt\n",
      "9.0\n",
      "After calling vt\n"
     ]
    }
   ],
   "source": [
    "from math import sin, cos\n",
    "\n",
    "def our_decorator(func):\n",
    "    def function_wrapper(x):\n",
    "        print(\"Before calling \" + func.__name__)\n",
    "        res = func(x)\n",
    "        print(res)\n",
    "        print(\"After calling \" + func.__name__)\n",
    "    return function_wrapper\n",
    "\n",
    "sin = our_decorator(sin)\n",
    "cos = our_decorator(cos)\n",
    "\n",
    "for f in [sin, cos]:\n",
    "    f(3.1415)"
   ]
  },
  {
   "cell_type": "markdown",
   "id": "68b3dd26-1d13-4a95-bef3-b25be94c6f13",
   "metadata": {},
   "source": [
    "#### Extending the Trigonometric Functions of math"
   ]
  },
  {
   "cell_type": "code",
   "execution_count": 56,
   "id": "c30607a5-4fcf-483c-94ed-b691988f68f5",
   "metadata": {},
   "outputs": [
    {
     "data": {
      "text/plain": [
       "3.141592653589793"
      ]
     },
     "execution_count": 56,
     "metadata": {},
     "output_type": "execute_result"
    }
   ],
   "source": [
    "math.pi"
   ]
  },
  {
   "cell_type": "code",
   "execution_count": 60,
   "id": "b1fe4d2c-ab7b-4231-bb27-7f96bf7b21c9",
   "metadata": {},
   "outputs": [
    {
     "name": "stdout",
     "output_type": "stream",
     "text": [
      "1.0\n",
      "1.0\n"
     ]
    }
   ],
   "source": [
    "from math import sin, cos\n",
    "\n",
    "def angledeco(func):\n",
    "    def helper(x,mode = 'radians'):\n",
    "        if mode == 'degrees':\n",
    "            x = x*math.pi/180\n",
    "        return func(x)\n",
    "    return helper\n",
    "\n",
    "sin_degree = angledeco(sin)\n",
    "print(sin_degree(90,'degrees'))\n",
    "sin_rad = angledeco(sin)\n",
    "print(sin_rad(math.pi/2))"
   ]
  },
  {
   "cell_type": "markdown",
   "id": "bc901bde-3a3b-4c9c-a240-0001ad9d455c",
   "metadata": {},
   "source": [
    "The above function_wrapper works only for functions with exactly one parameter. We provide a generalized version of the function_wrapper, which accepts functions with arbitrary parameters in the following example"
   ]
  },
  {
   "cell_type": "code",
   "execution_count": 75,
   "id": "45601935-bb8c-4325-94c0-538c5299cd64",
   "metadata": {},
   "outputs": [
    {
     "name": "stdout",
     "output_type": "stream",
     "text": [
      "Before calling random\n",
      "0.28707776256226036\n",
      "After calling random\n",
      "Before calling randint\n",
      "4\n",
      "After calling randint\n",
      "Before calling choice\n",
      "6\n",
      "After calling choice\n"
     ]
    }
   ],
   "source": [
    "from random import random, randint,choice\n",
    "def our_decorator(func):\n",
    "    def helper(*args,**kwargs):\n",
    "        print(\"Before calling \" + func.__name__)\n",
    "        ans = func(*args,**kwargs)\n",
    "        print(ans)\n",
    "        print(\"After calling \" + func.__name__)\n",
    "    return helper\n",
    "\n",
    "random = our_decorator(random)\n",
    "randint = our_decorator(randint)\n",
    "choice = our_decorator(choice)\n",
    "\n",
    "random()\n",
    "randint(3, 8)\n",
    "choice([4, 5, 6])"
   ]
  },
  {
   "cell_type": "markdown",
   "id": "6197d4be-0d90-4176-91de-2ada159f7ef8",
   "metadata": {},
   "source": [
    "#### Use Multiple decorator"
   ]
  },
  {
   "cell_type": "code",
   "execution_count": 80,
   "id": "ce272084-5922-40aa-a937-838eed53ecba",
   "metadata": {},
   "outputs": [
    {
     "name": "stdout",
     "output_type": "stream",
     "text": [
      "deco1 has been called\n",
      "deco2 has been called\n",
      "deco3 has been called\n",
      "\n",
      "----------Going to Call Function----------\n",
      "helper of deco3 has been called!\n",
      "45\n",
      "helper of deco2 has been called!\n",
      "45\n",
      "helper of deco1 has been called!\n",
      "45\n",
      "48\n"
     ]
    }
   ],
   "source": [
    "def deco1(func):\n",
    "    \n",
    "    print('deco1 has been called')\n",
    "    def helper(x):\n",
    "        print('helper of deco1 has been called!')\n",
    "        print(x)\n",
    "        return func(x) + 3\n",
    "    return helper\n",
    "    \n",
    "def deco2(func):\n",
    "    \n",
    "    print('deco2 has been called')\n",
    "    def helper(x):\n",
    "        print('helper of deco2 has been called!')\n",
    "        print(x)\n",
    "        return func(x) + 2\n",
    "    return helper\n",
    "    \n",
    "def deco3(func):\n",
    "    \n",
    "    print('deco3 has been called')\n",
    "    def helper(x):\n",
    "        print('helper of deco3 has been called!')\n",
    "        print(x)\n",
    "        return func(x) + 1\n",
    "    return helper\n",
    "    \n",
    "@deco3\n",
    "@deco2\n",
    "@deco1\n",
    "def foobar(x):\n",
    "    return 42\n",
    "print(\"\\n----------Going to Call Function----------\")\n",
    "print(foobar(45))"
   ]
  },
  {
   "cell_type": "markdown",
   "id": "6444a096-78a9-446c-8777-8603013801b0",
   "metadata": {},
   "source": [
    "The output shows us that the function foobar is first decorated with deco1, i.e. the decorator directly on top of the function definition. After this it is decorated with deco2 and than deco3.\n",
    "\n",
    "When we call the multiple times decorated function, it works the other way around"
   ]
  },
  {
   "cell_type": "markdown",
   "id": "fb03e99c-3178-4f8a-92f0-11f3ce6d8927",
   "metadata": {},
   "source": [
    "#### Checking Arguments with a Decorator"
   ]
  },
  {
   "cell_type": "code",
   "execution_count": 81,
   "id": "55922193-5e3b-4284-894f-ac3d03e285f4",
   "metadata": {},
   "outputs": [
    {
     "name": "stdout",
     "output_type": "stream",
     "text": [
      "1 True\n",
      "2 True\n",
      "3 True\n",
      "4 False\n",
      "5 True\n",
      "6 False\n",
      "7 True\n",
      "8 False\n",
      "9 False\n",
      "Argument is not a positve integer!\n"
     ]
    }
   ],
   "source": [
    "def argument_test_natural_number(f):\n",
    "    def helper(x):\n",
    "        if type(x) == int and x > 0:\n",
    "            return f(x)\n",
    "        else:\n",
    "            raise ValueError(\"Argument is not an integer\")\n",
    "    return helper\n",
    "\n",
    "@argument_test_natural_number\n",
    "def is_prime(n):\n",
    "    return all(n % i for i in range(2, n))\n",
    "\n",
    "for i in range(1,10):\n",
    "    print(i, is_prime(i))\n",
    "\n",
    "try:\n",
    "    print(is_prime(-1))\n",
    "except ValueError:\n",
    "    print(\"Argument is not a positve integer!\")"
   ]
  },
  {
   "cell_type": "markdown",
   "id": "546d34e6-b59f-4250-96cc-86f1ca35205f",
   "metadata": {},
   "source": [
    "#### Counting Function Calls with Decorators"
   ]
  },
  {
   "cell_type": "code",
   "execution_count": 87,
   "id": "c6c3c002-6e63-4dc5-9e26-c3ee41fa4de5",
   "metadata": {},
   "outputs": [
    {
     "name": "stdout",
     "output_type": "stream",
     "text": [
      "Succ called: 0\n",
      "1\n",
      "2\n",
      "3\n",
      "4\n",
      "5\n",
      "6\n",
      "7\n",
      "8\n",
      "9\n",
      "10\n",
      "Succ called: 10\n"
     ]
    }
   ],
   "source": [
    "def call_counter(func):\n",
    "    def helper(x):\n",
    "        helper.calls+=1\n",
    "        return func(x)\n",
    "    helper.calls=0\n",
    "    return helper\n",
    "\n",
    "@call_counter\n",
    "def succ(x):\n",
    "    return x + 1\n",
    "\n",
    "print('Succ called:',succ.calls)\n",
    "for i in range(10):\n",
    "    print(succ(i))\n",
    "    \n",
    "print('Succ called:',succ.calls)"
   ]
  },
  {
   "cell_type": "code",
   "execution_count": 91,
   "id": "cf38594b-b32f-4313-b750-802874066d53",
   "metadata": {},
   "outputs": [
    {
     "name": "stdout",
     "output_type": "stream",
     "text": [
      "0\n",
      "10\n",
      "3\n"
     ]
    }
   ],
   "source": [
    "def call_counter(func):\n",
    "    def helper(*args, **kwargs):\n",
    "        helper.calls += 1\n",
    "        return func(*args, **kwargs)\n",
    "    helper.calls = 0\n",
    "\n",
    "    return helper\n",
    "\n",
    "@call_counter\n",
    "def succ(x):\n",
    "    return x + 1\n",
    "\n",
    "@call_counter\n",
    "def mul1(x, y=1):\n",
    "    return x*y + 1\n",
    "\n",
    "print(succ.calls)\n",
    "for i in range(10):\n",
    "    succ(i)\n",
    "mul1(3, 4)\n",
    "mul1(4)\n",
    "mul1(y=3, x=2)\n",
    "    \n",
    "print(succ.calls)\n",
    "print(mul1.calls)"
   ]
  },
  {
   "cell_type": "markdown",
   "id": "652acc8c-467c-41a4-bf0e-3108a352aff2",
   "metadata": {},
   "source": [
    "## Decorators with Parameters"
   ]
  },
  {
   "cell_type": "code",
   "execution_count": 92,
   "id": "42184daf-3a23-489d-829e-af8b48bb4733",
   "metadata": {},
   "outputs": [
    {
     "name": "stdout",
     "output_type": "stream",
     "text": [
      "Good evening, foo returns:\n",
      "42\n"
     ]
    }
   ],
   "source": [
    "def evening_greeting(func):\n",
    "    def function_wrapper(x):\n",
    "        print(\"Good evening, \" + func.__name__ + \" returns:\")\n",
    "        return func(x)\n",
    "    return function_wrapper\n",
    "\n",
    "def morning_greeting(func):\n",
    "    def function_wrapper(x):\n",
    "        print(\"Good morning, \" + func.__name__ + \" returns:\")\n",
    "        return func(x)\n",
    "    return function_wrapper\n",
    "\n",
    "@evening_greeting\n",
    "def foo(x):\n",
    "    print(42)\n",
    "\n",
    "foo(\"Hi\")"
   ]
  },
  {
   "cell_type": "markdown",
   "id": "91ef7749-26ef-43ca-ba89-517593f57ba6",
   "metadata": {},
   "source": [
    "Above decorators are same excpet for greeting message to be print. So what we can do is pass argument in the decorator to customized it for small changes"
   ]
  },
  {
   "cell_type": "code",
   "execution_count": 95,
   "id": "a362916b-894f-4dd3-95ce-33c9b27569ad",
   "metadata": {},
   "outputs": [
    {
     "name": "stdout",
     "output_type": "stream",
     "text": [
      "Good Morning, foo returns:\n",
      "42\n"
     ]
    }
   ],
   "source": [
    "def greeting(expr):\n",
    "    # we need to decalre nested function outer takes the argument for the decorator and\n",
    "    # the innner is the main decorator which returns the function wrapper and this returned\n",
    "    # function wrapper is returned by outer function\n",
    "    def greeting_decorator(func):\n",
    "        def function_wrapper(x):\n",
    "            print(expr + \", \" + func.__name__ + \" returns:\")\n",
    "            func(x)\n",
    "        return function_wrapper\n",
    "    return greeting_decorator\n",
    "\n",
    "# @greeting(\"καλημερα\")\n",
    "@greeting('Good Morning')\n",
    "def foo(x):\n",
    "    print(42)\n",
    "\n",
    "foo(\"Hi\")"
   ]
  },
  {
   "cell_type": "code",
   "execution_count": 96,
   "id": "68f30e74-c100-4887-88a9-fa3394a87396",
   "metadata": {},
   "outputs": [
    {
     "name": "stdout",
     "output_type": "stream",
     "text": [
      "Good Evening, foo returns:\n",
      "42\n"
     ]
    }
   ],
   "source": [
    "@greeting('Good Evening')\n",
    "def foo(x):\n",
    "    print(42)\n",
    "\n",
    "foo(\"Hi\")"
   ]
  },
  {
   "cell_type": "code",
   "execution_count": 102,
   "id": "f58f253c-6fa0-4a2f-b399-f009f8075a7f",
   "metadata": {},
   "outputs": [
    {
     "name": "stdout",
     "output_type": "stream",
     "text": [
      "καλημερα, foo returns:\n",
      "42\n"
     ]
    }
   ],
   "source": [
    "# IF you can't use at sign then you call define argument decorator as below\n",
    "def greeting(expr):\n",
    "    def greeting_decorator(func):\n",
    "        def function_wrapper(x):\n",
    "            print(expr + \", \" + func.__name__ + \" returns:\")\n",
    "            return func(x)\n",
    "        return function_wrapper\n",
    "    return greeting_decorator\n",
    "\n",
    "\n",
    "def foo(x):\n",
    "    print(42)\n",
    "\n",
    "greeting2 = greeting(\"καλημερα\") #takes the argument\n",
    "foo = greeting2(foo) # wraps the fucntion with argumented decorator\n",
    "#**************OR****************#\n",
    "# foo = greeting(\"καλημερα\")(foo)\n",
    "foo(\"Hi\")"
   ]
  },
  {
   "cell_type": "markdown",
   "id": "af4743fc-a6a6-41e1-ad54-0fb6564bc59e",
   "metadata": {},
   "source": [
    "## Using wraps from functools"
   ]
  },
  {
   "cell_type": "markdown",
   "id": "213d3315-548e-49b7-b3d4-eeba34dfe919",
   "metadata": {},
   "source": [
    "The way we have defined decorators so far hasn't taken into account that the attributes\n",
    "* \\_\\_name\\_\\_ (name of the function),\n",
    "* \\_\\_doc\\_\\_ (the docstring) and\n",
    "* \\_\\_module\\_\\_ (The module in which the function is defined)\n",
    "\n",
    "of the original functions will be lost after the decoration."
   ]
  },
  {
   "cell_type": "code",
   "execution_count": 107,
   "id": "bd044853-f1e9-4e58-89b2-a7d66983a2c5",
   "metadata": {},
   "outputs": [
    {
     "name": "stdout",
     "output_type": "stream",
     "text": [
      "Hi, f returns:\n",
      "14\n",
      "Follwoing are the function values: \n",
      "function name: function_wrapper\n",
      "docstring:  function_wrapper of greeting \n",
      "module name: __main__\n"
     ]
    }
   ],
   "source": [
    "def greeting(func):\n",
    "    def function_wrapper(x):\n",
    "        \"\"\" function_wrapper of greeting \"\"\"\n",
    "        print(\"Hi, \" + func.__name__ + \" returns:\")\n",
    "        return func(x)\n",
    "    return function_wrapper \n",
    "\n",
    "@greeting\n",
    "def f(x):\n",
    "    \"\"\" just some silly function \"\"\"\n",
    "    return x + 4\n",
    "\n",
    "print(f(10))\n",
    "print('Follwoing are the function values: ')\n",
    "print(\"function name: \" + f.__name__)\n",
    "print(\"docstring: \" + f.__doc__)\n",
    "print(\"module name: \" + f.__module__) "
   ]
  },
  {
   "cell_type": "markdown",
   "id": "dc6a6b2e-5cfe-49cd-b9cf-543c5447acea",
   "metadata": {},
   "source": [
    "The above can be recitfied as below"
   ]
  },
  {
   "cell_type": "code",
   "execution_count": 109,
   "id": "29bbe744-b7a4-4e19-a565-7c281d243b59",
   "metadata": {},
   "outputs": [
    {
     "name": "stdout",
     "output_type": "stream",
     "text": [
      "Hi, f returns:\n",
      "function name: f\n",
      "docstring:  just some silly function \n",
      "module name: __main__\n"
     ]
    }
   ],
   "source": [
    "def greeting(func):\n",
    "    def function_wrapper(x):\n",
    "        \"\"\" function_wrapper of greeting \"\"\"\n",
    "        print(\"Hi, \" + func.__name__ + \" returns:\")\n",
    "        return func(x)\n",
    "    # set the wrapper function values to the values given by the func\n",
    "    function_wrapper.__name__ = func.__name__\n",
    "    function_wrapper.__doc__ = func.__doc__\n",
    "    function_wrapper.__module__ = func.__module__\n",
    "    return function_wrapper\n",
    "@greeting\n",
    "def f(x):\n",
    "    \"\"\" just some silly function \"\"\"\n",
    "    return x + 4\n",
    "\n",
    "f(10)\n",
    "print(\"function name: \" + f.__name__)\n",
    "print(\"docstring: \" + f.__doc__)\n",
    "print(\"module name: \" + f.__module__) "
   ]
  },
  {
   "cell_type": "markdown",
   "id": "4f891876-60be-45fb-b232-24f9ad9ef890",
   "metadata": {},
   "source": [
    "We can use FuncTools instead of above"
   ]
  },
  {
   "cell_type": "code",
   "execution_count": 110,
   "id": "66655769-cf0c-4b74-812b-cba28fb6c7c3",
   "metadata": {},
   "outputs": [
    {
     "name": "stdout",
     "output_type": "stream",
     "text": [
      "Hi, f returns:\n",
      "function name: f\n",
      "docstring:  just some silly function \n",
      "module name: __main__\n"
     ]
    }
   ],
   "source": [
    "from functools import wraps\n",
    "\n",
    "def greeting(func):\n",
    "    @wraps(func)\n",
    "    def function_wrapper(x):\n",
    "        \"\"\" function_wrapper of greeting \"\"\"\n",
    "        print(\"Hi, \" + func.__name__ + \" returns:\")\n",
    "        return func(x)\n",
    "    return function_wrapper\n",
    "@greeting\n",
    "def f(x):\n",
    "    \"\"\" just some silly function \"\"\"\n",
    "    return x + 4\n",
    "\n",
    "f(10)\n",
    "print(\"function name: \" + f.__name__)\n",
    "print(\"docstring: \" + f.__doc__)\n",
    "print(\"module name: \" + f.__module__) "
   ]
  },
  {
   "cell_type": "markdown",
   "id": "00a71826-874f-459e-b117-31453c557dd8",
   "metadata": {},
   "source": [
    "## Classes instead of Functions\n",
    "#### The call method\n",
    "A function is a callable object, but lots of Python programmers don't know that there are other callable objects. A callable object is an object which can be used and behaves like a function but might not be a function. It is possible to define classes in a way that the instances will be callable objects. The __call__ method is called, if the instance is called \"like a function\""
   ]
  },
  {
   "cell_type": "code",
   "execution_count": 111,
   "id": "3a0c9077-83c1-4fed-8494-04dca6737492",
   "metadata": {},
   "outputs": [
    {
     "name": "stdout",
     "output_type": "stream",
     "text": [
      "An instance of A was initialized\n",
      "now calling the instance:\n",
      "Arguments are: (3, 4) {'x': 11, 'y': 10}\n",
      "Let's call it again:\n",
      "Arguments are: (3, 4) {'x': 11, 'y': 10}\n"
     ]
    }
   ],
   "source": [
    "class A:\n",
    "    def __init__(self):\n",
    "        print(\"An instance of A was initialized\")\n",
    "    \n",
    "    def __call__(self, *args, **kwargs):\n",
    "        print(\"Arguments are:\", args, kwargs)\n",
    "              \n",
    "x = A()\n",
    "print(\"now calling the instance:\")\n",
    "x(3, 4, x=11, y=10)\n",
    "print(\"Let's call it again:\")\n",
    "x(3, 4, x=11, y=10)"
   ]
  },
  {
   "cell_type": "code",
   "execution_count": 112,
   "id": "fcf12aa9-488d-4bde-9974-9c76c1efb38a",
   "metadata": {},
   "outputs": [
    {
     "name": "stdout",
     "output_type": "stream",
     "text": [
      "0, 1, 1, 2, 3, 5, 8, 13, 21, 34, 55, 89, 144, 233, 377, "
     ]
    }
   ],
   "source": [
    "class Fibonacci:\n",
    "\n",
    "    def __init__(self):\n",
    "        self.cache = {}\n",
    "\n",
    "    def __call__(self, n):\n",
    "        if n not in self.cache:\n",
    "            if n == 0:\n",
    "                self.cache[0] = 0\n",
    "            elif n == 1:\n",
    "                self.cache[1] = 1\n",
    "            else:\n",
    "                self.cache[n] = self.__call__(n-1) + self.__call__(n-2)\n",
    "        return self.cache[n]\n",
    "\n",
    "fib = Fibonacci()\n",
    "\n",
    "for i in range(15):\n",
    "    print(fib(i), end=\", \")"
   ]
  },
  {
   "cell_type": "markdown",
   "id": "4a707678-6c36-43ce-bba3-6abd26f13ee9",
   "metadata": {},
   "source": [
    "#### Using a Class as a Decorator"
   ]
  },
  {
   "cell_type": "code",
   "execution_count": 114,
   "id": "3917187c-4a85-494b-940b-417791dc2331",
   "metadata": {},
   "outputs": [
    {
     "name": "stdout",
     "output_type": "stream",
     "text": [
      "Decorating foo\n",
      "inside foo()\n"
     ]
    }
   ],
   "source": [
    "def decorator1(f):\n",
    "    def helper():\n",
    "        print(\"Decorating\",f.__name__)\n",
    "        f()\n",
    "    return helper\n",
    "\n",
    "@decorator1\n",
    "def foo():\n",
    "    print(\"inside foo()\")\n",
    "    \n",
    "foo()"
   ]
  },
  {
   "cell_type": "code",
   "execution_count": 117,
   "id": "dd8f5aba-d9f7-4977-af99-8920e8e8c661",
   "metadata": {},
   "outputs": [
    {
     "name": "stdout",
     "output_type": "stream",
     "text": [
      "Decorating foo\n",
      "inside foo() with decorator2\n"
     ]
    }
   ],
   "source": [
    "class decorator2:\n",
    "    def __init__(self,f):\n",
    "        self.f = f\n",
    "    \n",
    "    def __call__(self):\n",
    "        print(\"Decorating\",self.f.__name__)\n",
    "        self.f()\n",
    "        \n",
    "@decorator2\n",
    "def foo():\n",
    "    print(\"inside foo() with decorator2\")\n",
    "    \n",
    "foo()"
   ]
  },
  {
   "cell_type": "code",
   "execution_count": null,
   "id": "cdcf2c5b-1369-4a01-b39d-d345428c3136",
   "metadata": {},
   "outputs": [],
   "source": []
  }
 ],
 "metadata": {
  "kernelspec": {
   "display_name": "Python 3",
   "language": "python",
   "name": "python3"
  },
  "language_info": {
   "codemirror_mode": {
    "name": "ipython",
    "version": 3
   },
   "file_extension": ".py",
   "mimetype": "text/x-python",
   "name": "python",
   "nbconvert_exporter": "python",
   "pygments_lexer": "ipython3",
   "version": "3.8.8"
  }
 },
 "nbformat": 4,
 "nbformat_minor": 5
}
