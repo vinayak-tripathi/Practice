{
 "cells": [
  {
   "cell_type": "code",
   "execution_count": 2,
   "id": "6bd9cad2-85fb-4ca0-ae31-af6598091005",
   "metadata": {},
   "outputs": [],
   "source": [
    "import re"
   ]
  },
  {
   "cell_type": "markdown",
   "id": "e3e2dd70-4bf6-4023-b4ec-6c5d776d06b2",
   "metadata": {},
   "source": [
    "Raw string literal\n",
    "\n",
    "Python raw string treats the backslash character (\\\\) as a literal character."
   ]
  },
  {
   "cell_type": "markdown",
   "id": "0df97d39-666a-419b-93b8-d1e0f1c4efc9",
   "metadata": {
    "tags": []
   },
   "source": [
    "## Patterns Forming"
   ]
  },
  {
   "cell_type": "markdown",
   "id": "0313d52a-3606-4ebc-a6db-bb9789aa5a74",
   "metadata": {
    "tags": []
   },
   "source": [
    "### Basic Patterns: Ordinary Characters"
   ]
  },
  {
   "cell_type": "code",
   "execution_count": 2,
   "id": "d43244e9-b30c-4669-8dd3-8affe04aaccf",
   "metadata": {},
   "outputs": [
    {
     "name": "stdout",
     "output_type": "stream",
     "text": [
      "Match!\n"
     ]
    }
   ],
   "source": [
    "pattern = r\"Cookie\"\n",
    "sequence = \"Cookie\"\n",
    "if re.match(pattern, sequence):\n",
    "    print(\"Match!\")\n",
    "else: print(\"Not a match!\")"
   ]
  },
  {
   "cell_type": "markdown",
   "id": "ebfbaa31-8d7f-4cdd-8bbb-0fb70a60feb1",
   "metadata": {},
   "source": [
    "`search` function scans for first location in string for the given pattern\n",
    "\n",
    "`group` function returns the string matched by the re"
   ]
  },
  {
   "cell_type": "markdown",
   "id": "9d3ab074-c75d-42d6-956d-194a6bd36804",
   "metadata": {},
   "source": [
    "### Wild Card Characters: Special Characters\n",
    ". - A period. Matches any single character except the newline character."
   ]
  },
  {
   "cell_type": "code",
   "execution_count": 11,
   "id": "4abbbf69-4d77-45af-9cba-267dee783f3f",
   "metadata": {},
   "outputs": [
    {
     "data": {
      "text/plain": [
       "'Cookie'"
      ]
     },
     "execution_count": 11,
     "metadata": {},
     "output_type": "execute_result"
    }
   ],
   "source": [
    "re.search(r'Co.k.e', 'Cookie').group()"
   ]
  },
  {
   "cell_type": "markdown",
   "id": "32483bd7-e9fe-4a33-a1da-1c5954532db7",
   "metadata": {},
   "source": [
    "^ - A caret. Matches the start of the string."
   ]
  },
  {
   "cell_type": "code",
   "execution_count": 13,
   "id": "86034cc8-816c-4360-b4ec-87c24e03d2c7",
   "metadata": {},
   "outputs": [
    {
     "data": {
      "text/plain": [
       "'Eat'"
      ]
     },
     "execution_count": 13,
     "metadata": {},
     "output_type": "execute_result"
    }
   ],
   "source": [
    "re.search(r'^Eat', \"Eat cake!\").group()\n",
    "\n",
    "## However, the code below will not give the same result. Try it for yourself:\n",
    "# re.search(r'^eat', \"Let's eat cake!\").group()"
   ]
  },
  {
   "cell_type": "markdown",
   "id": "16716a39-aa59-4319-8156-f7eecada8dc6",
   "metadata": {},
   "source": [
    "$ - Matches the end of string."
   ]
  },
  {
   "cell_type": "code",
   "execution_count": 14,
   "id": "72fddecf-1320-4ffb-9b43-2c6f860aecb5",
   "metadata": {},
   "outputs": [
    {
     "data": {
      "text/plain": [
       "'cake'"
      ]
     },
     "execution_count": 14,
     "metadata": {},
     "output_type": "execute_result"
    }
   ],
   "source": [
    "re.search(r'cake$', \"Cake! Let's eat cake\").group()\n",
    "\n",
    "## The next search will return the NONE value, try it:\n",
    "# re.search(r'cake$', \"Let's get some cake on our way home!\").group()"
   ]
  },
  {
   "cell_type": "markdown",
   "id": "71c58c27-35a6-4781-842d-3757b1dbd2bf",
   "metadata": {},
   "source": [
    "[abc] - Matches a or b or c.\n",
    "\n",
    "[a-zA-Z0-9] - Matches any letter from (a to z) or (A to Z) or (0 to 9).\n",
    "\n",
    "If the first character of the set is ^, all the characters that are not in the set will be matched. That is [^5-9] means not in set [5-9]"
   ]
  },
  {
   "cell_type": "code",
   "execution_count": 27,
   "id": "8c400601-a5cc-4e50-918f-7599b9bec7e0",
   "metadata": {},
   "outputs": [
    {
     "name": "stdout",
     "output_type": "stream",
     "text": [
      "['u', 'm', 'b', 'e', 'r', '5']\n",
      "['Vinayak', '2019110067']\n"
     ]
    }
   ],
   "source": [
    "print(re.findall(r'[a-z0-6]', 'Number: 5'))\n",
    "print(re.findall(r'[a-zA-Z0-9]+','Vinayak 2019110067'))"
   ]
  },
  {
   "cell_type": "code",
   "execution_count": 33,
   "id": "490eaf5b-4aa3-48b9-9e2f-1dbb0454badd",
   "metadata": {},
   "outputs": [
    {
     "name": "stdout",
     "output_type": "stream",
     "text": [
      "Number: 1\n"
     ]
    }
   ],
   "source": [
    "print(re.search(r'Number: [^5-9]', 'Number: 10').group())"
   ]
  },
  {
   "cell_type": "markdown",
   "id": "3d52d4d5-7211-4507-8aea-8765115c9e35",
   "metadata": {},
   "source": [
    "\\ - Backslash"
   ]
  },
  {
   "cell_type": "code",
   "execution_count": 34,
   "id": "596c4406-cd58-449c-b218-793af275b9c7",
   "metadata": {},
   "outputs": [
    {
     "data": {
      "text/plain": [
       "'Not a regular character'"
      ]
     },
     "execution_count": 34,
     "metadata": {},
     "output_type": "execute_result"
    }
   ],
   "source": [
    "## (Scenario 1) This treats '\\s' as an escape character, '\\s' defines a space\n",
    "re.search(r'Not a\\sregular character', 'Not a regular character').group()"
   ]
  },
  {
   "cell_type": "code",
   "execution_count": 45,
   "id": "36fd744f-21fc-43dd-885a-b3ba8f635690",
   "metadata": {},
   "outputs": [
    {
     "data": {
      "text/plain": [
       "'Just a \\negular character'"
      ]
     },
     "execution_count": 45,
     "metadata": {},
     "output_type": "execute_result"
    }
   ],
   "source": [
    "## (Scenario 2) '\\' is treated as an ordinary character, because '\\r' is not a recognized escape character\n",
    "re.search(r'Just a \\negular character', 'Just a \\negular character').group()"
   ]
  },
  {
   "cell_type": "code",
   "execution_count": 47,
   "id": "e81fccd7-25ac-49b8-a8f9-20e5e2b409ca",
   "metadata": {},
   "outputs": [
    {
     "data": {
      "text/plain": [
       "'Just a \\\\sregular character'"
      ]
     },
     "execution_count": 47,
     "metadata": {},
     "output_type": "execute_result"
    }
   ],
   "source": [
    "## (Scenario 3) '\\s' is escaped using an extra `\\` so its interpreted as a literal string '\\s'\n",
    "re.search(r'Just a \\\\sregular character', 'Just a \\sregular character').group()"
   ]
  },
  {
   "cell_type": "code",
   "execution_count": 48,
   "id": "fb635067-97b1-4c46-9629-859815a7405d",
   "metadata": {},
   "outputs": [
    {
     "name": "stdout",
     "output_type": "stream",
     "text": [
      "Lowercase w: Cookie\n",
      "Uppercase W: C@ke\n",
      "Uppercase W won't match, and return: None\n"
     ]
    }
   ],
   "source": [
    "print(\"Lowercase w:\", re.search(r'Co\\wk\\we', 'Cookie').group())\n",
    "\n",
    "## Matches any character except single letter, digit or underscore\n",
    "print(\"Uppercase W:\", re.search(r'C\\Wke', 'C@ke').group())\n",
    "\n",
    "## Uppercase W won't match single letter, digit\n",
    "print(\"Uppercase W won't match, and return:\", re.search(r'Co\\Wk\\We', 'Cookie'))"
   ]
  },
  {
   "cell_type": "markdown",
   "id": "5c869698-4232-4f72-8095-1d443072b7bf",
   "metadata": {},
   "source": [
    "\\w - Lowercase 'w'. Matches any single letter, digit, or underscore.\n",
    "\n",
    "\\W - Uppercase 'W'. Matches any character not part of \\w (lowercase w)."
   ]
  },
  {
   "cell_type": "code",
   "execution_count": 49,
   "id": "a0002e7b-ea03-4455-80a3-abd465bb64f3",
   "metadata": {},
   "outputs": [
    {
     "name": "stdout",
     "output_type": "stream",
     "text": [
      "Lowercase w: Cookie\n",
      "Uppercase W: C@ke\n",
      "Uppercase W won't match, and return: None\n"
     ]
    }
   ],
   "source": [
    "print(\"Lowercase w:\", re.search(r'Co\\wk\\we', 'Cookie').group())\n",
    "\n",
    "## Matches any character except single letter, digit or underscore\n",
    "print(\"Uppercase W:\", re.search(r'C\\Wke', 'C@ke').group())\n",
    "\n",
    "## Uppercase W won't match single letter, digit\n",
    "print(\"Uppercase W won't match, and return:\", re.search(r'Co\\Wk\\We', 'Cookie'))"
   ]
  },
  {
   "cell_type": "markdown",
   "id": "b104f12c-706d-4c7e-af9a-a32287f11e5e",
   "metadata": {},
   "source": [
    "\\s - Lowercase 's'. Matches a single whitespace character like: space, newline, tab, return.\n",
    "\n",
    "\\S - Uppercase 'S'. Matches any character not part of \\s (lowercase s)."
   ]
  },
  {
   "cell_type": "code",
   "execution_count": 50,
   "id": "81f5cf5c-9413-470d-8552-6123c3b77dd1",
   "metadata": {},
   "outputs": [
    {
     "name": "stdout",
     "output_type": "stream",
     "text": [
      "Lowercase s: Eat cake\n",
      "Uppercase S: cookie\n"
     ]
    }
   ],
   "source": [
    "print(\"Lowercase s:\", re.search(r'Eat\\scake', 'Eat cake').group())\n",
    "print(\"Uppercase S:\", re.search(r'cook\\Se', \"Let's eat cookie\").group())"
   ]
  },
  {
   "cell_type": "markdown",
   "id": "967ff46c-e98e-4be4-a6fb-d701da3cc842",
   "metadata": {},
   "source": [
    "\\d - Lowercase d. Matches decimal digit 0-9.\n",
    "\n",
    "\\D - Uppercase d. Matches any character that is not a decimal digit."
   ]
  },
  {
   "cell_type": "code",
   "execution_count": 54,
   "id": "3401f58c-3a0e-490c-a8a5-04a3989962e4",
   "metadata": {},
   "outputs": [
    {
     "name": "stdout",
     "output_type": "stream",
     "text": [
      "100\n"
     ]
    }
   ],
   "source": [
    "# Example for \\d\n",
    "print(re.search(r'\\d+', '100 cookies').group())"
   ]
  },
  {
   "cell_type": "markdown",
   "id": "dd09938e-82d0-4a2a-960f-6b85e28b18f9",
   "metadata": {},
   "source": [
    "\\t - Lowercase t. Matches tab.\n",
    "\n",
    "\\n - Lowercase n. Matches newline.\n",
    "\n",
    "\\r - Lowercase r. Matches return.\n",
    "\n",
    "\\A - Uppercase a. Matches only at the start of the string. Works across multiple lines as well.\n",
    "\n",
    "\\Z - Uppercase z. Matches only at the end of the string.\n",
    "\n",
    "TIP: ^ and \\A are effectively the same, and so are $ and \\Z. Except when dealing with MULTILINE mode. Learn more about it in the flags section.\n",
    "\n",
    "\\b - Lowercase b. Matches only the beginning or end of the word."
   ]
  },
  {
   "cell_type": "code",
   "execution_count": 65,
   "id": "f5f553b2-8a29-4493-9e24-cb8d29fc2188",
   "metadata": {},
   "outputs": [
    {
     "name": "stdout",
     "output_type": "stream",
     "text": [
      "\\t (TAB) example:  Eat\tcake\n",
      "\\b match gives:  ['Cookie', 'Bookie']\n"
     ]
    }
   ],
   "source": [
    "# Example for \\t\n",
    "print(\"\\\\t (TAB) example: \", re.search(r'Eat\\tcake', 'Eat\\tcake').group())\n",
    "\n",
    "# Example for \\b\n",
    "print(\"\\\\b match gives: \",re.findall(r'\\b[A-E]ookie', 'Cookie Bookie'))"
   ]
  },
  {
   "cell_type": "markdown",
   "id": "9587e7f5-fde7-4ac0-adbd-df82e2a0e43b",
   "metadata": {},
   "source": [
    "### Repetions\n",
    "\n",
    "`The + and * qualifiers are said to be greedy`\n",
    "\n",
    "\\+ - Checks if the preceding character appears one or more times starting from that position."
   ]
  },
  {
   "cell_type": "code",
   "execution_count": 11,
   "id": "7175a1ff-c27b-4c88-896b-47cf141b0a29",
   "metadata": {},
   "outputs": [
    {
     "data": {
      "text/plain": [
       "'Cookie'"
      ]
     },
     "execution_count": 11,
     "metadata": {},
     "output_type": "execute_result"
    }
   ],
   "source": [
    "re.search(r'Co+kie', 'Cookie').group()"
   ]
  },
  {
   "cell_type": "markdown",
   "id": "ea21a806-dd3c-4049-94d4-772329b45f11",
   "metadata": {},
   "source": [
    "\\* - Checks if the preceding character appears zero or more times starting from that position."
   ]
  },
  {
   "cell_type": "code",
   "execution_count": 12,
   "id": "88c36adf-6fa9-4ad1-a7b9-47ce8092017a",
   "metadata": {},
   "outputs": [
    {
     "data": {
      "text/plain": [
       "'Cookie'"
      ]
     },
     "execution_count": 12,
     "metadata": {},
     "output_type": "execute_result"
    }
   ],
   "source": [
    "# Checks for any occurrence of a or o or both in the given sequence\n",
    "re.search(r'Ca*o*kie', 'Cookie').group()"
   ]
  },
  {
   "cell_type": "markdown",
   "id": "f6e7e880-4579-428b-b653-2723b54bf53b",
   "metadata": {},
   "source": [
    "? - Checks if the preceding character appears exactly zero or one time starting from that position."
   ]
  },
  {
   "cell_type": "code",
   "execution_count": 22,
   "id": "e5e1823d-2f3b-4335-8830-9980d65cef58",
   "metadata": {},
   "outputs": [
    {
     "name": "stdout",
     "output_type": "stream",
     "text": [
      "['Colour']\n",
      "['Color']\n",
      "[]\n"
     ]
    }
   ],
   "source": [
    "# Checks for exactly zero or one occurrence of a or o or both in the given sequence\n",
    "print(re.findall(r'Colou?r', 'Colour'))\n",
    "print(re.findall(r'Colou?r', 'Color'))\n",
    "print(re.findall(r'Colou?r', 'Colouur'))"
   ]
  },
  {
   "cell_type": "markdown",
   "id": "a005f4fe-d89b-4d04-b192-a8e52a3475a6",
   "metadata": {},
   "source": [
    "{x} - Repeat exactly x number of times.\n",
    "\n",
    "{x,} - Repeat at least x times or more.\n",
    "\n",
    "{x, y} - Repeat at least x times but no more than y times."
   ]
  },
  {
   "cell_type": "code",
   "execution_count": 38,
   "id": "d1288aa4-40cd-4635-8047-260fe2e655d0",
   "metadata": {},
   "outputs": [
    {
     "data": {
      "text/plain": [
       "['0987654321']"
      ]
     },
     "execution_count": 38,
     "metadata": {},
     "output_type": "execute_result"
    }
   ],
   "source": [
    "re.findall(r'\\d{1,10}', '0987654321')"
   ]
  },
  {
   "cell_type": "markdown",
   "id": "338eb621-0a49-45f2-93d4-c3780f7380f8",
   "metadata": {},
   "source": [
    "### Grouping in Regular Expressions\n",
    "The group feature of regular expression allows you to pick up parts of the matching text. Parts of a regular expression pattern bounded by parenthesis () are called groups."
   ]
  },
  {
   "cell_type": "code",
   "execution_count": 44,
   "id": "78ce6fda-d795-49b3-91fe-39ea8da9390b",
   "metadata": {},
   "outputs": [
    {
     "name": "stdout",
     "output_type": "stream",
     "text": [
      "Email address: support@datacamp.com\n",
      "Username: support\n",
      "Host: datacamp.com\n"
     ]
    }
   ],
   "source": [
    "statement = 'Please contact us at: support@datacamp.com,vinayak@vt.in'\n",
    "match = re.search(r'([\\w\\.-]+)@([\\w\\.-]+)', statement)\n",
    "# notice the parenthesis\n",
    "if statement:\n",
    "    print(\"Email address:\", match.group()) # The whole matched text\n",
    "    print(\"Username:\", match.group(1)) # The username (group 1)\n",
    "    print(\"Host:\", match.group(2)) # The host (group 2)"
   ]
  },
  {
   "cell_type": "code",
   "execution_count": 45,
   "id": "24415cd9-6990-4e45-ac5b-9d1abf36503a",
   "metadata": {},
   "outputs": [
    {
     "data": {
      "text/plain": [
       "[('support', 'datacamp.com'), ('vinayak', 'vt.in')]"
      ]
     },
     "execution_count": 45,
     "metadata": {},
     "output_type": "execute_result"
    }
   ],
   "source": [
    "re.findall(r'([\\w\\.-]+)@([\\w\\.-]+)', statement)"
   ]
  },
  {
   "cell_type": "markdown",
   "id": "1d3fe7fc-975b-4898-ba4f-ee84d4c12cb9",
   "metadata": {},
   "source": [
    "<> brackets :will let you create named groups.<br>\n",
    "The syntax for creating named group is: (?P\\<name>...)"
   ]
  },
  {
   "cell_type": "code",
   "execution_count": 47,
   "id": "e4930b95-98bd-48a2-b604-3b710cb51c0f",
   "metadata": {},
   "outputs": [
    {
     "name": "stdout",
     "output_type": "stream",
     "text": [
      "Email address: support@datacamp.com\n",
      "Username: support\n",
      "Host: datacamp.com\n"
     ]
    }
   ],
   "source": [
    "statement = 'Please contact us at: support@datacamp.com'\n",
    "match = re.search(r'(?P<email>(?P<username>[\\w\\.-]+)@(?P<host>[\\w\\.-]+))', statement)\n",
    "if statement:\n",
    "    print(\"Email address:\", match.group('email'))\n",
    "    print(\"Username:\", match.group('username'))\n",
    "    print(\"Host:\", match.group('host'))"
   ]
  },
  {
   "cell_type": "code",
   "execution_count": 48,
   "id": "1cef35c0-c8db-4460-b5c6-6c05f2560114",
   "metadata": {},
   "outputs": [
    {
     "data": {
      "text/plain": [
       "[('support@datacamp.com', 'support', 'datacamp.com')]"
      ]
     },
     "execution_count": 48,
     "metadata": {},
     "output_type": "execute_result"
    }
   ],
   "source": [
    "re.findall(r'(?P<email>(?P<username>[\\w\\.-]+)@(?P<host>[\\w\\.-]+))', statement)"
   ]
  },
  {
   "cell_type": "markdown",
   "id": "200054b6-878d-4110-9d28-adf171b295c0",
   "metadata": {},
   "source": [
    "### Greedy vs. Non-Greedy Matching"
   ]
  },
  {
   "cell_type": "markdown",
   "id": "99cfdc00-9f3e-4428-9c47-b7006623b888",
   "metadata": {},
   "source": [
    "When a special character matches as much of the search sequence (string) as possible, it is said to be a \"Greedy Match\"."
   ]
  },
  {
   "cell_type": "code",
   "execution_count": 52,
   "id": "740ceb6b-3e49-471f-9ac4-930ddea42d3a",
   "metadata": {},
   "outputs": [
    {
     "data": {
      "text/plain": [
       "'<h1>TITLE</h1>'"
      ]
     },
     "execution_count": 52,
     "metadata": {},
     "output_type": "execute_result"
    }
   ],
   "source": [
    "pattern = \"cookie\"\n",
    "sequence = \"Cake and cookie\"\n",
    "\n",
    "heading  = r'<h1>TITLE</h1>'\n",
    "re.match(r'<.*>', heading).group()\n",
    "# desired output is <h1> and <h2>\n",
    "# but The pattern <.*> matched the whole \n",
    "#string, right up to the second occurrence of >."
   ]
  },
  {
   "cell_type": "markdown",
   "id": "6d065d5f-8a1d-4ac2-8c46-fd5e953edb67",
   "metadata": {},
   "source": [
    "? after the qualifier makes it perform the match in a non-greedy or minimal fashion"
   ]
  },
  {
   "cell_type": "code",
   "execution_count": 55,
   "id": "d586a6ce-cdfe-4089-80d4-87359841c3a2",
   "metadata": {},
   "outputs": [
    {
     "name": "stdout",
     "output_type": "stream",
     "text": [
      "<h1>\n",
      "['<h1>', '</h1>']\n"
     ]
    }
   ],
   "source": [
    "heading  = r'<h1>TITLE</h1>'\n",
    "print(re.match(r'<.*?>', heading).group())\n",
    "print(re.findall(r'<.*?>', heading))"
   ]
  },
  {
   "cell_type": "markdown",
   "id": "41e87eba-b3fa-405a-b322-f06a7dffe749",
   "metadata": {},
   "source": [
    "### Summary\n",
    "\n",
    "<table>\n",
    "<thead>\n",
    "<tr>\n",
    "<th style=\"text-align: left;\">Character(s)</th>\n",
    "<th style=\"text-align: left;\">What it does</th>\n",
    "</tr>\n",
    "</thead>\n",
    "<tbody>\n",
    "<tr>\n",
    "<td style=\"text-align: left;\">.</td>\n",
    "<td style=\"text-align: left;\">A period. Matches any single character except the newline character.</td>\n",
    "</tr>\n",
    "<tr>\n",
    "<td style=\"text-align: left;\">^</td>\n",
    "<td style=\"text-align: left;\">A caret. Matches a pattern at the start of the string.</td>\n",
    "</tr>\n",
    "<tr>\n",
    "<td style=\"text-align: left;\">\\A</td>\n",
    "<td style=\"text-align: left;\">Uppercase A. Matches only at the start of the string.</td>\n",
    "</tr>\n",
    "<tr>\n",
    "<td style=\"text-align: left;\">$</td>\n",
    "<td style=\"text-align: left;\">Dollar sign. Matches the end of the string.</td>\n",
    "</tr>\n",
    "<tr>\n",
    "<td style=\"text-align: left;\">\\Z</td>\n",
    "<td style=\"text-align: left;\">Uppercase Z. Matches only at the end of the string.</td>\n",
    "</tr>\n",
    "<tr>\n",
    "<td style=\"text-align: left;\">[ ]</td>\n",
    "<td style=\"text-align: left;\">Matches the set of characters you specify within it.</td>\n",
    "</tr>\n",
    "<tr>\n",
    "<td style=\"text-align: left;\">\\</td>\n",
    "<td style=\"text-align: left;\">∙ If the character following the backslash is a recognized escape character, then the special meaning of the term is taken. <br>∙ Else the backslash () is treated like any other character and passed through. <br>∙ It can be used in front of all the metacharacters to remove their special meaning.</td>\n",
    "</tr>\n",
    "<tr>\n",
    "<td style=\"text-align: left;\">\\w</td>\n",
    "<td style=\"text-align: left;\">Lowercase w. Matches any single letter, digit, or underscore.</td>\n",
    "</tr>\n",
    "<tr>\n",
    "<td style=\"text-align: left;\">\\W</td>\n",
    "<td style=\"text-align: left;\">Uppercase W. Matches any character not part of <code>\\w</code> (lowercase w).</td>\n",
    "</tr>\n",
    "<tr>\n",
    "<td style=\"text-align: left;\">\\s</td>\n",
    "<td style=\"text-align: left;\">Lowercase s. Matches a single whitespace character like: space, newline, tab, return.</td>\n",
    "</tr>\n",
    "<tr>\n",
    "<td style=\"text-align: left;\">\\S</td>\n",
    "<td style=\"text-align: left;\">Uppercase S. Matches any character not part of <code>\\s</code> (lowercase s).</td>\n",
    "</tr>\n",
    "<tr>\n",
    "<td style=\"text-align: left;\">\\d</td>\n",
    "<td style=\"text-align: left;\">Lowercase d. Matches decimal digit 0-9.</td>\n",
    "</tr>\n",
    "<tr>\n",
    "<td style=\"text-align: left;\">\\D</td>\n",
    "<td style=\"text-align: left;\">Uppercase D. Matches any character that is not a decimal digit.</td>\n",
    "</tr>\n",
    "<tr>\n",
    "<td style=\"text-align: left;\">\\t</td>\n",
    "<td style=\"text-align: left;\">Lowercase t. Matches tab.</td>\n",
    "</tr>\n",
    "<tr>\n",
    "<td style=\"text-align: left;\">\\n</td>\n",
    "<td style=\"text-align: left;\">Lowercase n. Matches newline.</td>\n",
    "</tr>\n",
    "<tr>\n",
    "<td style=\"text-align: left;\">\\r</td>\n",
    "<td style=\"text-align: left;\">Lowercase r. Matches return.</td>\n",
    "</tr>\n",
    "<tr>\n",
    "<td style=\"text-align: left;\">\\b</td>\n",
    "<td style=\"text-align: left;\">Lowercase b. Matches only the beginning or end of the word.</td>\n",
    "</tr>\n",
    "<tr>\n",
    "<td style=\"text-align: left;\">+</td>\n",
    "<td style=\"text-align: left;\">Checks if the preceding character appears one or more times.</td>\n",
    "</tr>\n",
    "<tr>\n",
    "<td style=\"text-align: left;\">*</td>\n",
    "<td style=\"text-align: left;\">Checks if the preceding character appears zero or more times.</td>\n",
    "</tr>\n",
    "<tr>\n",
    "<td style=\"text-align: left;\">?</td>\n",
    "<td style=\"text-align: left;\">∙ Checks if the preceding character appears exactly zero or one time. <br>∙ Specifies a non-greedy version of +, *</td>\n",
    "</tr>\n",
    "<tr>\n",
    "<td style=\"text-align: left;\">{ }</td>\n",
    "<td style=\"text-align: left;\">Checks for an explicit number of times.</td>\n",
    "</tr>\n",
    "<tr>\n",
    "<td style=\"text-align: left;\">( )</td>\n",
    "<td style=\"text-align: left;\">Creates a group when performing matches.</td>\n",
    "</tr>\n",
    "<tr>\n",
    "<td style=\"text-align: left;\">&lt; &gt;</td>\n",
    "<td style=\"text-align: left;\">Creates a named group when performing matches.</td>\n",
    "</tr>\n",
    "</tbody>\n",
    "</table>"
   ]
  },
  {
   "cell_type": "markdown",
   "id": "dd437eaf-59b9-409f-9bee-6d4a5c682e16",
   "metadata": {},
   "source": [
    "## Function Provided by 're'"
   ]
  },
  {
   "cell_type": "markdown",
   "id": "be6692a3-0210-4d28-b4f4-1485f048f64a",
   "metadata": {},
   "source": [
    "### compile(pattern, flags=0)\n",
    "compile() --> regular expression pattern into a regular expression object."
   ]
  },
  {
   "cell_type": "code",
   "execution_count": 56,
   "id": "04a74dca-26d8-486a-9b68-c8459ecc3e53",
   "metadata": {},
   "outputs": [
    {
     "data": {
      "text/plain": [
       "'cookie'"
      ]
     },
     "execution_count": 56,
     "metadata": {},
     "output_type": "execute_result"
    }
   ],
   "source": [
    "pattern = re.compile(r\"cookie\")\n",
    "sequence = \"Cake and cookie\"\n",
    "pattern.search(sequence).group()"
   ]
  },
  {
   "cell_type": "code",
   "execution_count": 57,
   "id": "ffcac78e-2b63-4107-a4f8-ac2253928009",
   "metadata": {},
   "outputs": [
    {
     "data": {
      "text/plain": [
       "'cookie'"
      ]
     },
     "execution_count": 57,
     "metadata": {},
     "output_type": "execute_result"
    }
   ],
   "source": [
    "# This is equivalent to:\n",
    "re.search(pattern, sequence).group()"
   ]
  },
  {
   "cell_type": "markdown",
   "id": "339cb48b-27a0-4bf3-84ae-0c8cc26a3552",
   "metadata": {},
   "source": [
    "### search(pattern, string, flags=0)\n",
    "You scan through the given string/sequence, looking for the first location where the regular expression produces a match.<br>\n",
    "Returns match object if found else NONE"
   ]
  },
  {
   "cell_type": "code",
   "execution_count": 60,
   "id": "71c2a0ab-4801-4d88-905f-e8418d0a3b46",
   "metadata": {},
   "outputs": [
    {
     "data": {
      "text/plain": [
       "<re.Match object; span=(9, 15), match='cookie'>"
      ]
     },
     "execution_count": 60,
     "metadata": {},
     "output_type": "execute_result"
    }
   ],
   "source": [
    "pattern = \"cookie\"\n",
    "sequence = \"Cake and cookie\"\n",
    "\n",
    "re.search(pattern, sequence)"
   ]
  },
  {
   "cell_type": "markdown",
   "id": "76288fae-d169-4feb-9a9a-cd78597397ec",
   "metadata": {},
   "source": [
    "### match(pattern, string, flags=0)\n",
    "Returns a corresponding match object if zero or more characters at the beginning of string match the pattern. Else it returns None"
   ]
  },
  {
   "cell_type": "code",
   "execution_count": 75,
   "id": "5a62ba64-df34-49ac-9bb4-dafd37189bb4",
   "metadata": {},
   "outputs": [
    {
     "name": "stdout",
     "output_type": "stream",
     "text": [
      "Sequence 1:  None\n",
      "Sequence 2:  C\n"
     ]
    }
   ],
   "source": [
    "pattern = \"C\"\n",
    "sequence1 = \"IceCream\"\n",
    "sequence2 = \"CCake\"\n",
    "\n",
    "# No match since \"C\" is not at the start of \"IceCream\"\n",
    "print(\"Sequence 1: \", re.match(pattern, sequence1))\n",
    "print(\"Sequence 2: \", re.match(pattern,sequence2).group())"
   ]
  },
  {
   "cell_type": "markdown",
   "id": "200b1734-eba7-4dd7-a2eb-0ace42feb3ae",
   "metadata": {},
   "source": [
    "#### search() versus match()\n",
    "The match() function checks for a match only at the beginning of the string (by default), whereas the search() function checks for a match anywhere in the string."
   ]
  },
  {
   "cell_type": "code",
   "execution_count": 76,
   "id": "dade9611-f2fc-437b-b512-4921509bfe81",
   "metadata": {},
   "outputs": [
    {
     "name": "stdout",
     "output_type": "stream",
     "text": [
      "Sequence 1:  C\n",
      "Sequence 2:  C\n"
     ]
    }
   ],
   "source": [
    "print(\"Sequence 1: \", re.search(pattern, sequence1).group())\n",
    "print(\"Sequence 2: \", re.search(pattern,sequence2).group())"
   ]
  },
  {
   "cell_type": "markdown",
   "id": "836042b9-66be-4cd8-b2a6-1d1bc5bb43d0",
   "metadata": {},
   "source": [
    "### findall(pattern, string, flags=0)\n",
    "Finds all the possible matches in the entire sequence.<br>Returns List of matched strings."
   ]
  },
  {
   "cell_type": "code",
   "execution_count": 77,
   "id": "bef55641-7b3f-4aa5-ba32-f02b91c7dd9a",
   "metadata": {},
   "outputs": [
    {
     "name": "stdout",
     "output_type": "stream",
     "text": [
      "support@datacamp.com\n",
      "xyz@datacamp.com\n"
     ]
    }
   ],
   "source": [
    "statement = \"Please contact us at: support@datacamp.com, xyz@datacamp.com\"\n",
    "\n",
    "#'addresses' is a list that stores all the possible match\n",
    "addresses = re.findall(r'[\\w\\.-]+@[\\w\\.-]+', statement)\n",
    "for address in addresses:\n",
    "    print(address)"
   ]
  },
  {
   "cell_type": "markdown",
   "id": "42e1baff-5489-46d9-a7f6-058cd8a0aa20",
   "metadata": {},
   "source": [
    "### finditer(string, [position, end_position])\n",
    "Similar to findall() - it finds all the possible matches in the entire sequence but returns regex match objects as an iterator.<br>\n",
    "Returned regex match object holds not only the sequence that matched but also their positions in the original text"
   ]
  },
  {
   "cell_type": "code",
   "execution_count": 78,
   "id": "bb480126-99fc-4ce0-bd9f-c40209c3be05",
   "metadata": {},
   "outputs": [
    {
     "name": "stdout",
     "output_type": "stream",
     "text": [
      "<re.Match object; span=(22, 42), match='support@datacamp.com'>\n",
      "<re.Match object; span=(44, 60), match='xyz@datacamp.com'>\n"
     ]
    }
   ],
   "source": [
    "statement = \"Please contact us at: support@datacamp.com, xyz@datacamp.com\"\n",
    "\n",
    "#'addresses' is a list that stores all the possible match\n",
    "addresses = re.finditer(r'[\\w\\.-]+@[\\w\\.-]+', statement)\n",
    "for address in addresses:\n",
    "    print(address)"
   ]
  },
  {
   "cell_type": "markdown",
   "id": "46a8dc0c-fca2-4632-8d45-fe1b543017d1",
   "metadata": {},
   "source": [
    "### sub(pattern, repl, string, count=0, flags=0)\n",
    "sub() is the substitute function. It returns the string obtained by replacing or substituting the leftmost non-overlapping occurrences of pattern in string by the replacement repl. If the pattern is not found, then the string is returned unchanged.\n",
    "\n",
    "### subn(pattern, repl, string, count=0)\n",
    "The subn() is similar to sub(). However, it returns a tuple containing the new string value and the number of replacements that were performed in the statement."
   ]
  },
  {
   "cell_type": "code",
   "execution_count": 79,
   "id": "4e2b4bb2-84b1-49d9-8b6b-3fe3cc00d89c",
   "metadata": {},
   "outputs": [
    {
     "name": "stdout",
     "output_type": "stream",
     "text": [
      "Please contact us at: support@datacamp.com\n"
     ]
    }
   ],
   "source": [
    "statement = \"Please contact us at: xyz@datacamp.com\"\n",
    "new_email_address = re.sub(r'([\\w\\.-]+)@([\\w\\.-]+)', r'support@datacamp.com', statement)\n",
    "print(new_email_address)"
   ]
  },
  {
   "cell_type": "code",
   "execution_count": 81,
   "id": "b8fe1491-92ae-4d1f-a690-3a8bde89a2fd",
   "metadata": {},
   "outputs": [
    {
     "name": "stdout",
     "output_type": "stream",
     "text": [
      "('Please contact us at: support@datacamp.com, support@datacamp.com', 2)\n"
     ]
    }
   ],
   "source": [
    "statement = \"Please contact us at: xyz@datacamp.com, vinayak@vt.in\"\n",
    "new_email_address = re.subn(r'([\\w\\.-]+)@([\\w\\.-]+)', r'support@datacamp.com', statement)\n",
    "print(new_email_address)"
   ]
  },
  {
   "cell_type": "markdown",
   "id": "010b4b55-34d4-4bd0-b24b-57c560cbf0fb",
   "metadata": {},
   "source": [
    "### split(string, [maxsplit = 0])\n",
    "splits the strings wherever the pattern matches and returns a list."
   ]
  },
  {
   "cell_type": "code",
   "execution_count": 93,
   "id": "cc7a9d93-fd42-445c-b6e4-4138e0f99147",
   "metadata": {},
   "outputs": [
    {
     "name": "stdout",
     "output_type": "stream",
     "text": [
      "['Please contact us at', ' xyz@datacamp.com', ' support@datacamp.com']\n"
     ]
    }
   ],
   "source": [
    "statement = \"Please contact us at: xyz@datacamp.com, support@datacamp.com\"\n",
    "pattern = re.compile(r'[:,]')\n",
    "\n",
    "address = pattern.split(statement,maxsplit=0)\n",
    "print(address)"
   ]
  },
  {
   "cell_type": "markdown",
   "id": "53c5a954-93ea-47f4-8148-692d89ed5261",
   "metadata": {},
   "source": [
    "### start(), end(), span()\n",
    "* `start()` - Returns the starting index of the match.\n",
    "* `end()` - Returns the index where the match ends.\n",
    "* `span()` - Return a tuple containing the (start, end) positions of the match."
   ]
  },
  {
   "cell_type": "code",
   "execution_count": 95,
   "id": "89817ede-9f39-48bc-b986-a007d00fdf82",
   "metadata": {},
   "outputs": [
    {
     "name": "stdout",
     "output_type": "stream",
     "text": [
      "Start index: 11\n",
      "End index: 17\n",
      "Tuple: (11, 17)\n"
     ]
    }
   ],
   "source": [
    "pattern = re.compile('COOKIE', re.IGNORECASE)\n",
    "match = pattern.search(\"I am not a cookie monsterCOOKIE\")\n",
    "\n",
    "print(\"Start index:\", match.start())\n",
    "print(\"End index:\", match.end())\n",
    "print(\"Tuple:\", match.span())"
   ]
  },
  {
   "cell_type": "code",
   "execution_count": 99,
   "id": "0fddfe18-43c3-4d07-a6fb-d3ef1cbd83c9",
   "metadata": {},
   "outputs": [
    {
     "name": "stdout",
     "output_type": "stream",
     "text": [
      "Start index: 11\n",
      "End index: 17\n",
      "Tuple: (11, 17)\n",
      "----\n",
      "Start index: 25\n",
      "End index: 31\n",
      "Tuple: (25, 31)\n",
      "----\n"
     ]
    }
   ],
   "source": [
    "for match in pattern.finditer(\"I am not a cookie monsterCOOKIE\"):\n",
    "    print(\"Start index:\", match.start())\n",
    "    print(\"End index:\", match.end())\n",
    "    print(\"Tuple:\", match.span())\n",
    "    print('----')"
   ]
  },
  {
   "cell_type": "markdown",
   "id": "99d0127e-dcaa-4354-af32-4acd27bcb52f",
   "metadata": {},
   "source": [
    "### Compilation Flags\n",
    "An expression's behavior can be modified by specifying a flag value.\n",
    "* IGNORECASE (I) - Allows case-insensitive matches.<br>\n",
    "* DOTALL (S) - Allows . to match any character, including newline.<br>\n",
    "* MULTILINE (M) - Allows start of string (^) and end of string ($) anchor to match newlines as well.<br>\n",
    "* VERBOSE (X) - Allows you to write whitespace and comments within a regular expression to make it more readable."
   ]
  },
  {
   "cell_type": "code",
   "execution_count": 100,
   "id": "4527352a-f530-4ea5-83b7-b07e3530bfff",
   "metadata": {},
   "outputs": [
    {
     "name": "stdout",
     "output_type": "stream",
     "text": [
      "Address:  support@DataCamp.com\n",
      "Address:  xyz@DATACAMP.com\n"
     ]
    }
   ],
   "source": [
    "statement = \"Please contact us at: support@DataCamp.com, xyz@DATACAMP.com\"\n",
    "\n",
    "# Using the VERBOSE flag helps understand complex regular expressions\n",
    "pattern = re.compile(r\"\"\"\n",
    "[\\w\\.-]+ #First part\n",
    "@ #Matches @ sign within email addresses\n",
    "datacamp.com #Domain\n",
    "\"\"\", re.X | re.I)\n",
    "\n",
    "addresses = re.findall(pattern, statement)                       \n",
    "for address in addresses:\n",
    "    print(\"Address: \", address)"
   ]
  },
  {
   "cell_type": "markdown",
   "id": "35d44a6e-cd5d-401a-aef2-2d8b41c35336",
   "metadata": {},
   "source": [
    "## Case Study: Working with Regular Expressions"
   ]
  },
  {
   "cell_type": "code",
   "execution_count": 108,
   "id": "d68e033a-bc21-4e0f-95fd-f502ed957714",
   "metadata": {},
   "outputs": [],
   "source": [
    "import re\n",
    "import requests\n",
    "the_idiot_url = 'https://www.gutenberg.org/files/2638/2638-0.txt'\n",
    "\n",
    "def get_book(url):\n",
    "    # Sends a http request to get the text from project Gutenberg\n",
    "    raw = requests.get(url).text\n",
    "    # Discards the metadata from the beginning of the book\n",
    "    start = re.search(r\"\\*\\*\\* START OF THE PROJECT GUTENBERG EBOOK .* \\*\\*\\*\",raw ).end()\n",
    "    # Discards the text starting Part 2 of the book\n",
    "    stop = re.search(r\"II\\.\", raw).start()\n",
    "    # Keeps the relevant text\n",
    "    text = raw[start:stop]\n",
    "    return text\n",
    "\n",
    "def preprocess(sentence):\n",
    "    return re.sub('[^A-Za-z0-9.]+' , ' ', sentence).lower()\n",
    "\n",
    "book = get_book(the_idiot_url)\n",
    "processed_book = preprocess(book)\n",
    "#print(processed_book)"
   ]
  },
  {
   "cell_type": "markdown",
   "id": "ec90de16-3492-4cba-ac22-aa906edb1b76",
   "metadata": {},
   "source": [
    "Exercise: Find the number of the pronoun \"the\" in the corpus. Hint: Use the len() function."
   ]
  },
  {
   "cell_type": "code",
   "execution_count": 110,
   "id": "d08d9090-5a2d-4737-bac2-9c7495d5a905",
   "metadata": {},
   "outputs": [
    {
     "data": {
      "text/plain": [
       "302"
      ]
     },
     "execution_count": 110,
     "metadata": {},
     "output_type": "execute_result"
    }
   ],
   "source": [
    "len(re.findall(r'the', processed_book))"
   ]
  },
  {
   "cell_type": "markdown",
   "id": "a30f3748-c0f8-4189-bab7-8e03b3121de3",
   "metadata": {},
   "source": [
    "Exercise: Try to convert every single stand-alone instance of 'i' to 'I' in the corpus. Make sure not to change the 'i' occurring within a word:"
   ]
  },
  {
   "cell_type": "code",
   "execution_count": 112,
   "id": "b7656ab4-de9c-429d-b84c-768a186475d6",
   "metadata": {},
   "outputs": [],
   "source": [
    "processed_book = re.sub(r'\\si\\s', \" I \", processed_book)\n",
    "# print(processed_book)"
   ]
  },
  {
   "cell_type": "markdown",
   "id": "ebedec2e-82e8-430a-a16a-fc1eeb9e3820",
   "metadata": {},
   "source": [
    "Exercise: Find the number of times anyone was quoted (\"\") in the corpus."
   ]
  },
  {
   "cell_type": "code",
   "execution_count": 113,
   "id": "274a7793-df8d-4e2f-a535-e9e20cf5994f",
   "metadata": {},
   "outputs": [
    {
     "data": {
      "text/plain": [
       "0"
      ]
     },
     "execution_count": 113,
     "metadata": {},
     "output_type": "execute_result"
    }
   ],
   "source": [
    "len(re.findall(r'\\”', book))"
   ]
  },
  {
   "cell_type": "markdown",
   "id": "c09d2f01-5b73-47b6-8da2-32f427da5fe4",
   "metadata": {},
   "source": [
    "Exercise: What are the words connected by '--' in the corpus?"
   ]
  },
  {
   "cell_type": "code",
   "execution_count": 114,
   "id": "f46ed1f7-1397-4d1a-8cd5-bc5ab9c385b8",
   "metadata": {},
   "outputs": [
    {
     "data": {
      "text/plain": [
       "0"
      ]
     },
     "execution_count": 114,
     "metadata": {},
     "output_type": "execute_result"
    }
   ],
   "source": [
    "len(re.findall(r'[A-Za-z0-9+]--[A-Za-z0-9+]', book))"
   ]
  },
  {
   "cell_type": "code",
   "execution_count": null,
   "id": "ca69b902-6303-474d-a13a-e1b8d28acda3",
   "metadata": {},
   "outputs": [],
   "source": []
  }
 ],
 "metadata": {
  "kernelspec": {
   "display_name": "Python 3",
   "language": "python",
   "name": "python3"
  },
  "language_info": {
   "codemirror_mode": {
    "name": "ipython",
    "version": 3
   },
   "file_extension": ".py",
   "mimetype": "text/x-python",
   "name": "python",
   "nbconvert_exporter": "python",
   "pygments_lexer": "ipython3",
   "version": "3.8.8"
  }
 },
 "nbformat": 4,
 "nbformat_minor": 5
}
