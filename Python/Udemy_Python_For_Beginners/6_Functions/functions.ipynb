{
 "cells": [
  {
   "cell_type": "markdown",
   "id": "7ecd7f4a-3bee-4071-8350-68d55704281e",
   "metadata": {},
   "source": [
    "## Functions"
   ]
  },
  {
   "cell_type": "code",
   "execution_count": 4,
   "id": "0136393e-20a2-4b83-86f3-a695d3cb7261",
   "metadata": {},
   "outputs": [
    {
     "name": "stdout",
     "output_type": "stream",
     "text": [
      "<class 'function'>\n"
     ]
    }
   ],
   "source": [
    "def square(arg1=20, arg2=50):\n",
    "    \"\"\"This adds two numbers together\"\"\"\n",
    "    return( arg1 + arg2)\n",
    "val = square(90, 110)\n",
    "print(type(square))"
   ]
  },
  {
   "cell_type": "code",
   "execution_count": 5,
   "id": "fb773fbe-87ac-4c61-b88c-c034ca55ffb6",
   "metadata": {},
   "outputs": [
    {
     "name": "stdout",
     "output_type": "stream",
     "text": [
      "16\n",
      "64\n",
      "256\n"
     ]
    },
    {
     "data": {
      "text/plain": [
       "336"
      ]
     },
     "execution_count": 5,
     "metadata": {},
     "output_type": "execute_result"
    }
   ],
   "source": [
    "def squared(num):\n",
    "    return num**2\n",
    "\n",
    "def cubed(num):\n",
    "    return num**3\n",
    "\n",
    "def quad(num):\n",
    "    return num**4\n",
    "\n",
    "v = 4\n",
    "print(squared(v))\n",
    "print(cubed(v))\n",
    "print(quad(v))\n",
    "total = squared(v) + cubed(v) + quad(v)\n",
    "total"
   ]
  },
  {
   "cell_type": "code",
   "execution_count": 6,
   "id": "750f7af5-7744-4b13-98ef-0d8e880fdad7",
   "metadata": {},
   "outputs": [],
   "source": [
    "def greet():\n",
    "    \"\"\"Enter the time and print appropriate greeting!\"\"\"\n",
    "    time = eval(input(\"Enter the time: \"))\n",
    "    if time >= 6 and time < 12:\n",
    "        print(\"Good morning!\")\n",
    "        return squared(time)\n",
    "    elif time >= 12 and time < 18:\n",
    "        print(\"Afternoon!\")\n",
    "        return cubed(time)\n",
    "    elif time >= 18 and time < 21:\n",
    "        print(\"Good evening!\")\n",
    "        return quad(time)\n",
    "    else:\n",
    "        print(\"Good night!\")\n",
    "        return time"
   ]
  },
  {
   "cell_type": "code",
   "execution_count": 11,
   "id": "85ff9a53-d900-42c6-b007-da78f348c2c9",
   "metadata": {},
   "outputs": [
    {
     "name": "stdin",
     "output_type": "stream",
     "text": [
      "Enter the time:  3\n"
     ]
    },
    {
     "name": "stdout",
     "output_type": "stream",
     "text": [
      "Good night!\n",
      "3\n"
     ]
    }
   ],
   "source": [
    "print(greet())"
   ]
  },
  {
   "cell_type": "code",
   "execution_count": null,
   "id": "870a304e-f0a6-43f2-a736-6d8068d4ef4e",
   "metadata": {},
   "outputs": [],
   "source": []
  }
 ],
 "metadata": {
  "kernelspec": {
   "display_name": "Python 3 (ipykernel)",
   "language": "python",
   "name": "python3"
  },
  "language_info": {
   "codemirror_mode": {
    "name": "ipython",
    "version": 3
   },
   "file_extension": ".py",
   "mimetype": "text/x-python",
   "name": "python",
   "nbconvert_exporter": "python",
   "pygments_lexer": "ipython3",
   "version": "3.10.9"
  }
 },
 "nbformat": 4,
 "nbformat_minor": 5
}
