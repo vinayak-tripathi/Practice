{
 "cells": [
  {
   "cell_type": "markdown",
   "id": "848ea4fe-656a-40d7-8c65-e8bd55bba2c0",
   "metadata": {},
   "source": [
    "## Random Functions"
   ]
  },
  {
   "cell_type": "code",
   "execution_count": 1,
   "id": "6a0546f7-05b5-40cd-9045-d640cc5c3af2",
   "metadata": {},
   "outputs": [],
   "source": [
    "import random as rd\n",
    "from random import *"
   ]
  },
  {
   "cell_type": "code",
   "execution_count": 5,
   "id": "d31bf0c8-ca2f-482f-9fb4-1cb70b2ea4c1",
   "metadata": {},
   "outputs": [
    {
     "name": "stdout",
     "output_type": "stream",
     "text": [
      "0.18663238041335073\n",
      "16\n",
      "90\n"
     ]
    }
   ],
   "source": [
    "print(rd.random())\n",
    "print(rd.randint(10, 20))\n",
    "print(rd.randrange(10, 100, 10))"
   ]
  },
  {
   "cell_type": "code",
   "execution_count": 6,
   "id": "35e46020-c89c-4e63-9635-977f51884721",
   "metadata": {},
   "outputs": [
    {
     "name": "stdout",
     "output_type": "stream",
     "text": [
      "2.9599468749032827\n"
     ]
    }
   ],
   "source": [
    "print(rd.uniform(2, 3))"
   ]
  },
  {
   "cell_type": "code",
   "execution_count": 7,
   "id": "f98d9af4-865a-4ac1-aea1-88ce01bdf1ae",
   "metadata": {},
   "outputs": [
    {
     "data": {
      "text/plain": [
       "'🐈'"
      ]
     },
     "execution_count": 7,
     "metadata": {},
     "output_type": "execute_result"
    }
   ],
   "source": [
    "animals = [\"\\N{cat}\", \"\\N{dog}\", \"\\N{snake}\", \"\\N{horse}\"]\n",
    "type(animals)\n",
    "rd.shuffle(animals)\n",
    "animals[0]"
   ]
  },
  {
   "cell_type": "code",
   "execution_count": 8,
   "id": "9cb4c5dc-90df-4043-8ca3-fbae922c295d",
   "metadata": {},
   "outputs": [
    {
     "name": "stdout",
     "output_type": "stream",
     "text": [
      "Captain America VS Joker\n",
      "Spiderman VS Red Skull\n",
      "Ironman VS Thanos\n",
      "Batman VS Venom\n"
     ]
    }
   ],
   "source": [
    "heroes = [\"Batman\", \"Spiderman\", \"Ironman\", \"Captain America\"]\n",
    "villains = [\"Joker\", \"Venom\", \"Thanos\", \"Red Skull\"]\n",
    "numbers = list(range(len(heroes)))\n",
    "numbers\n",
    "rd.shuffle(heroes) ; rd.shuffle(villains)\n",
    "for i in numbers:\n",
    "    print(heroes[i], \"VS\", villains[i])"
   ]
  },
  {
   "cell_type": "code",
   "execution_count": 9,
   "id": "1adca532-26cd-41c6-a13d-9d8df4b4be7e",
   "metadata": {},
   "outputs": [
    {
     "data": {
      "text/plain": [
       "'cashew with tofu'"
      ]
     },
     "execution_count": 9,
     "metadata": {},
     "output_type": "execute_result"
    }
   ],
   "source": [
    "menu = [\"noodles\", \"cashew with tofu\", \"coconut rice\"]\n",
    "rd.choice(menu)"
   ]
  },
  {
   "cell_type": "code",
   "execution_count": 10,
   "id": "9d922794-a2bc-4037-a8b6-8c85967e179e",
   "metadata": {},
   "outputs": [
    {
     "data": {
      "text/plain": [
       "['Gracie',\n",
       " 'Gracie',\n",
       " 'Gracie',\n",
       " 'Gracie',\n",
       " 'Gracie',\n",
       " 'Gracie',\n",
       " 'Gracie',\n",
       " 'Gracie',\n",
       " 'Tommy',\n",
       " 'Gracie']"
      ]
     },
     "execution_count": 10,
     "metadata": {},
     "output_type": "execute_result"
    }
   ],
   "source": [
    "# probabilities = [0.25]*4\n",
    "probabilities = [0.9, 0.01, 0.01 , 0.08]\n",
    "students = [\"Gracie\", \"Callum\", \"Blaise\", \"Tommy\"]\n",
    "rd.choices(students, probabilities, k = 10)"
   ]
  },
  {
   "cell_type": "code",
   "execution_count": 11,
   "id": "e024ddb8-717f-4240-b048-72da0bcf2a6f",
   "metadata": {},
   "outputs": [
    {
     "data": {
      "text/plain": [
       "100"
      ]
     },
     "execution_count": 11,
     "metadata": {},
     "output_type": "execute_result"
    }
   ],
   "source": [
    "len(rd.sample(range(1, 101), k= 100))"
   ]
  },
  {
   "cell_type": "code",
   "execution_count": null,
   "id": "ac431c78-ccc8-4580-924c-0e350739c0a6",
   "metadata": {},
   "outputs": [],
   "source": []
  }
 ],
 "metadata": {
  "kernelspec": {
   "display_name": "Python 3 (ipykernel)",
   "language": "python",
   "name": "python3"
  },
  "language_info": {
   "codemirror_mode": {
    "name": "ipython",
    "version": 3
   },
   "file_extension": ".py",
   "mimetype": "text/x-python",
   "name": "python",
   "nbconvert_exporter": "python",
   "pygments_lexer": "ipython3",
   "version": "3.10.9"
  }
 },
 "nbformat": 4,
 "nbformat_minor": 5
}
