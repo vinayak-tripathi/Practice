{
 "cells": [
  {
   "cell_type": "markdown",
   "id": "e79b8e09-5b7b-4b23-b1f4-fd368e879a26",
   "metadata": {},
   "source": [
    "### TASK 1:IMPORT RANDOM INSIDE A FUNCTION WITH TWO PARAMETERS"
   ]
  },
  {
   "cell_type": "code",
   "execution_count": 1,
   "id": "da39aa47-946a-43b2-b451-f56bca9b354e",
   "metadata": {},
   "outputs": [],
   "source": [
    "def compute(rad, num):\n",
    "    import random as rd\n",
    "    rd.seed(10)\n",
    "    numbers = range(1, rd.randint(1, rad))\n",
    "    calc = []\n",
    "    for i in range(len(numbers)):\n",
    "        if numbers[i] %2 == num and numbers[i] > 10:\n",
    "            s = numbers[i]\n",
    "            calc.append(s)\n",
    "        else:\n",
    "            s = 0\n",
    "            calc.append(s)\n",
    "    print(sum(calc))\n",
    "    return calc"
   ]
  },
  {
   "cell_type": "code",
   "execution_count": 2,
   "id": "7a7df81d-d41e-4ac9-879e-5d0a6c8bb08b",
   "metadata": {},
   "outputs": [
    {
     "name": "stdout",
     "output_type": "stream",
     "text": [
      "56\n"
     ]
    },
    {
     "data": {
      "text/plain": [
       "[0, 0, 0, 0, 0, 0, 0, 0, 0, 0, 11, 0, 13, 0, 15, 0, 17, 0]"
      ]
     },
     "execution_count": 2,
     "metadata": {},
     "output_type": "execute_result"
    }
   ],
   "source": [
    "compute(20,1)"
   ]
  },
  {
   "cell_type": "markdown",
   "id": "d79a923c-59f4-4d6b-9df5-b316c2571d1a",
   "metadata": {},
   "source": [
    "### TASK 2: CALL A NESTED FUNCTION AND MODIFY ITS DEFAULT PARAMETER"
   ]
  },
  {
   "cell_type": "code",
   "execution_count": 3,
   "id": "a7d2aebe-3045-4dbc-825f-4c4be71350ab",
   "metadata": {},
   "outputs": [
    {
     "name": "stdout",
     "output_type": "stream",
     "text": [
      "My favourite language is Python.\n",
      "The coolest part about Python is functions\n"
     ]
    }
   ],
   "source": [
    "def lang(program = \"JavaScript\"):\n",
    "    print(\"My favourite language is {}.\".format(program))\n",
    "\n",
    "def udemy(program):\n",
    "    lang(program)\n",
    "    print(\"The coolest part about {} is functions\".format(program))\n",
    "udemy(\"Python\")"
   ]
  },
  {
   "cell_type": "markdown",
   "id": "34f1f8d6-1a43-4b84-bb65-01611eb2dfee",
   "metadata": {},
   "source": [
    "### TASK 3: FUNCTION REPEATS ANOTHER FUNCTION WITH INPUT"
   ]
  },
  {
   "cell_type": "code",
   "execution_count": 5,
   "id": "81e246f3-214f-4a5f-81f4-a0cc9bef491a",
   "metadata": {},
   "outputs": [],
   "source": [
    "def greet(name= \"Michael\"):\n",
    "    print(\"Hello there, \" + name,\"!\")"
   ]
  },
  {
   "cell_type": "code",
   "execution_count": 7,
   "id": "2996b2a5-86d6-471d-bb80-b55069d9fffe",
   "metadata": {},
   "outputs": [],
   "source": [
    "def repeat(n):\n",
    "    for i in range(n):\n",
    "        name = input(\"Student name: \")\n",
    "        greet(name)"
   ]
  },
  {
   "cell_type": "code",
   "execution_count": 8,
   "id": "fe98d17b-f7fd-4282-8733-929f1dfcf560",
   "metadata": {},
   "outputs": [
    {
     "name": "stdin",
     "output_type": "stream",
     "text": [
      "Student name:  Vinayak\n"
     ]
    },
    {
     "name": "stdout",
     "output_type": "stream",
     "text": [
      "Hello there, Vinayak !\n"
     ]
    },
    {
     "name": "stdin",
     "output_type": "stream",
     "text": [
      "Student name:  Rohan\n"
     ]
    },
    {
     "name": "stdout",
     "output_type": "stream",
     "text": [
      "Hello there, Rohan !\n"
     ]
    },
    {
     "name": "stdin",
     "output_type": "stream",
     "text": [
      "Student name:  VT\n"
     ]
    },
    {
     "name": "stdout",
     "output_type": "stream",
     "text": [
      "Hello there, VT !\n"
     ]
    },
    {
     "name": "stdin",
     "output_type": "stream",
     "text": [
      "Student name:  John\n"
     ]
    },
    {
     "name": "stdout",
     "output_type": "stream",
     "text": [
      "Hello there, John !\n"
     ]
    }
   ],
   "source": [
    "repeat(4)"
   ]
  },
  {
   "cell_type": "markdown",
   "id": "4de8851b-b60c-49b1-b5bf-da6cb5fa05ed",
   "metadata": {},
   "source": [
    "### TASK 4: FUNCTION WITH CONTROL FLOW AND FORMATTING"
   ]
  },
  {
   "cell_type": "code",
   "execution_count": 9,
   "id": "ba2cf757-4e34-4c80-9c3f-265e86e20850",
   "metadata": {},
   "outputs": [],
   "source": [
    "def survivor(name= \"Michael\"):\n",
    "    zomb1 = input(\"How many zombies are there? \")\n",
    "    zombie = eval(zomb1)\n",
    "    if zombie >= 1 and zombie < 20:\n",
    "        print(\"{} is fighting {} zombies!\".format(name, zombie))\n",
    "    elif zombie >=20 and zombie < 100:\n",
    "        print(\"{} is shooting {} zombies!\".format(name, zombie))\n",
    "    elif zombie >= 100 and zombie < 200:\n",
    "        print(\"{} is running from {} zombies!\" .format(name, zombie))\n",
    "    else:\n",
    "        print(\"{} is eaten ALIVE by {} zombies!!!!!\".format(name, zombie))"
   ]
  },
  {
   "cell_type": "code",
   "execution_count": 10,
   "id": "515901eb-f314-4b98-8068-3a81604a4f22",
   "metadata": {},
   "outputs": [
    {
     "name": "stdin",
     "output_type": "stream",
     "text": [
      "How many zombies are there?  13\n"
     ]
    },
    {
     "name": "stdout",
     "output_type": "stream",
     "text": [
      "Daryl is fighting 13 zombies!\n"
     ]
    }
   ],
   "source": [
    "survivor(\"Daryl\")"
   ]
  },
  {
   "cell_type": "code",
   "execution_count": null,
   "id": "f6130ce6-b9d7-4ffe-818c-682ca48b36ef",
   "metadata": {},
   "outputs": [],
   "source": []
  }
 ],
 "metadata": {
  "kernelspec": {
   "display_name": "Python 3 (ipykernel)",
   "language": "python",
   "name": "python3"
  },
  "language_info": {
   "codemirror_mode": {
    "name": "ipython",
    "version": 3
   },
   "file_extension": ".py",
   "mimetype": "text/x-python",
   "name": "python",
   "nbconvert_exporter": "python",
   "pygments_lexer": "ipython3",
   "version": "3.10.9"
  }
 },
 "nbformat": 4,
 "nbformat_minor": 5
}
