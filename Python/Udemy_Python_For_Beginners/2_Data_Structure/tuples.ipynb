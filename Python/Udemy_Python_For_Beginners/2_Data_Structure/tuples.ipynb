{
 "cells": [
  {
   "cell_type": "markdown",
   "id": "5e19c220-835c-4d4e-adc7-516949ede310",
   "metadata": {},
   "source": [
    "### TUPLES"
   ]
  },
  {
   "cell_type": "code",
   "execution_count": 1,
   "id": "0761d05d-79ed-43a3-92db-7583b41af145",
   "metadata": {},
   "outputs": [
    {
     "name": "stdout",
     "output_type": "stream",
     "text": [
      "(40, 50, 60, 70)\n"
     ]
    },
    {
     "data": {
      "text/plain": [
       "tuple"
      ]
     },
     "execution_count": 1,
     "metadata": {},
     "output_type": "execute_result"
    }
   ],
   "source": [
    "tup1 = (40, 50, 60, 70)\n",
    "print(tup1)\n",
    "type(tup1)"
   ]
  },
  {
   "cell_type": "code",
   "execution_count": 2,
   "id": "5178d083-9a14-445e-8626-361223bb8eb5",
   "metadata": {},
   "outputs": [
    {
     "data": {
      "text/plain": [
       "tuple"
      ]
     },
     "execution_count": 2,
     "metadata": {},
     "output_type": "execute_result"
    }
   ],
   "source": [
    "mylist = [1,2,3,4]\n",
    "mylist\n",
    "type(tuple(mylist))\n"
   ]
  },
  {
   "cell_type": "code",
   "execution_count": 3,
   "id": "56e26424-3d0f-4fae-b348-a217699938f1",
   "metadata": {},
   "outputs": [
    {
     "name": "stdout",
     "output_type": "stream",
     "text": [
      "((10, 10, 10, 10, 2, 2, 2, 3), ('cat', 'dog', 'bird'), (40, 50, 60, 70))\n"
     ]
    }
   ],
   "source": [
    "tup2 = ((10, 10, 10, 10,2,2, 2, 3),\n",
    "(\"cat\", \"dog\", \"bird\"), tup1)\n",
    "print(tup2)"
   ]
  },
  {
   "cell_type": "code",
   "execution_count": 4,
   "id": "aaed0bdb-e33f-4312-a171-9a4f16f8ff39",
   "metadata": {},
   "outputs": [
    {
     "name": "stdout",
     "output_type": "stream",
     "text": [
      "3\n"
     ]
    }
   ],
   "source": [
    "tup2.count(2)\n",
    "print(tup2[0].count(2))"
   ]
  },
  {
   "cell_type": "code",
   "execution_count": 5,
   "id": "07ee221a-85b4-48e6-8643-2ba70b7d62ca",
   "metadata": {},
   "outputs": [
    {
     "data": {
      "text/plain": [
       "'bird'"
      ]
     },
     "execution_count": 5,
     "metadata": {},
     "output_type": "execute_result"
    }
   ],
   "source": [
    "tup2[1].index(\"bird\")\n",
    "tup2[1][2]"
   ]
  },
  {
   "cell_type": "code",
   "execution_count": 6,
   "id": "00f7d610-68e8-47cb-90b9-2d5ecc7b7fca",
   "metadata": {},
   "outputs": [
    {
     "data": {
      "text/plain": [
       "(0, 2, 4, 6, 8, 10, 12, 14, 16, 18, 20)"
      ]
     },
     "execution_count": 6,
     "metadata": {},
     "output_type": "execute_result"
    }
   ],
   "source": [
    "tup3 = tuple(range(0,21, 2))\n",
    "tup3"
   ]
  },
  {
   "cell_type": "code",
   "execution_count": 7,
   "id": "e42a2dda-dd41-4cf2-89c0-963fac69364c",
   "metadata": {},
   "outputs": [
    {
     "ename": "TypeError",
     "evalue": "'tuple' object does not support item assignment",
     "output_type": "error",
     "traceback": [
      "\u001b[1;31m---------------------------------------------------------------------------\u001b[0m",
      "\u001b[1;31mTypeError\u001b[0m                                 Traceback (most recent call last)",
      "Cell \u001b[1;32mIn[7], line 1\u001b[0m\n\u001b[1;32m----> 1\u001b[0m \u001b[43mtup2\u001b[49m\u001b[43m[\u001b[49m\u001b[38;5;241;43m2\u001b[39;49m\u001b[43m]\u001b[49m\u001b[43m[\u001b[49m\u001b[38;5;241;43m3\u001b[39;49m\u001b[43m]\u001b[49m \u001b[38;5;241m=\u001b[39m \u001b[38;5;124m\"\u001b[39m\u001b[38;5;124mhello\u001b[39m\u001b[38;5;124m\"\u001b[39m\n",
      "\u001b[1;31mTypeError\u001b[0m: 'tuple' object does not support item assignment"
     ]
    }
   ],
   "source": [
    "tup2[2][3] = \"hello\""
   ]
  },
  {
   "cell_type": "code",
   "execution_count": 8,
   "id": "d52149a5-969d-489f-b622-b43a84fec127",
   "metadata": {},
   "outputs": [
    {
     "name": "stdout",
     "output_type": "stream",
     "text": [
      "(1, 2, 3, 4, False, True, True)\n"
     ]
    }
   ],
   "source": [
    "tup4 = 1,2,3,4, False, True, True\n",
    "print(tup4)"
   ]
  },
  {
   "cell_type": "code",
   "execution_count": 9,
   "id": "5a20ed37-178e-4c76-8f85-3e14f3d6852f",
   "metadata": {},
   "outputs": [
    {
     "name": "stdout",
     "output_type": "stream",
     "text": [
      "((1, 2, 3, 4, False, True, True), True, False, 100, 9.1245, 'string')\n"
     ]
    }
   ],
   "source": [
    "tup5 = tup4, True, False, 100, 9.1245, \"string\"\n",
    "print(tup5)"
   ]
  },
  {
   "cell_type": "code",
   "execution_count": 10,
   "id": "ad89c669-bca1-4521-ad07-2b0351341b40",
   "metadata": {},
   "outputs": [
    {
     "data": {
      "text/plain": [
       "12"
      ]
     },
     "execution_count": 10,
     "metadata": {},
     "output_type": "execute_result"
    }
   ],
   "source": [
    "sum(tup4)"
   ]
  },
  {
   "cell_type": "code",
   "execution_count": 11,
   "id": "7e5b4427-89a0-4077-8469-bc39b04f5efe",
   "metadata": {},
   "outputs": [
    {
     "name": "stdout",
     "output_type": "stream",
     "text": [
      "4\n",
      "3\n"
     ]
    }
   ],
   "source": [
    "print(tup4.index(0))\n",
    "print(tup4.count(1))"
   ]
  },
  {
   "cell_type": "code",
   "execution_count": null,
   "id": "99435be1-5236-4ccf-8a15-7ec7ba733cc4",
   "metadata": {},
   "outputs": [],
   "source": []
  }
 ],
 "metadata": {
  "kernelspec": {
   "display_name": "Python 3 (ipykernel)",
   "language": "python",
   "name": "python3"
  },
  "language_info": {
   "codemirror_mode": {
    "name": "ipython",
    "version": 3
   },
   "file_extension": ".py",
   "mimetype": "text/x-python",
   "name": "python",
   "nbconvert_exporter": "python",
   "pygments_lexer": "ipython3",
   "version": "3.10.9"
  }
 },
 "nbformat": 4,
 "nbformat_minor": 5
}
