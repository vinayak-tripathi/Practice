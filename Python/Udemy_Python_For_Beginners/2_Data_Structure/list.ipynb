{
 "cells": [
  {
   "cell_type": "markdown",
   "id": "beed93f2-279e-40ff-857c-4fa3a99a505e",
   "metadata": {},
   "source": [
    "## LIST AND RANGE"
   ]
  },
  {
   "cell_type": "code",
   "execution_count": 1,
   "id": "1083f507-6560-44c9-b36e-ef04912ddde6",
   "metadata": {},
   "outputs": [
    {
     "data": {
      "text/plain": [
       "[10, 20, 30, 40, 50, 60, 70, 80, 90, 100]"
      ]
     },
     "execution_count": 1,
     "metadata": {},
     "output_type": "execute_result"
    }
   ],
   "source": [
    "list(range(10, 110, 10))"
   ]
  },
  {
   "cell_type": "code",
   "execution_count": 2,
   "id": "c7368831-2692-4f1c-85d5-d316c3d6bf73",
   "metadata": {},
   "outputs": [
    {
     "name": "stdout",
     "output_type": "stream",
     "text": [
      "<class 'list'>\n",
      "<class 'list'>\n"
     ]
    }
   ],
   "source": [
    "numbers = list(range(10, 150, 10))\n",
    "numbers\n",
    "print(type(numbers))\n",
    "print(type([]))"
   ]
  },
  {
   "cell_type": "code",
   "execution_count": 3,
   "id": "50771537-c5b0-412c-8c3b-abbbea233e87",
   "metadata": {},
   "outputs": [
    {
     "name": "stdout",
     "output_type": "stream",
     "text": [
      "[[0, 1, 2, 3, 4, 5, 6, 7, 8, 9, 10], [10, 11, 12, 13, 14, 15, 16, 17, 18, 19, 20], [20, 21, 22, 23, 24, 25, 26, 27, 28, 29, 30]]\n"
     ]
    }
   ],
   "source": [
    "nested_list = [ [1,2,3], [4,5,6], [7,8,9]]\n",
    "nested_range = [list(range(11)), list(range(10, 21)),\n",
    "list(range(20, 31))]\n",
    "print(nested_range)"
   ]
  },
  {
   "cell_type": "code",
   "execution_count": 4,
   "id": "d18e9e94-2172-4685-8069-2f8052d4d041",
   "metadata": {},
   "outputs": [
    {
     "name": "stdout",
     "output_type": "stream",
     "text": [
      "[1, 2, 3, 4, 55]\n"
     ]
    }
   ],
   "source": [
    "basket1 = [1,2,3,4]\n",
    "basket1.append(55)\n",
    "print(basket1)"
   ]
  },
  {
   "cell_type": "code",
   "execution_count": 5,
   "id": "dcd8746e-aa94-4c8c-99c3-af1c81ed03fd",
   "metadata": {},
   "outputs": [
    {
     "name": "stdout",
     "output_type": "stream",
     "text": [
      "55\n",
      "[1, 2, 3, 4]\n"
     ]
    }
   ],
   "source": [
    "print(basket1.pop())\n",
    "print(basket1)"
   ]
  },
  {
   "cell_type": "code",
   "execution_count": 6,
   "id": "f0119aa1-03d1-4a3f-92e1-ef122065ba69",
   "metadata": {},
   "outputs": [
    {
     "name": "stdout",
     "output_type": "stream",
     "text": [
      "[1, 2, 100, 3, 4]\n"
     ]
    }
   ],
   "source": [
    "basket1.insert(2, 100)\n",
    "print(basket1)"
   ]
  },
  {
   "cell_type": "code",
   "execution_count": 8,
   "id": "2f8661c3-d0ed-4c83-a76f-4d6cc25e5acc",
   "metadata": {},
   "outputs": [
    {
     "name": "stdout",
     "output_type": "stream",
     "text": [
      "100\n"
     ]
    }
   ],
   "source": [
    "basket2 =[10, 20, 30, basket1]\n",
    "print(basket2[3][2])"
   ]
  },
  {
   "cell_type": "code",
   "execution_count": 9,
   "id": "973f4c65-a592-4b5a-b852-10ffd63bcf60",
   "metadata": {},
   "outputs": [
    {
     "data": {
      "text/plain": [
       "33"
      ]
     },
     "execution_count": 9,
     "metadata": {},
     "output_type": "execute_result"
    }
   ],
   "source": [
    "basket3 = [\"apples\", \"pears\", \"berries\", \"bananas\"]\n",
    "basket4 = [basket2, basket3]\n",
    "basket4[0][2] + basket4[0][3][-2]"
   ]
  },
  {
   "cell_type": "code",
   "execution_count": 10,
   "id": "d58da61b-9301-400f-a9ec-03b8bb9f27dc",
   "metadata": {},
   "outputs": [
    {
     "data": {
      "text/plain": [
       "2"
      ]
     },
     "execution_count": 10,
     "metadata": {},
     "output_type": "execute_result"
    }
   ],
   "source": [
    "basket5 = [\"a\", \"a\", \"a\", 1, 1,1,1, 3, 3, 3,3, 3, 50, 50]\n",
    "basket5.count(50)"
   ]
  },
  {
   "cell_type": "code",
   "execution_count": 14,
   "id": "85689a6f-2c33-4cd2-a944-e8294d458ada",
   "metadata": {},
   "outputs": [
    {
     "name": "stdout",
     "output_type": "stream",
     "text": [
      "16\n",
      "[10, 20, 30, 40]\n",
      "['car', 'bar', 'star']\n",
      "['star', 'bar', 'car', False, 40, 20, 'd', 'b']\n",
      "['star', 'bar', 'car', False]\n",
      "[-1, -2, -3]\n"
     ]
    }
   ],
   "source": [
    "basket6 = [\"a\", \"b\", \"c\", \"d\", 10, 20, 30,40, True, False,\n",
    "           -1, \"car\", -2, \"bar\", -3, \"star\"]\n",
    "print(len(basket6))\n",
    "print(basket6[4:8])\n",
    "print(basket6[11::2])\n",
    "print(basket6[15::-2])\n",
    "print(basket6[15:8:-2])\n",
    "print(basket6[10:15:2])"
   ]
  },
  {
   "cell_type": "code",
   "execution_count": 13,
   "id": "589ca8b7-1c87-4daa-b35f-53a9d9ae3fba",
   "metadata": {},
   "outputs": [
    {
     "data": {
      "text/plain": [
       "[1, 2, 100, 3, 'Chips']"
      ]
     },
     "execution_count": 13,
     "metadata": {},
     "output_type": "execute_result"
    }
   ],
   "source": [
    "basket1[-1] = \"Chips\"\n",
    "basket1"
   ]
  },
  {
   "cell_type": "code",
   "execution_count": null,
   "id": "11346b0f-05a4-443f-99ee-9afe52feb7d9",
   "metadata": {},
   "outputs": [],
   "source": []
  }
 ],
 "metadata": {
  "kernelspec": {
   "display_name": "Python 3 (ipykernel)",
   "language": "python",
   "name": "python3"
  },
  "language_info": {
   "codemirror_mode": {
    "name": "ipython",
    "version": 3
   },
   "file_extension": ".py",
   "mimetype": "text/x-python",
   "name": "python",
   "nbconvert_exporter": "python",
   "pygments_lexer": "ipython3",
   "version": "3.10.9"
  }
 },
 "nbformat": 4,
 "nbformat_minor": 5
}
