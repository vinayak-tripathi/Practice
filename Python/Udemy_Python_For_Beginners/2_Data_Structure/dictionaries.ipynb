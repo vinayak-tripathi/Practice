{
 "cells": [
  {
   "cell_type": "markdown",
   "id": "b858d3b3-da49-4cb8-a4a6-e8f0415bdfea",
   "metadata": {},
   "source": [
    "## DICTIONARIES"
   ]
  },
  {
   "cell_type": "code",
   "execution_count": 1,
   "id": "bfe5ccda-1073-4f56-b262-bf803dd63d6c",
   "metadata": {},
   "outputs": [
    {
     "name": "stdout",
     "output_type": "stream",
     "text": [
      "{'A': 10, 'B': 20, 'C': 50}\n"
     ]
    }
   ],
   "source": [
    "d1 = {}\n",
    "type(d1)\n",
    "d1[\"A\"] = 10\n",
    "d1[\"B\"] = 20\n",
    "d1[\"C\"] = 50\n",
    "print(d1)"
   ]
  },
  {
   "cell_type": "code",
   "execution_count": 2,
   "id": "40ef7d6f-fab0-4f8d-9dc9-7d71813ac1a6",
   "metadata": {},
   "outputs": [
    {
     "data": {
      "text/plain": [
       "{'A': 10, 'B': 20, 'C': 1000}"
      ]
     },
     "execution_count": 2,
     "metadata": {},
     "output_type": "execute_result"
    }
   ],
   "source": [
    "d1[\"C\"] = 1000\n",
    "d1\n"
   ]
  },
  {
   "cell_type": "code",
   "execution_count": 3,
   "id": "739edd91-2abd-40e6-952e-b6e72082a2a9",
   "metadata": {},
   "outputs": [
    {
     "name": "stdout",
     "output_type": "stream",
     "text": [
      "{'robot': 40, 'car': 50, 'A': 10, 'B': 20, 'C': 1000}\n"
     ]
    }
   ],
   "source": [
    "toys = {\"robot\": 40, \"car\": 50}\n",
    "toys.update(d1)\n",
    "print(toys)"
   ]
  },
  {
   "cell_type": "code",
   "execution_count": 4,
   "id": "6cef8a0b-a247-4550-86c6-ddb9a0da5318",
   "metadata": {},
   "outputs": [
    {
     "name": "stdout",
     "output_type": "stream",
     "text": [
      "dict_keys(['robot', 'car', 'A', 'B', 'C'])\n",
      "dict_values([40, 50, 10, 20, 1000])\n"
     ]
    }
   ],
   "source": [
    "print(toys.keys())\n",
    "print(toys.values())"
   ]
  },
  {
   "cell_type": "code",
   "execution_count": 5,
   "id": "bc277441-a06d-4b62-bdfd-31ffe67d7db8",
   "metadata": {},
   "outputs": [
    {
     "name": "stdout",
     "output_type": "stream",
     "text": [
      "{'robot': 40, 'car': 50, 'B': 20, 'C': 1000}\n"
     ]
    }
   ],
   "source": [
    "toys.pop(\"A\")\n",
    "print(toys)"
   ]
  },
  {
   "cell_type": "code",
   "execution_count": null,
   "id": "1114ec31-a368-4168-8104-30c246a9f89d",
   "metadata": {},
   "outputs": [],
   "source": []
  }
 ],
 "metadata": {
  "kernelspec": {
   "display_name": "Python 3 (ipykernel)",
   "language": "python",
   "name": "python3"
  },
  "language_info": {
   "codemirror_mode": {
    "name": "ipython",
    "version": 3
   },
   "file_extension": ".py",
   "mimetype": "text/x-python",
   "name": "python",
   "nbconvert_exporter": "python",
   "pygments_lexer": "ipython3",
   "version": "3.10.9"
  }
 },
 "nbformat": 4,
 "nbformat_minor": 5
}
