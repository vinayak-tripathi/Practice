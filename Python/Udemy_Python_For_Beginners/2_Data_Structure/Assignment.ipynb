{
 "cells": [
  {
   "cell_type": "markdown",
   "id": "d805a73d-07b1-4676-b25a-8457d7157e94",
   "metadata": {},
   "source": [
    "### TASK 1: ADD ALL DICTIONARY VALUES"
   ]
  },
  {
   "cell_type": "code",
   "execution_count": 1,
   "id": "5e08b959-c334-407a-8dbc-002a615624c4",
   "metadata": {},
   "outputs": [
    {
     "name": "stdout",
     "output_type": "stream",
     "text": [
      "{'robot': '$40.0', 'car': '$25', 'ironman': '$12'}\n"
     ]
    }
   ],
   "source": [
    "toys = {\"robot\": \"$40.0\", \"car\": \"$25\", \"ironman\": \"$12\"}\n",
    "print(toys)"
   ]
  },
  {
   "cell_type": "code",
   "execution_count": 2,
   "id": "f33a1d1b-1e44-4a0e-a30c-dd8853c5b9df",
   "metadata": {},
   "outputs": [
    {
     "data": {
      "text/plain": [
       "77"
      ]
     },
     "execution_count": 2,
     "metadata": {},
     "output_type": "execute_result"
    }
   ],
   "source": [
    "int(eval(list(toys.values())[0][1:]) +\n",
    "    eval(list(toys.values())[1][1:]) +\n",
    "    eval(list(toys.values())[2][1:]))"
   ]
  },
  {
   "cell_type": "code",
   "execution_count": 3,
   "id": "1f3a9f47-1863-4bd0-aaad-20cb262aec3a",
   "metadata": {},
   "outputs": [
    {
     "data": {
      "text/plain": [
       "12"
      ]
     },
     "execution_count": 3,
     "metadata": {},
     "output_type": "execute_result"
    }
   ],
   "source": [
    "eval(list(toys.values())[2][1:])\n"
   ]
  },
  {
   "cell_type": "markdown",
   "id": "efb9654a-04ad-47b2-ab5c-f554fb963f25",
   "metadata": {},
   "source": [
    "### TASK 2: USE COMPARISON OPERATORS IN A LIST"
   ]
  },
  {
   "cell_type": "code",
   "execution_count": 4,
   "id": "595fee01-0cdc-4025-978f-402386b4d591",
   "metadata": {},
   "outputs": [
    {
     "name": "stdout",
     "output_type": "stream",
     "text": [
      "[True, True, False, True, False]\n"
     ]
    }
   ],
   "source": [
    "questions = [10 != 4, 50 == 50, 90 == 10, \"c\" in (\"a\", \"b\", \"c\"), 100 != 100\n",
    "]\n",
    "print(questions)"
   ]
  },
  {
   "cell_type": "markdown",
   "id": "fb1e5953-63c0-42e1-874d-a321be776fdb",
   "metadata": {},
   "source": [
    "### TASK 3: LEN KEY VALUES WITH COMPARISON OPERATORS"
   ]
  },
  {
   "cell_type": "code",
   "execution_count": 5,
   "id": "370f0172-03eb-4507-9d75-c7765dbc3c4c",
   "metadata": {},
   "outputs": [
    {
     "data": {
      "text/plain": [
       "True"
      ]
     },
     "execution_count": 5,
     "metadata": {},
     "output_type": "execute_result"
    }
   ],
   "source": [
    "films = {\"k1\": \"blade runner 2049\", \"k2\": \"matrix\", \"k3\": \"ninja scroll\"}\n",
    "len((films[\"k1\"])) > len((films[\"k2\"])) < len((films[\"k3\"]))"
   ]
  },
  {
   "cell_type": "code",
   "execution_count": 6,
   "id": "deadd924-012e-4907-b2b8-81613dccdb71",
   "metadata": {},
   "outputs": [
    {
     "data": {
      "text/plain": [
       "17"
      ]
     },
     "execution_count": 6,
     "metadata": {},
     "output_type": "execute_result"
    }
   ],
   "source": [
    "len(films[\"k1\"])"
   ]
  },
  {
   "cell_type": "markdown",
   "id": "2537993d-2af2-423d-95cf-783a700a11fb",
   "metadata": {},
   "source": [
    "### TASK 4: UPDATE DICTIONARY"
   ]
  },
  {
   "cell_type": "code",
   "execution_count": 7,
   "id": "98b6aa27-82ca-440f-a63d-d3f93422c405",
   "metadata": {},
   "outputs": [
    {
     "data": {
      "text/plain": [
       "{0: 'embryo',\n",
       " 1: 'fetus',\n",
       " 2: 'baby',\n",
       " 3: 'infant',\n",
       " 4: 'teen',\n",
       " 5: 'adult',\n",
       " 6: 'big kid!'}"
      ]
     },
     "execution_count": 7,
     "metadata": {},
     "output_type": "execute_result"
    }
   ],
   "source": [
    "life_stages = {0: \"embryo\", 1: \"fetus\", 2:\"baby\", 3:\"infant\",4: \"teen\"}\n",
    "midlife = {5: \"adult\", 6: \"big kid!\"}\n",
    "life_stages.update(midlife)\n",
    "life_stages"
   ]
  },
  {
   "cell_type": "markdown",
   "id": "07ec50ce-eecf-4b02-a580-ef89167a9208",
   "metadata": {},
   "source": [
    "### TASK 5: ADD ALL VALUES FROM LIST"
   ]
  },
  {
   "cell_type": "code",
   "execution_count": 8,
   "id": "263ae95f-6f07-425d-be00-9180dfab8c20",
   "metadata": {},
   "outputs": [
    {
     "data": {
      "text/plain": [
       "[(1, 2, 3), {'k1': [30, 1, 300, 2, 77], 'k2': [10, 20, 30]}, ['a', '500', 'c']]"
      ]
     },
     "execution_count": 8,
     "metadata": {},
     "output_type": "execute_result"
    }
   ],
   "source": [
    "nest1 = [(1,2,3), {\"k1\": [30, 1, 300, 2, 77], \"k2\": [10,20,30]},\n",
    "[\"a\", \"500\", \"c\"]]\n",
    "nest1"
   ]
  },
  {
   "cell_type": "code",
   "execution_count": 9,
   "id": "2a4a6e8a-21c1-4a4b-b3fd-8379a3036343",
   "metadata": {},
   "outputs": [
    {
     "data": {
      "text/plain": [
       "833.0"
      ]
     },
     "execution_count": 9,
     "metadata": {},
     "output_type": "execute_result"
    }
   ],
   "source": [
    "float(nest1[0][2] + sorted(nest1[1][\"k1\"])[-1] + nest1[1][\"k2\"][2] +\n",
    "        eval(nest1[2][1]))"
   ]
  },
  {
   "cell_type": "markdown",
   "id": "c0e5d439-fbd1-442e-b0ca-8e246af397ef",
   "metadata": {},
   "source": [
    "### TASK 6: ADD ALL DICTIONARY VALUES INTO A STRING"
   ]
  },
  {
   "cell_type": "code",
   "execution_count": 13,
   "id": "9f5e17c2-3fc5-46c9-98e0-ac6d8d8dd821",
   "metadata": {},
   "outputs": [
    {
     "data": {
      "text/plain": [
       "'The bill for the pizza, chips and drink came to $15.5'"
      ]
     },
     "execution_count": 13,
     "metadata": {},
     "output_type": "execute_result"
    }
   ],
   "source": [
    "prices = [\"a\", \"b\", \"9\", \"c\", \"d\", \"FOUR\", \"e\", \"f\", \"2.5\"]\n",
    "item = prices[2::3]\n",
    "pizza = eval(item[0])\n",
    "chips = len(item[1])\n",
    "drink = eval(item[2])\n",
    "sentence = \"\"\"The bill for the #!/{},?? {}#!/ ??and drink came to {}??\"\"\".format(\"pizza\", \"chips\", \"$\" + str(pizza + chips + drink)).replace(\"#!/\",\"\").replace(\"??\", \"\")\n",
    "sentence"
   ]
  },
  {
   "cell_type": "code",
   "execution_count": null,
   "id": "9f3918ae-2456-412a-b7ee-77e6df34270c",
   "metadata": {},
   "outputs": [],
   "source": []
  }
 ],
 "metadata": {
  "kernelspec": {
   "display_name": "Python 3 (ipykernel)",
   "language": "python",
   "name": "python3"
  },
  "language_info": {
   "codemirror_mode": {
    "name": "ipython",
    "version": 3
   },
   "file_extension": ".py",
   "mimetype": "text/x-python",
   "name": "python",
   "nbconvert_exporter": "python",
   "pygments_lexer": "ipython3",
   "version": "3.10.9"
  }
 },
 "nbformat": 4,
 "nbformat_minor": 5
}
