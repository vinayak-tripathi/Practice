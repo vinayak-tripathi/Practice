{
 "cells": [
  {
   "cell_type": "markdown",
   "id": "de34c54a-42a9-4b2c-9e06-6959e8df585f",
   "metadata": {},
   "source": [
    "## LIST COMPREHENSION"
   ]
  },
  {
   "cell_type": "code",
   "execution_count": 1,
   "id": "946a0060-6b3e-46d4-aca2-b599d53aaace",
   "metadata": {},
   "outputs": [
    {
     "name": "stdout",
     "output_type": "stream",
     "text": [
      "['u', 'n', 'i', 'v', 'e', 'r', 's', 'e']\n"
     ]
    }
   ],
   "source": [
    "cosmos = []\n",
    "for i in \"universe\":\n",
    "    cosmos.append(i)\n",
    "print(cosmos)"
   ]
  },
  {
   "cell_type": "code",
   "execution_count": 2,
   "id": "213c0038-b7d4-4f8d-96da-d2448ea19653",
   "metadata": {},
   "outputs": [
    {
     "name": "stdout",
     "output_type": "stream",
     "text": [
      "['u', 'n', 'i', 'v', 'e', 'r', 's', 'e']\n"
     ]
    }
   ],
   "source": [
    "print([u for u in \"universe\"])"
   ]
  },
  {
   "cell_type": "code",
   "execution_count": 3,
   "id": "82462401-5f5a-426e-88ae-e280ce6b4219",
   "metadata": {},
   "outputs": [
    {
     "name": "stdout",
     "output_type": "stream",
     "text": [
      "[0, 1, 4, 9, 16, 25, 36, 49, 64, 81, 100]\n"
     ]
    }
   ],
   "source": [
    "norm = []\n",
    "for n in range(0, 11):\n",
    "    result = n**2\n",
    "    norm.append(result)\n",
    "print(norm)"
   ]
  },
  {
   "cell_type": "code",
   "execution_count": 4,
   "id": "55bac8f5-1e74-442b-ae81-0bc9887afe72",
   "metadata": {},
   "outputs": [
    {
     "name": "stdout",
     "output_type": "stream",
     "text": [
      "[0, 1, 4, 9, 16, 25, 36, 49, 64, 81, 100]\n"
     ]
    }
   ],
   "source": [
    "print([x**2 for x in range(0, 11)])"
   ]
  },
  {
   "cell_type": "code",
   "execution_count": 5,
   "id": "637835f6-a7da-41a4-b576-42cda4138238",
   "metadata": {},
   "outputs": [
    {
     "name": "stdout",
     "output_type": "stream",
     "text": [
      "['cat is hungry!', 'dog is hungry!', 'rabbit is hungry!', 'duck is hungry!', 'mouse is hungry!', 'piglet is hungry!']\n"
     ]
    }
   ],
   "source": [
    "pets = [\"cat\", \"dog\", \"rabbit\", \"duck\", \"mouse\",\"piglet\"]\n",
    "rad = []\n",
    "for i in range(len(pets)):\n",
    "    res = pets[i] + \" is hungry!\"\n",
    "    rad.append(res)\n",
    "print(rad)"
   ]
  },
  {
   "cell_type": "code",
   "execution_count": 7,
   "id": "a8928f8b-aa97-42d8-a514-41bba85dba1f",
   "metadata": {},
   "outputs": [
    {
     "name": "stdout",
     "output_type": "stream",
     "text": [
      "['cat is hungry!', 'dog is hungry!', 'rabbit is hungry!', 'duck is hungry!', 'mouse is hungry!', 'piglet is hungry!']\n"
     ]
    }
   ],
   "source": [
    "print([pets[i] + \" is hungry!\" for i in range(len(pets))])"
   ]
  },
  {
   "cell_type": "code",
   "execution_count": 8,
   "id": "516b37c4-0e0b-49a5-8556-a48bfb754b6a",
   "metadata": {},
   "outputs": [
    {
     "data": {
      "text/plain": [
       "[27, 125, 343, 729]"
      ]
     },
     "execution_count": 8,
     "metadata": {},
     "output_type": "execute_result"
    }
   ],
   "source": [
    "count = []\n",
    "for num in range(0,11):\n",
    "    if num >= 3 and num %2 == 1:\n",
    "        new = num**3\n",
    "        count.append(new)\n",
    "count"
   ]
  }
 ],
 "metadata": {
  "kernelspec": {
   "display_name": "Python 3 (ipykernel)",
   "language": "python",
   "name": "python3"
  },
  "language_info": {
   "codemirror_mode": {
    "name": "ipython",
    "version": 3
   },
   "file_extension": ".py",
   "mimetype": "text/x-python",
   "name": "python",
   "nbconvert_exporter": "python",
   "pygments_lexer": "ipython3",
   "version": "3.10.9"
  }
 },
 "nbformat": 4,
 "nbformat_minor": 5
}
