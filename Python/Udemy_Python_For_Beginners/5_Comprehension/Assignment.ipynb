{
 "cells": [
  {
   "cell_type": "markdown",
   "id": "7c44696c-f487-4712-bea3-69df82e51679",
   "metadata": {},
   "source": [
    "### TASK 1: CONVERT FOR LOOP TO LIST COMPREHENSION"
   ]
  },
  {
   "cell_type": "code",
   "execution_count": 1,
   "id": "1c6958f5-2078-48ee-ab19-646b8d620d9c",
   "metadata": {},
   "outputs": [
    {
     "data": {
      "text/plain": [
       "[30, 31, 32, 33, 34, 35, 36, 37, 38, 39]"
      ]
     },
     "execution_count": 1,
     "metadata": {},
     "output_type": "execute_result"
    }
   ],
   "source": [
    "simple = []\n",
    "for i in range(10):\n",
    "    s = i + 30\n",
    "    simple.append(s)\n",
    "simple"
   ]
  },
  {
   "cell_type": "code",
   "execution_count": 2,
   "id": "e25531c0-ce9a-4992-ad5d-01be56f657d0",
   "metadata": {},
   "outputs": [
    {
     "name": "stdout",
     "output_type": "stream",
     "text": [
      "[30, 31, 32, 33, 34, 35, 36, 37, 38, 39]\n"
     ]
    }
   ],
   "source": [
    "print([i+30 for i in range(10)])"
   ]
  },
  {
   "cell_type": "markdown",
   "id": "c23798e2-50ee-454b-abb0-80fb814b0614",
   "metadata": {},
   "source": [
    "### TASK 2: USE FOR LOOP WITH LIST COMPREHENSION\n"
   ]
  },
  {
   "cell_type": "code",
   "execution_count": 3,
   "id": "9c83b88e-91d3-4ce6-a9c4-652ba6a7b7e7",
   "metadata": {},
   "outputs": [
    {
     "data": {
      "text/plain": [
       "['The number is 0',\n",
       " 'The number is 2',\n",
       " 'The number is 4',\n",
       " 'The number is 6',\n",
       " 'The number is 8']"
      ]
     },
     "execution_count": 3,
     "metadata": {},
     "output_type": "execute_result"
    }
   ],
   "source": [
    "x= 0\n",
    "case = []\n",
    "while x < 10:\n",
    "    s = \"The number is \" + str(x)\n",
    "    case.append(s)\n",
    "    x += 2\n",
    "case"
   ]
  },
  {
   "cell_type": "code",
   "execution_count": 4,
   "id": "f8413aa8-3ed2-44c6-aa78-61a9ff7b69c8",
   "metadata": {},
   "outputs": [
    {
     "name": "stdout",
     "output_type": "stream",
     "text": [
      "['The number is 0', 'The number is 2', 'The number is 4', 'The number is 6', 'The number is 8']\n"
     ]
    }
   ],
   "source": [
    "print([\"The number is \"+str(x) for x in range(0,10,2)])"
   ]
  },
  {
   "cell_type": "markdown",
   "id": "1dbaf146-c2d1-471c-8a04-049f4d504d28",
   "metadata": {},
   "source": [
    "### TASK 3:CONTROL FLOW WITH MODULUS IN LIST COMPREHENSION"
   ]
  },
  {
   "cell_type": "code",
   "execution_count": 5,
   "id": "fa9fd214-ac22-41e9-a45e-b9b786eaeb14",
   "metadata": {},
   "outputs": [
    {
     "name": "stdout",
     "output_type": "stream",
     "text": [
      "[1728, 2744, 4096, 5832]\n"
     ]
    }
   ],
   "source": [
    "print([d**3 for d in range(20) if d %2 == 0 and d > 10])"
   ]
  },
  {
   "cell_type": "markdown",
   "id": "68642352-ad8a-4875-a113-5b269913e78b",
   "metadata": {},
   "source": [
    "### TASK 4: CREATE TWO NESTED LIST COMPREHENSIONS INSIDE A DICTIONARY\n"
   ]
  },
  {
   "cell_type": "code",
   "execution_count": 6,
   "id": "98df51b4-f400-4bb3-85f0-4c23cdf09609",
   "metadata": {},
   "outputs": [
    {
     "name": "stdout",
     "output_type": "stream",
     "text": [
      "{'k3': 495}\n"
     ]
    }
   ],
   "source": [
    "d2 = {\"k1\": [(g + 20 * g) for g in range(10) if g < 5],\n",
    "      \"k2\": [e*e for e in range(20) if e < 10]}\n",
    "d3 = {\"k3\": sum(d2[\"k1\"]) + sum(d2[\"k2\"])}\n",
    "print(d3)"
   ]
  },
  {
   "cell_type": "code",
   "execution_count": null,
   "id": "bc5965f6-9df4-4718-a567-c5616e50431c",
   "metadata": {},
   "outputs": [],
   "source": []
  }
 ],
 "metadata": {
  "kernelspec": {
   "display_name": "Python 3 (ipykernel)",
   "language": "python",
   "name": "python3"
  },
  "language_info": {
   "codemirror_mode": {
    "name": "ipython",
    "version": 3
   },
   "file_extension": ".py",
   "mimetype": "text/x-python",
   "name": "python",
   "nbconvert_exporter": "python",
   "pygments_lexer": "ipython3",
   "version": "3.10.9"
  }
 },
 "nbformat": 4,
 "nbformat_minor": 5
}
