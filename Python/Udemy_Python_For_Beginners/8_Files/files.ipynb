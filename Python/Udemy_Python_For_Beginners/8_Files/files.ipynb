{
 "cells": [
  {
   "cell_type": "markdown",
   "id": "f488e784-806b-4141-bb86-8858ba401870",
   "metadata": {},
   "source": [
    "## WORKING WITH TXT FILES\n",
    "* Use one of four modes for txt files:\n",
    "    * \"w\" for writing\n",
    "    * \"r\" for reading\n",
    "    * \"r+\" for both reading and writing\n",
    "    * \"a\" for appending new written lines\n"
   ]
  },
  {
   "cell_type": "code",
   "execution_count": 10,
   "id": "6b61fdb0-e8eb-42d9-9aa7-e89e06411233",
   "metadata": {},
   "outputs": [],
   "source": [
    "desk = \"\"\n",
    "f = open(desk + \"first.txt\", \"w\")\n",
    "#writing to file\n",
    "f.write(\"This is my first file!\")\n",
    "f.write(\"\\nHello world!\")\n",
    "f.close()"
   ]
  },
  {
   "cell_type": "code",
   "execution_count": 11,
   "id": "79d08e02-8636-4ab1-a51e-610d0d6248a8",
   "metadata": {},
   "outputs": [],
   "source": [
    "f1 = open(desk + \"first.txt\", \"a\")\n",
    "#appending to file\n",
    "f1.write(\"\\nGood Night!\")\n",
    "f1.close()"
   ]
  },
  {
   "cell_type": "code",
   "execution_count": 12,
   "id": "5f2fbc9e-e5cf-4e12-9f1b-f82474b63004",
   "metadata": {},
   "outputs": [],
   "source": [
    "with open(desk + \"first.txt\", \"a\") as g:\n",
    "    g.write(\"\\nCool!\")"
   ]
  },
  {
   "cell_type": "code",
   "execution_count": 13,
   "id": "56c89705-640a-4df0-bcc5-077c661ca762",
   "metadata": {},
   "outputs": [
    {
     "name": "stdout",
     "output_type": "stream",
     "text": [
      "This is my first file!\n",
      "Hello world!\n",
      "Good Night!\n",
      "Cool!\n"
     ]
    }
   ],
   "source": [
    "f2 = open(desk + \"first.txt\", \"r\")\n",
    "print(f2.read())\n",
    "f2.close()"
   ]
  },
  {
   "cell_type": "code",
   "execution_count": 15,
   "id": "61d73d77-0f5d-4a31-9260-09efd8024fe0",
   "metadata": {},
   "outputs": [],
   "source": [
    "gear = [\"Blade Wolf\", \"Raiden\", \"Sam\"]\n",
    "path = \"second.txt\"\n",
    "for i in range(len(gear)):\n",
    "    with open(path.format(i), \"w\") as f3:\n",
    "        f3.write(gear[i])\n",
    "        # f3.write(\"\\n\"+gear[1])\n",
    "        f3.write(\"\\n{} is cooler than {}\".format(gear[0], gear[1]))"
   ]
  },
  {
   "cell_type": "code",
   "execution_count": 18,
   "id": "da234bdc-9d64-4c2e-98ce-f9fcead6037b",
   "metadata": {},
   "outputs": [],
   "source": [
    "simpsons = [[\"Bart in detention\", \"Lisa at MIT\"],\n",
    "            [\"Dougnuts...Mmm\", \"Homer: 'Nom, nom, nom!'\"]]\n",
    "transformers = [[\"HotRod opens matrix\", \"Optimus returns!\"],\n",
    "                [\"Unicron explodes\", \"Megatron jumps\"]]\n",
    "def File(text):\n",
    "    path = \"\"\n",
    "    for i in range(len(text)):\n",
    "        with open(path + \"cartoon_{}.txt\".format(i),\"w\") as f:\n",
    "            f.write(text[i][0])\n",
    "            f.write(\"\\n\"+text[i][1])\n",
    "File(transformers)"
   ]
  },
  {
   "cell_type": "code",
   "execution_count": 19,
   "id": "b75eda65-4364-4b5b-8893-9176a8a659b3",
   "metadata": {},
   "outputs": [],
   "source": [
    "dc = open(\"skynet.txt\", \"w\")\n",
    "dc.write(\"\"\"Terminator is \\n\n",
    "hunting John connor \\n\n",
    "and Sarah is protecting him\"\"\")\n",
    "dc.close()"
   ]
  },
  {
   "cell_type": "code",
   "execution_count": 20,
   "id": "ef92a5af-f67d-47d5-9861-9b5c1c8c70c0",
   "metadata": {},
   "outputs": [],
   "source": [
    "d = open(\"skynet.txt\", \"r+\")\n",
    "d.write(\"\\n hasta la vista baby!\")\n",
    "end = d.readlines()\n",
    "d.close()"
   ]
  },
  {
   "cell_type": "code",
   "execution_count": 21,
   "id": "8242655b-580f-47cf-88f3-380571df2427",
   "metadata": {},
   "outputs": [],
   "source": [
    "film = \"\".join(end)"
   ]
  },
  {
   "cell_type": "code",
   "execution_count": null,
   "id": "4940700e-8436-48ae-9747-d2306d23f5d4",
   "metadata": {},
   "outputs": [],
   "source": []
  }
 ],
 "metadata": {
  "kernelspec": {
   "display_name": "Python 3 (ipykernel)",
   "language": "python",
   "name": "python3"
  },
  "language_info": {
   "codemirror_mode": {
    "name": "ipython",
    "version": 3
   },
   "file_extension": ".py",
   "mimetype": "text/x-python",
   "name": "python",
   "nbconvert_exporter": "python",
   "pygments_lexer": "ipython3",
   "version": "3.10.9"
  }
 },
 "nbformat": 4,
 "nbformat_minor": 5
}
