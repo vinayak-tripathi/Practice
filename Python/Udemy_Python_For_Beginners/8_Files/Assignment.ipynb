{
 "cells": [
  {
   "cell_type": "markdown",
   "id": "2485cf92-7b39-4c6d-be84-32247a1c9f9e",
   "metadata": {},
   "source": [
    "### TASK 1: COMPARE TWO TXT FILES"
   ]
  },
  {
   "cell_type": "code",
   "execution_count": 1,
   "id": "c2e542d3-b779-4626-a09e-b27b1b0dfe0a",
   "metadata": {},
   "outputs": [],
   "source": [
    "d = open(\"rain.txt\", \"w\")\n",
    "d.write(\"Hi\")\n",
    "d.write(\"\\nfood is hot\"*2)\n",
    "d.write(\"\\nsunny day\"*3)\n",
    "d.close()\n",
    "e = open(\"cloud.txt\", \"w\")\n",
    "e.write(\"Hi\")\n",
    "e.write(\"\\nfood is cold\"*2)\n",
    "e.write(\"\\nsunny day\"*3)\n",
    "e.close()"
   ]
  },
  {
   "cell_type": "code",
   "execution_count": 2,
   "id": "a0501ebf-aba0-4954-a8b2-750910f11b4b",
   "metadata": {},
   "outputs": [
    {
     "name": "stdout",
     "output_type": "stream",
     "text": [
      "True\n",
      "False\n",
      "False\n",
      "True\n",
      "True\n",
      "True\n"
     ]
    }
   ],
   "source": [
    "a = open(\"rain.txt\", \"r\")\n",
    "b = open(\"cloud.txt\", \"r\")\n",
    "day = a.readlines()\n",
    "night = b.readlines()\n",
    "for i in range(6):\n",
    "    if day[i] == night[i]:\n",
    "        print(True)\n",
    "    else:\n",
    "        print(False)\n",
    "a.close()\n",
    "b.close()"
   ]
  },
  {
   "cell_type": "code",
   "execution_count": 3,
   "id": "0f4bee7c-6e15-4da7-aaf7-5bc394631517",
   "metadata": {},
   "outputs": [
    {
     "name": "stdout",
     "output_type": "stream",
     "text": [
      "True\n",
      "False\n"
     ]
    }
   ],
   "source": [
    "a, b = open(\"rain.txt\", \"r\"), open(\"cloud.txt\", \"r\")\n",
    "day, night = a.readlines(), b.readlines()\n",
    "for d in [True if day[i] == night[i] else False for i in range(2)]:\n",
    "    print(d)\n",
    "a.close()\n",
    "b.close()"
   ]
  },
  {
   "cell_type": "markdown",
   "id": "09721480-7b3a-4f7d-af3b-258e2c8529fa",
   "metadata": {},
   "source": [
    "### TASK 2: THREE INPUTS FOR THREE TXT FILES1"
   ]
  },
  {
   "cell_type": "code",
   "execution_count": 5,
   "id": "d79111c3-89c3-4ed3-b979-7c23246a7479",
   "metadata": {},
   "outputs": [
    {
     "name": "stdin",
     "output_type": "stream",
     "text": [
      "add text:  win\n",
      "add text:  lose\n",
      "add text:  draw\n"
     ]
    }
   ],
   "source": [
    "files = [\"morning\", \"evening\", \"night\"]\n",
    "for i in range(len(files)):\n",
    "    d = open(files[i]+ \".txt\", \"w\")\n",
    "    d.write(\"game\")\n",
    "    d.close()\n",
    "    num = input(\"add text: \")\n",
    "    d = open(files[i]+\".txt\", \"a\")\n",
    "    d.write(\"\\n\" +num)\n",
    "    d.close()"
   ]
  },
  {
   "cell_type": "markdown",
   "id": "06a4cff8-c1f2-4ddb-bec3-4cedcdabecf4",
   "metadata": {},
   "source": [
    "### TASK 3: FILTER OUT WORDS BASED ON LENGTH"
   ]
  },
  {
   "cell_type": "code",
   "execution_count": 10,
   "id": "d328b030-e90d-48c8-b5a0-8ee12a572612",
   "metadata": {},
   "outputs": [
    {
     "data": {
      "text/plain": [
       "['computer',\n",
       " 'python',\n",
       " 'udemy',\n",
       " 'intelligence',\n",
       " 'universal',\n",
       " 'jupyter',\n",
       " 'java',\n",
       " 'javascript']"
      ]
     },
     "execution_count": 10,
     "metadata": {},
     "output_type": "execute_result"
    }
   ],
   "source": [
    "w = open(\"count.txt\", \"w\")\n",
    "w.write(\"\"\"computer\\n\n",
    "python\\n\n",
    "udemy\\n\n",
    "intelligence\\n\n",
    "universal\\n\n",
    "jupyter\\n\n",
    "java\\n\n",
    "javascript\\n\"\"\")\n",
    "w.close()\n",
    "with open(\"count.txt\", \"r+\") as comp:\n",
    "    g = \"\".join(comp.readlines())\n",
    "g2 = g.replace(\"\\n\\n\", \" \").split()\n",
    "g2"
   ]
  },
  {
   "cell_type": "code",
   "execution_count": 11,
   "id": "1bbb856b-4b2d-4959-8be4-167f0a570692",
   "metadata": {},
   "outputs": [
    {
     "data": {
      "text/plain": [
       "['python', 'udemy', 'jupyter']"
      ]
     },
     "execution_count": 11,
     "metadata": {},
     "output_type": "execute_result"
    }
   ],
   "source": [
    "with open(\"count.txt\", \"r+\") as comp:\n",
    "    g = \"\".join(comp.readlines()).replace(\"\\n\", \" \").split()\n",
    "[i for i in g if len(i) >= 5 and len(i) <= 7]"
   ]
  },
  {
   "cell_type": "code",
   "execution_count": null,
   "id": "372549e2-20da-4f44-b6b9-a01c47b09fc8",
   "metadata": {},
   "outputs": [],
   "source": []
  }
 ],
 "metadata": {
  "kernelspec": {
   "display_name": "Python 3 (ipykernel)",
   "language": "python",
   "name": "python3"
  },
  "language_info": {
   "codemirror_mode": {
    "name": "ipython",
    "version": 3
   },
   "file_extension": ".py",
   "mimetype": "text/x-python",
   "name": "python",
   "nbconvert_exporter": "python",
   "pygments_lexer": "ipython3",
   "version": "3.10.9"
  }
 },
 "nbformat": 4,
 "nbformat_minor": 5
}
