{
 "cells": [
  {
   "cell_type": "markdown",
   "id": "372d36a8-1fe7-474b-bdca-399b77c8f7c0",
   "metadata": {},
   "source": [
    "### Task1"
   ]
  },
  {
   "cell_type": "code",
   "execution_count": 1,
   "id": "8921c67e-8769-4648-b2de-562937ae3420",
   "metadata": {},
   "outputs": [
    {
     "name": "stdin",
     "output_type": "stream",
     "text": [
      "Enter a number:  4\n"
     ]
    },
    {
     "name": "stdout",
     "output_type": "stream",
     "text": [
      "Where are you?\n"
     ]
    }
   ],
   "source": [
    "d1 = {\"k1\": [1,2,3, (100, 300, 500)], \"k2\": [4,5,6, [\"phone\", \"computer\", \"robot\"]]}\n",
    "var = eval(input(\"Enter a number: \"))\n",
    "if var in d1[\"k1\"]:\n",
    "    print(\"found you!\")\n",
    "    num = input(\"Enter a number or string: \")\n",
    "    if (num) in d1[\"k2\"][:3]:\n",
    "        print(\"Found another one!\")\n",
    "    elif num in d1[\"k2\"][3]:\n",
    "        print(\"Got a\", num)\n",
    "    else:\n",
    "        print(\"Can't find anything!\")\n",
    "elif var in d1[\"k1\"][3]:\n",
    "    print(\"can't hide!\")\n",
    "else:\n",
    "    print(\"Where are you?\")"
   ]
  },
  {
   "cell_type": "markdown",
   "id": "9702a175-30cb-4cfe-91e2-44adede1e67c",
   "metadata": {},
   "source": [
    "### Task2"
   ]
  },
  {
   "cell_type": "code",
   "execution_count": 3,
   "id": "faa735ad-aa49-468a-b261-26b18ee6d887",
   "metadata": {},
   "outputs": [
    {
     "name": "stdin",
     "output_type": "stream",
     "text": [
      "Enter a number 0 to 2:  0\n",
      "Enter a number 0 to 2:  1\n"
     ]
    },
    {
     "name": "stdout",
     "output_type": "stream",
     "text": [
      "My meal is hot and very sweet !\n"
     ]
    }
   ],
   "source": [
    "choose = eval(input(\"Enter a number 0 to 2: \"))\n",
    "pick = eval(input(\"Enter a number 0 to 2: \"))\n",
    "if (choose >2 and pick >2)or (choose <=2 and pick >2)or (choose >2 and pick<=2):\n",
    "    None\n",
    "else:\n",
    "    meal = []\n",
    "    cooked_pasta = [\"hot\", \"cold\", \"over cooked\"][choose]\n",
    "    sauce = [\"spicy\", \"sweet\", \"savoury\"][pick]\n",
    "    print(\"My meal is\", cooked_pasta, \"and very\", sauce, \"!\")"
   ]
  },
  {
   "cell_type": "code",
   "execution_count": null,
   "id": "2c9762c6-673f-43cf-beba-f19d179b59fc",
   "metadata": {},
   "outputs": [],
   "source": []
  }
 ],
 "metadata": {
  "kernelspec": {
   "display_name": "Python 3 (ipykernel)",
   "language": "python",
   "name": "python3"
  },
  "language_info": {
   "codemirror_mode": {
    "name": "ipython",
    "version": 3
   },
   "file_extension": ".py",
   "mimetype": "text/x-python",
   "name": "python",
   "nbconvert_exporter": "python",
   "pygments_lexer": "ipython3",
   "version": "3.10.9"
  }
 },
 "nbformat": 4,
 "nbformat_minor": 5
}
