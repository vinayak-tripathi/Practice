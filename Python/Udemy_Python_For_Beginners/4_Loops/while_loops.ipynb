{
 "cells": [
  {
   "cell_type": "markdown",
   "id": "c9b5753d-4f22-4d8f-a1d0-563814dfafba",
   "metadata": {},
   "source": [
    "## WHILE LOOPS"
   ]
  },
  {
   "cell_type": "code",
   "execution_count": 1,
   "id": "16efb4c1-4880-4cc2-8d0c-4000ebeb60c2",
   "metadata": {},
   "outputs": [
    {
     "name": "stdout",
     "output_type": "stream",
     "text": [
      "50\n",
      "60\n",
      "70\n",
      "80\n",
      "90\n",
      "100\n"
     ]
    }
   ],
   "source": [
    "x = 50\n",
    "while x <= 100:\n",
    "    print(x)\n",
    "    x += 10"
   ]
  },
  {
   "cell_type": "code",
   "execution_count": 2,
   "id": "f1bf0eb2-7e0a-4b28-81bc-1695c6c6a9ae",
   "metadata": {},
   "outputs": [
    {
     "name": "stdout",
     "output_type": "stream",
     "text": [
      "The multiplication is:  1\n",
      "The multiplication is:  2\n",
      "The multiplication is:  4\n",
      "The multiplication is:  8\n",
      "The multiplication is:  16\n"
     ]
    }
   ],
   "source": [
    "num = 1\n",
    "while num < 20:\n",
    "    print(\"The multiplication is: \", num)\n",
    "    num *= 2"
   ]
  },
  {
   "cell_type": "code",
   "execution_count": 3,
   "id": "da65bc5a-6681-4884-960c-6ca0a77c028c",
   "metadata": {},
   "outputs": [
    {
     "name": "stdout",
     "output_type": "stream",
     "text": [
      "Count down to lift off in  10 seconds!\n",
      "Count down to lift off in  9 seconds!\n",
      "Count down to lift off in  8 seconds!\n",
      "Count down to lift off in  7 seconds!\n",
      "Count down to lift off in  6 seconds!\n",
      "Count down to lift off in  5 seconds!\n",
      "Count down to lift off in  4 seconds!\n",
      "Count down to lift off in  3 seconds!\n",
      "Count down to lift off in  2 seconds!\n",
      "Count down to lift off in  1 seconds!\n",
      "Blast off!\n"
     ]
    }
   ],
   "source": [
    "sub = 10\n",
    "while sub > 0:\n",
    "    print(\"Count down to lift off in \", str(sub) + \" seconds!\")\n",
    "    sub -= 1\n",
    "    if sub == 0:\n",
    "        print(\"Blast off!\")"
   ]
  },
  {
   "cell_type": "code",
   "execution_count": 5,
   "id": "9cbd3ab0-1285-4df9-a7be-27c8a1629572",
   "metadata": {},
   "outputs": [
    {
     "name": "stdout",
     "output_type": "stream",
     "text": [
      "1 + 1 = 2\n",
      "2 + 2 = 4\n",
      "3 + 3 = 6\n",
      "4 + 4 = 8\n",
      "5 + 5 = 10\n",
      "6 + 6 = 12\n",
      "7 + 7 = 14\n"
     ]
    }
   ],
   "source": [
    "p = 1\n",
    "while p < 8:\n",
    "    print(\"{} + {} = {}\".format(p, p, (p+p)))\n",
    "    p += 1"
   ]
  },
  {
   "cell_type": "code",
   "execution_count": 1,
   "id": "5ac7ab69-89b9-421c-828c-1ccc1eb2f87a",
   "metadata": {},
   "outputs": [
    {
     "name": "stdout",
     "output_type": "stream",
     "text": [
      "1 / 1.000000 = 1\n",
      "2 / 2.000000 = 1\n",
      "3 / 3.000000 = 1\n",
      "4 / 4.000000 = 1\n",
      "5 / 5.000000 = 1\n",
      "6 / 6.000000 = 1\n",
      "7 / 7.000000 = 1\n",
      "8 / 8.000000 = 1\n",
      "9 / 9.000000 = 1\n",
      "10 / 10.000000 = 1\n",
      "11 / 11.000000 = 1\n",
      "12 / 12.000000 = 1\n",
      "13 / 13.000000 = 1\n",
      "14 / 14.000000 = 1\n"
     ]
    }
   ],
   "source": [
    "p = 1 ; o = 1\n",
    "while p < 15 and o < 15:\n",
    "    print(\"%i / %f = %i\" % (p, o, (p/o)))\n",
    "    p+=1\n",
    "    o+=1"
   ]
  },
  {
   "cell_type": "code",
   "execution_count": 2,
   "id": "e3f60257-4a13-4e72-8144-a42f5fd7b467",
   "metadata": {},
   "outputs": [
    {
     "name": "stdout",
     "output_type": "stream",
     "text": [
      "while num1 =  0\n",
      "50\n",
      "80\n",
      "110\n",
      "while num1 =  20\n",
      "70\n",
      "100\n",
      "130\n",
      "while num1 =  40\n",
      "90\n",
      "120\n",
      "150\n",
      "while num1 =  60\n",
      "110\n",
      "140\n",
      "170\n",
      "while num1 =  80\n",
      "130\n",
      "160\n",
      "190\n",
      "while num1 =  100\n",
      "150\n",
      "180\n",
      "210\n"
     ]
    }
   ],
   "source": [
    "num1 = 0\n",
    "while num1 < 110:\n",
    "    print(\"while num1 = \", num1)\n",
    "    for g in [50, 80, 110]:\n",
    "        res = num1 + g\n",
    "        print(res)\n",
    "    num1 += 20\n"
   ]
  },
  {
   "cell_type": "code",
   "execution_count": null,
   "id": "969bc9f1-9a86-4cf3-8e9a-3cca058e7743",
   "metadata": {},
   "outputs": [],
   "source": []
  }
 ],
 "metadata": {
  "kernelspec": {
   "display_name": "Python 3 (ipykernel)",
   "language": "python",
   "name": "python3"
  },
  "language_info": {
   "codemirror_mode": {
    "name": "ipython",
    "version": 3
   },
   "file_extension": ".py",
   "mimetype": "text/x-python",
   "name": "python",
   "nbconvert_exporter": "python",
   "pygments_lexer": "ipython3",
   "version": "3.10.9"
  }
 },
 "nbformat": 4,
 "nbformat_minor": 5
}
