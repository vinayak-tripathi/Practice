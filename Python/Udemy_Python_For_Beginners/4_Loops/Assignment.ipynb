{
 "cells": [
  {
   "cell_type": "markdown",
   "id": "04a3eab3-e1c8-4633-9204-0b5c6ffe2d98",
   "metadata": {},
   "source": [
    "### TASK 1: CONVERT FOR LOOP INTO A WHILE LOOP"
   ]
  },
  {
   "cell_type": "code",
   "execution_count": 1,
   "id": "a162ae10-0ae4-4277-a885-873714649208",
   "metadata": {},
   "outputs": [
    {
     "data": {
      "text/plain": [
       "[0, 50, 100, 150, 200, 250]"
      ]
     },
     "execution_count": 1,
     "metadata": {},
     "output_type": "execute_result"
    }
   ],
   "source": [
    "numbers = list(range(0, 110, 10))\n",
    "numbers\n",
    "first = []\n",
    "for num in numbers:\n",
    "    s = num *2.5\n",
    "    if s % 2 == 0:\n",
    "        first.append(int(s))\n",
    "first"
   ]
  },
  {
   "cell_type": "code",
   "execution_count": 3,
   "id": "6d43e624-59b5-41ba-9d09-1dd4e7b4fd99",
   "metadata": {},
   "outputs": [
    {
     "data": {
      "text/plain": [
       "[0.0, 50.0, 100.0, 150.0, 200.0, 250.0]"
      ]
     },
     "execution_count": 3,
     "metadata": {},
     "output_type": "execute_result"
    }
   ],
   "source": [
    "x=0\n",
    "second=[]\n",
    "while x<len(numbers):\n",
    "    t = numbers[x]*2.5\n",
    "    if t%2==0:\n",
    "        second.append(t)\n",
    "    x+=1\n",
    "second"
   ]
  },
  {
   "cell_type": "markdown",
   "id": "ffeae86e-6133-49e6-ba41-325fe0fa1981",
   "metadata": {
    "tags": []
   },
   "source": [
    "### TASK 2: USE LEN WITH CONTROL FLOW IN A FOR LOOP\n"
   ]
  },
  {
   "cell_type": "code",
   "execution_count": 4,
   "id": "0c931181-40ff-454a-9419-2872c8aae412",
   "metadata": {},
   "outputs": [
    {
     "name": "stdout",
     "output_type": "stream",
     "text": [
      "Joe is a replicant\n",
      "Mike is NOT a replicant\n",
      "Joi is a replicant\n",
      "Luv is a replicant\n",
      "Deckard is NOT a replicant\n",
      "Wallace is NOT a replicant\n",
      "Rachel is a replicant\n"
     ]
    }
   ],
   "source": [
    "rep = [\"Joe\", \"Mike\", \"Joi\", \"Luv\", \"Deckard\", \"Wallace\", \"Rachel\"]\n",
    "for i in rep:\n",
    "    if len(i) == 3 or len(i) == 6 or len(i) == 1:\n",
    "        print(i,\"is a replicant\")\n",
    "    else:\n",
    "        print(i,\"is NOT a replicant\")"
   ]
  },
  {
   "cell_type": "markdown",
   "id": "dd1e9647-0cfe-4eb8-bf01-a08b95270d00",
   "metadata": {},
   "source": [
    "### TASK 3: FOR LOOP WITH NESTED WHILE LOOP"
   ]
  },
  {
   "cell_type": "code",
   "execution_count": 5,
   "id": "d8dfe279-0107-446b-b463-d41512a3bf48",
   "metadata": {},
   "outputs": [
    {
     "name": "stdout",
     "output_type": "stream",
     "text": [
      "Human\n",
      "Question\n",
      "CELL WITHIN CELLS\n",
      "Question\n",
      "INTERLINKED\n",
      "Question\n",
      "CELL\n",
      "Question\n",
      "CELL WITHIN CELLS\n",
      "Question\n",
      "CELL WITHIN CELLS\n",
      "Question\n",
      "INTERLINKED\n",
      "Question\n",
      "CELL\n",
      "Question\n",
      "CELL WITHIN CELLS\n",
      "Time to Finish\n"
     ]
    }
   ],
   "source": [
    "print(\"Human\")\n",
    "for r in range(2):\n",
    "    k = 0\n",
    "    while k < 8:\n",
    "        if k % 2 == 0:\n",
    "            print(\"Question\")\n",
    "        elif k > 3 and k < 7:\n",
    "            print(\"CELL\")\n",
    "        elif k == 3:\n",
    "            print(\"INTERLINKED\")\n",
    "        else:\n",
    "            print(\"CELL WITHIN CELLS\")\n",
    "        k+= 1\n",
    "print(\"Time to Finish\")"
   ]
  },
  {
   "cell_type": "markdown",
   "id": "844febac-1269-40c7-9c4d-a9ac974d3d05",
   "metadata": {},
   "source": [
    "### TASK 4: NESTED FOR LOOP IN A WHILE LOOP"
   ]
  },
  {
   "cell_type": "code",
   "execution_count": 6,
   "id": "20305ce5-bb9e-4bbb-b4b3-50c5678c234b",
   "metadata": {},
   "outputs": [
    {
     "name": "stdout",
     "output_type": "stream",
     "text": [
      "START\n",
      "Y = 0\n",
      "________\n",
      "X is equal to 4\n",
      "________\n",
      "Y = 2\n",
      "________\n",
      "X is equal to 5\n",
      "________\n",
      "Y = 4\n",
      "________\n",
      "X is equal to 6\n",
      "________\n",
      "Y = 6\n",
      "________\n",
      "X is equal to 7\n",
      "________\n",
      "Y = 8\n",
      "________\n",
      "X is equal to 8\n",
      "________\n",
      "END\n"
     ]
    }
   ],
   "source": [
    "x = 0\n",
    "y = 0\n",
    "print(\"START\")\n",
    "while y < 8:\n",
    "    for x in range(4, 9):\n",
    "        print(\"Y =\", y)\n",
    "        print(\"________\")\n",
    "        print(\"X is equal to\", x)\n",
    "        print(\"________\")\n",
    "        y += 2\n",
    "        x += 1\n",
    "print(\"END\")\n"
   ]
  },
  {
   "cell_type": "markdown",
   "id": "914fde47-764b-4910-8651-1468454b15c9",
   "metadata": {},
   "source": [
    "### TASK 5: FOR LOOP TO FIX STUDENT NAMES"
   ]
  },
  {
   "cell_type": "code",
   "execution_count": 7,
   "id": "4a7698a5-83bd-4c77-9dfe-18f4a54f83e2",
   "metadata": {},
   "outputs": [
    {
     "data": {
      "text/plain": [
       "('NATALIE', 'FAYE', 'CALLUM', 'TARA')"
      ]
     },
     "execution_count": 7,
     "metadata": {},
     "output_type": "execute_result"
    }
   ],
   "source": [
    "students = [\"nAtalie\", \"M\", \"Fa ye\", \" Callum\", \"Tara\"]\n",
    "names = []\n",
    "for i in students:\n",
    "    if len(i) > 1:\n",
    "        s = i.upper().replace(\" \", \"\")\n",
    "        names.append(s)\n",
    "tuple(names)"
   ]
  },
  {
   "cell_type": "markdown",
   "id": "b3e14b29-4046-48c9-aeb6-d72573a69a59",
   "metadata": {},
   "source": [
    "### TASK 6: FOR LOOP WITH ADDED VALUES FROM DICTIONARY"
   ]
  },
  {
   "cell_type": "code",
   "execution_count": 8,
   "id": "51ec7b33-e25c-4e91-a3e3-4aa56e2adfb6",
   "metadata": {},
   "outputs": [
    {
     "name": "stdout",
     "output_type": "stream",
     "text": [
      "Total = 1020\n",
      "Total = 2030\n",
      "Total = 3040\n",
      "End loop\n"
     ]
    }
   ],
   "source": [
    "d1 = {\"k1\": [20, 30, 40], \"k2\": [1000, 2000, 3000]}\n",
    "for i in range(3):\n",
    "    print(\"Total =\", d1[\"k1\"][i] + d1[\"k2\"][i])\n",
    "print(\"End loop\")"
   ]
  },
  {
   "cell_type": "markdown",
   "id": "c061c776-8b47-4103-8496-51fed1ab6009",
   "metadata": {},
   "source": [
    "### TASK 7: WHILE LOOPS WITH THREE INPUTS"
   ]
  },
  {
   "cell_type": "code",
   "execution_count": 9,
   "id": "0e9941bc-7410-427e-8d5e-0b6916e63f89",
   "metadata": {},
   "outputs": [
    {
     "name": "stdin",
     "output_type": "stream",
     "text": [
      "Would you like popcorn with the film?  quit\n"
     ]
    },
    {
     "name": "stdout",
     "output_type": "stream",
     "text": [
      "Enjoy the film\n"
     ]
    }
   ],
   "source": [
    "prices = {\"popcorn\": 5, \"soda\": 2, \"veggie burger\": 7}\n",
    "total = []\n",
    "val = 0\n",
    "while val < 2:\n",
    "    num1 = input(\"Would you like popcorn with the film? \")\n",
    "    if num1 == \"no\":\n",
    "        None\n",
    "    elif num1 == \"quit\":\n",
    "        print(\"Enjoy the film\")\n",
    "        break\n",
    "    else:\n",
    "        total.append(prices[\"popcorn\"])\n",
    "    num2 = input(\"Would you like a soda drink? \")\n",
    "    if num2 == \"no\":\n",
    "        None\n",
    "    elif num1 == \"quit\":\n",
    "        print(\"Enjoy the film\")\n",
    "        break\n",
    "    else:\n",
    "        total.append(prices[\"soda\"])\n",
    "    num3 = input(\"Would you like a veggie burger?\")\n",
    "    if num3 == \"no\":\n",
    "        None\n",
    "    elif num1 == \"quit\":\n",
    "        print(\"Enjoy the film\")\n",
    "        break\n",
    "    else:\n",
    "        total.append(prices[\"veggie burger\"])\n",
    "    val += 1\n",
    "    print(\"That will be $\" + str(sum(total)))\n",
    "    print(\"Enjoy the film!\")\n",
    "    break"
   ]
  },
  {
   "cell_type": "code",
   "execution_count": null,
   "id": "cd489595-2bf9-4d07-aa7b-f7483dea7248",
   "metadata": {},
   "outputs": [],
   "source": []
  }
 ],
 "metadata": {
  "kernelspec": {
   "display_name": "Python 3 (ipykernel)",
   "language": "python",
   "name": "python3"
  },
  "language_info": {
   "codemirror_mode": {
    "name": "ipython",
    "version": 3
   },
   "file_extension": ".py",
   "mimetype": "text/x-python",
   "name": "python",
   "nbconvert_exporter": "python",
   "pygments_lexer": "ipython3",
   "version": "3.10.9"
  }
 },
 "nbformat": 4,
 "nbformat_minor": 5
}
