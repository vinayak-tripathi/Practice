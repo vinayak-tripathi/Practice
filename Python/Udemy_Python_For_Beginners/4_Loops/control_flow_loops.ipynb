{
 "cells": [
  {
   "cell_type": "markdown",
   "id": "dea4b3e3-ac3a-480c-8e4c-f7ead07005dd",
   "metadata": {},
   "source": [
    "## CONTROL FLOW IN LOOPS"
   ]
  },
  {
   "cell_type": "code",
   "execution_count": 1,
   "id": "bbdf3218-ee22-40a5-9173-63f6f508d54f",
   "metadata": {},
   "outputs": [
    {
     "name": "stdout",
     "output_type": "stream",
     "text": [
      "Even number = 0\n",
      "Od numer = 1\n",
      "Even number = 2\n",
      "Od numer = 3\n",
      "Even number = 4\n",
      "Od numer = 5\n",
      "Even number = 6\n",
      "Od numer = 7\n",
      "Even number = 8\n",
      "Od numer = 9\n"
     ]
    }
   ],
   "source": [
    "for i in range(10):\n",
    "    if i % 2 == 0:\n",
    "        print(\"Even number =\", i)\n",
    "    else:\n",
    "        print(\"Od numer =\", i)"
   ]
  },
  {
   "cell_type": "code",
   "execution_count": 2,
   "id": "3b3ee955-b082-4f9b-8820-3a7809ef8ba1",
   "metadata": {},
   "outputs": [
    {
     "name": "stdout",
     "output_type": "stream",
     "text": [
      "0\n",
      "1\n",
      "2\n",
      "3\n",
      "MORNING!\n",
      "5\n",
      "6\n",
      "NIGHT!\n",
      "8\n",
      "9\n"
     ]
    }
   ],
   "source": [
    "for i in range(10):\n",
    "    if i == 4:\n",
    "        print(\"MORNING!\")\n",
    "    elif i == 7:\n",
    "        print(\"NIGHT!\")\n",
    "    else:\n",
    "        print(i)"
   ]
  },
  {
   "cell_type": "code",
   "execution_count": 3,
   "id": "c77f3d9f-230a-4183-b4b6-85fb5a948025",
   "metadata": {},
   "outputs": [
    {
     "name": "stdout",
     "output_type": "stream",
     "text": [
      "COOL!\n",
      "COOL!\n",
      "COOL!\n",
      "COOL!\n",
      "COOL!\n",
      "COOL!\n",
      "HELLO THERE!\n",
      "COOL!\n",
      "COOL!\n",
      "Good MORNING!\n"
     ]
    }
   ],
   "source": [
    "x = 0\n",
    "while x < 10:\n",
    "    if x == 6:\n",
    "        print(\"HELLO THERE!\")\n",
    "    elif x > 8:\n",
    "        print(\"Good MORNING!\")\n",
    "    else:\n",
    "        print(\"COOL!\")\n",
    "    x+=1"
   ]
  },
  {
   "cell_type": "code",
   "execution_count": 4,
   "id": "1e856dca-e2d2-4311-aeab-95d4ae0f95cd",
   "metadata": {},
   "outputs": [
    {
     "name": "stdout",
     "output_type": "stream",
     "text": [
      "COOL!\n",
      "COOL!\n",
      "COOL!\n",
      "COOL!\n",
      "COOL!\n",
      "COOL!\n",
      "HELLO THERE!\n",
      "COOL!\n",
      "COOL!\n",
      "Good MORNING!\n"
     ]
    }
   ],
   "source": [
    "for s in range(10):\n",
    "    if s == 6:\n",
    "        print(\"HELLO THERE!\")\n",
    "    elif s > 8:\n",
    "        print(\"Good MORNING!\")\n",
    "    else:\n",
    "        print(\"COOL!\")"
   ]
  },
  {
   "cell_type": "code",
   "execution_count": 5,
   "id": "3f72588f-4d56-4a2e-a9a8-663ebdd6a283",
   "metadata": {},
   "outputs": [
    {
     "name": "stdout",
     "output_type": "stream",
     "text": [
      "Greater\n",
      "Greater\n",
      "Less\n",
      "EQUAL\n",
      "Less\n",
      "Less\n",
      "EQUAL\n"
     ]
    }
   ],
   "source": [
    "num = [10, 5, 20, 3, 100, 4, 7]\n",
    "rad = [4, 1, 40, 3, 120, 5, 7]\n",
    "x = 0\n",
    "while x < len(num):\n",
    "    if num[x] == rad[x]:\n",
    "        print(\"EQUAL\")\n",
    "    elif num[x] > rad[x]:\n",
    "        print(\"Greater\")\n",
    "    else:\n",
    "        print(\"Less\")\n",
    "    x += 1"
   ]
  },
  {
   "cell_type": "code",
   "execution_count": 6,
   "id": "12ea1808-eeee-4c5b-8a61-672901af89d2",
   "metadata": {},
   "outputs": [
    {
     "name": "stdout",
     "output_type": "stream",
     "text": [
      "Greater\n",
      "Greater\n",
      "Less\n",
      "EQUAL\n",
      "Less\n",
      "Less\n",
      "EQUAL\n"
     ]
    }
   ],
   "source": [
    "for x in range(len(num)):\n",
    "    if num[x] == rad[x]:\n",
    "        print(\"EQUAL\")\n",
    "    elif num[x] > rad[x]:\n",
    "        print(\"Greater\")\n",
    "    else:\n",
    "        print(\"Less\")\n",
    "            "
   ]
  },
  {
   "cell_type": "code",
   "execution_count": null,
   "id": "45cb3782-fa43-46dd-abec-8e5ee47509bb",
   "metadata": {},
   "outputs": [],
   "source": []
  }
 ],
 "metadata": {
  "kernelspec": {
   "display_name": "Python 3 (ipykernel)",
   "language": "python",
   "name": "python3"
  },
  "language_info": {
   "codemirror_mode": {
    "name": "ipython",
    "version": 3
   },
   "file_extension": ".py",
   "mimetype": "text/x-python",
   "name": "python",
   "nbconvert_exporter": "python",
   "pygments_lexer": "ipython3",
   "version": "3.10.9"
  }
 },
 "nbformat": 4,
 "nbformat_minor": 5
}
