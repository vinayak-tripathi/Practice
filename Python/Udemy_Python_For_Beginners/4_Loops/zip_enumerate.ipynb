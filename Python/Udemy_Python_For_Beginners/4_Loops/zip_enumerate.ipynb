{
 "cells": [
  {
   "cell_type": "code",
   "execution_count": 1,
   "id": "a1ed4f71-6db9-48d1-a0e2-529b9fa35a32",
   "metadata": {},
   "outputs": [
    {
     "name": "stdout",
     "output_type": "stream",
     "text": [
      "200 10\n",
      "201 15\n",
      "202 20\n",
      "203 25\n",
      "204 30\n",
      "205 35\n"
     ]
    }
   ],
   "source": [
    "for count,i in enumerate(range(10, 40, 5), 200):\n",
    "    print(count, i)"
   ]
  },
  {
   "cell_type": "code",
   "execution_count": 2,
   "id": "656d4836-e1ca-4dfc-93f4-af1e46c8cdc4",
   "metadata": {},
   "outputs": [
    {
     "name": "stdout",
     "output_type": "stream",
     "text": [
      "200 10\n",
      "205 15\n",
      "210 20\n",
      "215 25\n",
      "220 30\n",
      "225 35\n"
     ]
    }
   ],
   "source": [
    "for i in range(10, 40, 5):\n",
    "    print(190+i, i)"
   ]
  },
  {
   "cell_type": "code",
   "execution_count": 3,
   "id": "4dcb2d5e-db8c-4a31-864f-da172a524e2f",
   "metadata": {},
   "outputs": [
    {
     "data": {
      "text/plain": [
       "[(33, 10), (49, 20), (55, 30)]"
      ]
     },
     "execution_count": 3,
     "metadata": {},
     "output_type": "execute_result"
    }
   ],
   "source": [
    "tup1 = (33, 49, 55)\n",
    "mylist = [10, 20, 30]\n",
    "z = list(zip(tup1, mylist))\n",
    "z"
   ]
  },
  {
   "cell_type": "code",
   "execution_count": 4,
   "id": "90849009-716b-48a0-a385-12e712886ff8",
   "metadata": {},
   "outputs": [
    {
     "name": "stdout",
     "output_type": "stream",
     "text": [
      "43\n",
      "69\n",
      "85\n"
     ]
    }
   ],
   "source": [
    "for i in range(3):\n",
    "    print(tup1[i] + mylist[i])"
   ]
  },
  {
   "cell_type": "code",
   "execution_count": 5,
   "id": "eaa33b21-8340-4b51-b8d1-34c514575c50",
   "metadata": {},
   "outputs": [
    {
     "name": "stdout",
     "output_type": "stream",
     "text": [
      "apples = 2\n",
      "chips = 3\n",
      "bread = 1.2\n",
      "icecream = 4.25\n"
     ]
    }
   ],
   "source": [
    "groceries = [\"apples\", \"chips\", \"bread\", \"icecream\"]\n",
    "prices = [2, 3, 1.2, 4.25]\n",
    "for food in range(4):\n",
    "    print(groceries[food], \"=\" , prices[food])"
   ]
  },
  {
   "cell_type": "code",
   "execution_count": 7,
   "id": "09240110-d622-431f-a36d-d4b514129d1d",
   "metadata": {},
   "outputs": [
    {
     "name": "stdout",
     "output_type": "stream",
     "text": [
      "apples = 2\n",
      "chips = 3\n",
      "bread = 1.2\n",
      "icecream = 4.25\n"
     ]
    }
   ],
   "source": [
    "zip_shop = (zip(groceries, prices))\n",
    "zip_shop\n",
    "for g, p in zip_shop:\n",
    "    print(g, \"=\", p)"
   ]
  },
  {
   "cell_type": "code",
   "execution_count": 8,
   "id": "832b9fcc-dd42-462a-b450-0e903cd606d6",
   "metadata": {},
   "outputs": [
    {
     "name": "stdout",
     "output_type": "stream",
     "text": [
      "100\n",
      "7\n",
      "90 90\n",
      "50\n"
     ]
    }
   ],
   "source": [
    "num1 = [100, 2, 90, 10] ; num2 = [12, 7, 90, 50]\n",
    "zip_num = zip(num1, num2)\n",
    "for i, j in zip_num:\n",
    "    if i > j:\n",
    "        print(i)\n",
    "    elif i < j:\n",
    "        print(j)\n",
    "    else:\n",
    "        print(i, j)"
   ]
  },
  {
   "cell_type": "code",
   "execution_count": 9,
   "id": "cbf1a964-7e0f-47c0-bffa-a4d5cef7d91f",
   "metadata": {},
   "outputs": [
    {
     "name": "stdout",
     "output_type": "stream",
     "text": [
      "100\n",
      "7\n",
      "90 90\n",
      "50\n"
     ]
    }
   ],
   "source": [
    "for i in range(4):\n",
    "    if num1[i] > num2[i]:\n",
    "        print(num1[i])\n",
    "    elif num1[i] < num2[i]:\n",
    "        print(num2[i])\n",
    "    else:\n",
    "        print(num1[i], num2[i])"
   ]
  },
  {
   "cell_type": "code",
   "execution_count": 10,
   "id": "fa4c5d5d-a576-4955-8001-522869635089",
   "metadata": {},
   "outputs": [
    {
     "data": {
      "text/plain": [
       "[20, 50, 40, 100, 60, 150, 80, 200, 100, 250, 120, 300]"
      ]
     },
     "execution_count": 10,
     "metadata": {},
     "output_type": "execute_result"
    }
   ],
   "source": [
    "numbers = list(range(10,70, 10))\n",
    "numbers\n",
    "values = [2, 5]\n",
    "import itertools\n",
    "from itertools import cycle as cy\n",
    "val1 = [2] ; val2 = [5]\n",
    "zip_val = list(zip(numbers, cy(val1), cy(val2)))\n",
    "calc = []\n",
    "for n, v, z in zip_val:\n",
    "    s = n *v\n",
    "    t = n * z\n",
    "    calc.append(s)\n",
    "    calc.append(t)\n",
    "calc\n",
    "# len(cal"
   ]
  },
  {
   "cell_type": "code",
   "execution_count": 11,
   "id": "ea9c4361-4507-4176-bcc2-27be53cfd2a8",
   "metadata": {},
   "outputs": [
    {
     "name": "stdout",
     "output_type": "stream",
     "text": [
      "[(10, 2, 5), (20, 2, 5), (30, 2, 5), (40, 2, 5), (50, 2, 5), (60, 2, 5)]\n"
     ]
    }
   ],
   "source": [
    "print(zip_val)"
   ]
  },
  {
   "cell_type": "code",
   "execution_count": 12,
   "id": "6d807fc4-8a38-4acc-98df-5dc603795f69",
   "metadata": {},
   "outputs": [
    {
     "name": "stdout",
     "output_type": "stream",
     "text": [
      "[10, 20, 30, 40, 50, 60]\n"
     ]
    }
   ],
   "source": [
    "print(numbers)"
   ]
  },
  {
   "cell_type": "code",
   "execution_count": null,
   "id": "6f18ca61-0720-425a-bf51-f201546fba43",
   "metadata": {},
   "outputs": [],
   "source": []
  }
 ],
 "metadata": {
  "kernelspec": {
   "display_name": "Python 3 (ipykernel)",
   "language": "python",
   "name": "python3"
  },
  "language_info": {
   "codemirror_mode": {
    "name": "ipython",
    "version": 3
   },
   "file_extension": ".py",
   "mimetype": "text/x-python",
   "name": "python",
   "nbconvert_exporter": "python",
   "pygments_lexer": "ipython3",
   "version": "3.10.9"
  }
 },
 "nbformat": 4,
 "nbformat_minor": 5
}
