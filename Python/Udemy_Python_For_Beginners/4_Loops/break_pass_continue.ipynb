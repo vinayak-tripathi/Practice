{
 "cells": [
  {
   "cell_type": "markdown",
   "id": "04190ec5-c65d-48f1-8b68-8dc8ad2f8891",
   "metadata": {},
   "source": [
    "## BREAK, PASS, AND CONTINUE\n",
    "* Break, Pass and Continue are used in Loop Control.\n",
    "* Break stops a loop at a certain point\n",
    "* Pass prevents a code from being run at all\n",
    "* Continue runs a loop at a certain point.\n"
   ]
  },
  {
   "cell_type": "code",
   "execution_count": 2,
   "id": "8790b865-61b1-4b37-9cb1-0a434fd9e3a8",
   "metadata": {},
   "outputs": [
    {
     "name": "stdout",
     "output_type": "stream",
     "text": [
      "11\n",
      "12\n",
      "13\n",
      "14\n",
      "15\n",
      "16\n",
      "17\n",
      "18\n",
      "19\n",
      "20\n"
     ]
    }
   ],
   "source": [
    "for num in range(40):\n",
    "    if num > 10 and num <= 20:\n",
    "        if num == 16 and num == 19:\n",
    "            pass\n",
    "        print(num)"
   ]
  },
  {
   "cell_type": "code",
   "execution_count": 3,
   "id": "7942ac83-f5b7-4c37-acdf-73cabe435554",
   "metadata": {},
   "outputs": [
    {
     "name": "stdout",
     "output_type": "stream",
     "text": [
      "11\n",
      "12\n",
      "13\n",
      "14\n",
      "15\n",
      "17\n",
      "18\n",
      "20\n"
     ]
    }
   ],
   "source": [
    "for num in range(40):\n",
    "    if num > 10 and num <= 20:\n",
    "        if num == 16 or num == 19:\n",
    "            continue\n",
    "        print(num)"
   ]
  },
  {
   "cell_type": "code",
   "execution_count": 5,
   "id": "d71d10a1-7156-4527-9b04-003ab47acb39",
   "metadata": {},
   "outputs": [
    {
     "name": "stdout",
     "output_type": "stream",
     "text": [
      "11\n",
      "12\n",
      "13\n",
      "14\n",
      "15\n"
     ]
    }
   ],
   "source": [
    "for num in range(40):\n",
    "    if num > 10 and num <= 20:\n",
    "        if num == 16 or num == 19:\n",
    "            break\n",
    "        print(num)"
   ]
  },
  {
   "cell_type": "code",
   "execution_count": 6,
   "id": "139df0c4-c0b2-4c0a-8cc3-c896a4e919b6",
   "metadata": {},
   "outputs": [
    {
     "name": "stdout",
     "output_type": "stream",
     "text": [
      "c\n",
      "o\n",
      "m\n",
      "p\n",
      "u\n",
      "t\n",
      "A\n",
      "t\n",
      "i\n",
      "o\n",
      "n\n"
     ]
    }
   ],
   "source": [
    "for word in \"computAtion\":\n",
    "    if word == \"A\" or word == \"p\":\n",
    "        pass\n",
    "    print(word)"
   ]
  },
  {
   "cell_type": "code",
   "execution_count": 7,
   "id": "7637cff3-b169-41d7-aa87-b28e08d468d1",
   "metadata": {},
   "outputs": [
    {
     "name": "stdout",
     "output_type": "stream",
     "text": [
      "c\n",
      "o\n",
      "m\n"
     ]
    }
   ],
   "source": [
    "for word in \"computAtion\":\n",
    "    if word == \"A\" or word == \"p\":\n",
    "        break\n",
    "    print(word)"
   ]
  },
  {
   "cell_type": "code",
   "execution_count": 8,
   "id": "7ab84582-ccb8-45c5-bde3-ce14d69b7595",
   "metadata": {},
   "outputs": [
    {
     "name": "stdout",
     "output_type": "stream",
     "text": [
      "c\n",
      "o\n",
      "m\n",
      "u\n",
      "t\n",
      "t\n",
      "i\n",
      "o\n",
      "n\n"
     ]
    }
   ],
   "source": [
    "for word in \"computAtion\":\n",
    "    if word == \"A\" or word == \"p\":\n",
    "        continue\n",
    "    print(word)"
   ]
  },
  {
   "cell_type": "code",
   "execution_count": null,
   "id": "50c8b96d-9d55-47cd-9d36-05a6e3f8aec2",
   "metadata": {},
   "outputs": [],
   "source": []
  }
 ],
 "metadata": {
  "kernelspec": {
   "display_name": "Python 3 (ipykernel)",
   "language": "python",
   "name": "python3"
  },
  "language_info": {
   "codemirror_mode": {
    "name": "ipython",
    "version": 3
   },
   "file_extension": ".py",
   "mimetype": "text/x-python",
   "name": "python",
   "nbconvert_exporter": "python",
   "pygments_lexer": "ipython3",
   "version": "3.10.9"
  }
 },
 "nbformat": 4,
 "nbformat_minor": 5
}
