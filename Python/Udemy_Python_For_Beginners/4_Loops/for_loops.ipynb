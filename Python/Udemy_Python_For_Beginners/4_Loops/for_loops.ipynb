{
 "cells": [
  {
   "cell_type": "markdown",
   "id": "1aae2dc3-f012-4cdd-9f85-2c841ff1b8a2",
   "metadata": {},
   "source": [
    "## FOR LOOPS (Lists, Tuples and Dictionaries)"
   ]
  },
  {
   "cell_type": "code",
   "execution_count": 1,
   "id": "dfb150af-63cd-4021-b47d-9f6bc40e223d",
   "metadata": {},
   "outputs": [
    {
     "name": "stdout",
     "output_type": "stream",
     "text": [
      "Hello World!\n",
      "Hello World!\n"
     ]
    }
   ],
   "source": [
    "for greeting in range(2):\n",
    "    print(\"Hello World!\")\n"
   ]
  },
  {
   "cell_type": "code",
   "execution_count": 2,
   "id": "728f8ab3-52a1-4eed-a0cc-0a8dd78789e5",
   "metadata": {},
   "outputs": [
    {
     "name": "stdout",
     "output_type": "stream",
     "text": [
      "tiger\n",
      "lion\n",
      "jaguar\n",
      "leopard\n"
     ]
    }
   ],
   "source": [
    "cats = [\"tiger\", \"lion\", \"jaguar\", \"leopard\"]\n",
    "for cat in cats:\n",
    "    print(cat)"
   ]
  },
  {
   "cell_type": "code",
   "execution_count": 3,
   "id": "231cdddb-b039-4c73-822c-7377b1e57291",
   "metadata": {},
   "outputs": [
    {
     "name": "stdout",
     "output_type": "stream",
     "text": [
      "0 30 0\n",
      "1 31 1\n",
      "2 32 4\n",
      "3 33 9\n"
     ]
    }
   ],
   "source": [
    "for num in range(4):\n",
    "    print(num, num + 30, num*num)"
   ]
  },
  {
   "cell_type": "code",
   "execution_count": 4,
   "id": "71150c64-ed0d-4790-8e0e-47766c2836a4",
   "metadata": {},
   "outputs": [
    {
     "name": "stdout",
     "output_type": "stream",
     "text": [
      "[10, 20, 30]\n",
      "[3.5, 4.5, 5.5]\n",
      "['sword', 'hammer', 'shield']\n"
     ]
    }
   ],
   "source": [
    "nest1 = [[10, 20, 30], [3.5, 4.5, 5.5],\n",
    "        [\"sword\", \"hammer\", \"shield\"]]\n",
    "for i in range(3):\n",
    "    print(nest1[i])"
   ]
  },
  {
   "cell_type": "code",
   "execution_count": 5,
   "id": "3072b4ae-8596-49a0-8f3d-2f1eb76dd1b8",
   "metadata": {},
   "outputs": [
    {
     "data": {
      "text/plain": [
       "'Shield: Power Level = 35.5'"
      ]
     },
     "execution_count": 5,
     "metadata": {},
     "output_type": "execute_result"
    }
   ],
   "source": [
    "weapons = []\n",
    "for i in range(3):\n",
    "    s = nest1[2][i].capitalize() + \": Power Level = \" + str(nest1[0][i] + nest1[1][i])\n",
    "    weapons.append(s)\n",
    "weapons[2]"
   ]
  },
  {
   "cell_type": "code",
   "execution_count": 6,
   "id": "5d2217a3-3a53-41bd-a56c-72c5f10aa113",
   "metadata": {},
   "outputs": [
    {
     "name": "stdout",
     "output_type": "stream",
     "text": [
      "1 * 1 = 1\n",
      "2 * 2 = 4\n",
      "3 * 3 = 9\n",
      "4 * 4 = 16\n",
      "5 * 5 = 25\n",
      "6 * 6 = 36\n",
      "7 * 7 = 49\n"
     ]
    }
   ],
   "source": [
    "for i in range(1, 8):\n",
    "    print(\"{} * {} = {}\".format(i, i, (i*i)))"
   ]
  },
  {
   "cell_type": "code",
   "execution_count": 10,
   "id": "8107cae5-ce08-40c3-8b8b-457111c3ecb9",
   "metadata": {},
   "outputs": [
    {
     "name": "stdout",
     "output_type": "stream",
     "text": [
      "1.00 * 1.00 = 1.00\n",
      "2.00 * 2.00 = 4.00\n",
      "3.00 * 3.00 = 9.00\n",
      "4.00 * 4.00 = 16.00\n",
      "5.00 * 5.00 = 25.00\n",
      "6.00 * 6.00 = 36.00\n",
      "7.00 * 7.00 = 49.00\n"
     ]
    }
   ],
   "source": [
    "for k in range(1, 8, 1):\n",
    "    print(\"%.2f * %.2f = %.2f\" % (k, k, (k*k)))"
   ]
  },
  {
   "cell_type": "code",
   "execution_count": 11,
   "id": "bbe70196-7800-4b7f-829f-c8238af88ba1",
   "metadata": {},
   "outputs": [
    {
     "name": "stdout",
     "output_type": "stream",
     "text": [
      "10 20 30\n",
      "a b c\n",
      "200 400 800\n",
      "10 20 30\n",
      "a b c\n",
      "200 400 800\n",
      "10 20 30\n",
      "a b c\n",
      "200 400 800\n"
     ]
    }
   ],
   "source": [
    "tup1 = ((10, 20, 30), (\"a\", \"b\", \"c\"), (200, 400, 800))\n",
    "# TUPLE UNPACKING!\n",
    "for i in range(3):\n",
    "    for x, y, z in tup1:\n",
    "        print(x, y, z)"
   ]
  },
  {
   "cell_type": "code",
   "execution_count": 12,
   "id": "61900f3e-c4f9-438d-a2a9-534217479e90",
   "metadata": {},
   "outputs": [
    {
     "data": {
      "text/plain": [
       "[10, 20, 30, 40]"
      ]
     },
     "execution_count": 12,
     "metadata": {},
     "output_type": "execute_result"
    }
   ],
   "source": [
    "cakes = [\"chocolate\", \"lemon\", \"carrot\", \"vanilla\"]\n",
    "d1 = {\"k1\": tuple(cakes), \"k2\": [10, 20, 30, 40]}\n",
    "d1[\"k2\"]"
   ]
  },
  {
   "cell_type": "code",
   "execution_count": 13,
   "id": "25f95ca5-fc7a-402a-bcef-c3abae8ada48",
   "metadata": {},
   "outputs": [
    {
     "name": "stdout",
     "output_type": "stream",
     "text": [
      "10\n",
      "20\n",
      "30\n",
      "40\n"
     ]
    }
   ],
   "source": [
    "for d in d1[\"k2\"]:\n",
    "    print(d)"
   ]
  },
  {
   "cell_type": "code",
   "execution_count": 14,
   "id": "d076a4da-9486-4949-89df-6ea8398dc4f4",
   "metadata": {},
   "outputs": [
    {
     "name": "stdout",
     "output_type": "stream",
     "text": [
      "Tiger \n",
      " Level: \n",
      " SERIES\n",
      "Lion \n",
      " Level: \n",
      " CRITICAL\n",
      "Jaguar \n",
      " Level: \n",
      " VERY CRITICAL\n",
      "Leopard \n",
      " Level: \n",
      " STABLE\n"
     ]
    }
   ],
   "source": [
    "cats\n",
    "endangered = [\"series\", \"critical\",\"very critical\", \"stable\"]\n",
    "for c in range(4):\n",
    "    print(cats[c].capitalize(), \"\\n Level: \\n\", endangered[c].upper())"
   ]
  },
  {
   "cell_type": "code",
   "execution_count": null,
   "id": "e8df183d-b4c3-46cc-87b9-020e80af94b2",
   "metadata": {},
   "outputs": [],
   "source": []
  }
 ],
 "metadata": {
  "kernelspec": {
   "display_name": "Python 3 (ipykernel)",
   "language": "python",
   "name": "python3"
  },
  "language_info": {
   "codemirror_mode": {
    "name": "ipython",
    "version": 3
   },
   "file_extension": ".py",
   "mimetype": "text/x-python",
   "name": "python",
   "nbconvert_exporter": "python",
   "pygments_lexer": "ipython3",
   "version": "3.10.9"
  }
 },
 "nbformat": 4,
 "nbformat_minor": 5
}
