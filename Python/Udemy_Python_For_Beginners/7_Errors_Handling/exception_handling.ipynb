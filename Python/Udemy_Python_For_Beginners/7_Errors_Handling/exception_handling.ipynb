{
 "cells": [
  {
   "cell_type": "markdown",
   "id": "81bc9402-3e19-414d-b4f4-bddbc2ac8f57",
   "metadata": {},
   "source": [
    "## TRY, EXCEPT AND FINALLY"
   ]
  },
  {
   "cell_type": "code",
   "execution_count": 1,
   "id": "7bbfd901-99f5-4727-b1f9-025e77e2ed8a",
   "metadata": {},
   "outputs": [
    {
     "name": "stdout",
     "output_type": "stream",
     "text": [
      "100\n",
      "END CODE\n"
     ]
    }
   ],
   "source": [
    "try:\n",
    "    print(10 + 90)\n",
    "except:\n",
    "    for i in range(3):\n",
    "        print(i)\n",
    "finally:\n",
    "    print(\"END CODE\")"
   ]
  },
  {
   "cell_type": "code",
   "execution_count": 4,
   "id": "c42cf12c-a0d0-4a6d-88a3-12d2beda6957",
   "metadata": {},
   "outputs": [
    {
     "name": "stdout",
     "output_type": "stream",
     "text": [
      "unsupported operand type(s) for +: 'int' and 'str'\n",
      "STRING: 10 hello\n",
      "END CODE!\n"
     ]
    }
   ],
   "source": [
    "def error(var):\n",
    "    try:\n",
    "        return 10 + var\n",
    "    except Exception as e:\n",
    "        print(e)\n",
    "        print(\"STRING: \" + str(10) + \" \" + var)\n",
    "    finally:\n",
    "        print(\"END CODE!\")\n",
    "error(\"hello\")"
   ]
  },
  {
   "cell_type": "code",
   "execution_count": 11,
   "id": "24e6e024-ac67-4999-a1c0-7aa53c8b7cdf",
   "metadata": {},
   "outputs": [
    {
     "name": "stdout",
     "output_type": "stream",
     "text": [
      "can't be divided or divide by a string\n",
      "executing finally clause\n"
     ]
    }
   ],
   "source": [
    "def divide(x, y):\n",
    "    try:\n",
    "        res = x / y\n",
    "        return res\n",
    "    except ZeroDivisionError:\n",
    "        print(\"Division by zero is forbidden!\")\n",
    "        return\n",
    "    except TypeError:\n",
    "        print(\"can't be divided or divide by a string\")\n",
    "        return\n",
    "    finally:\n",
    "        print(\"executing finally clause\")\n",
    "        #this will be always executed\n",
    "divide(\"10\", 12)"
   ]
  },
  {
   "cell_type": "code",
   "execution_count": 12,
   "id": "ac09ec7d-bd5e-4676-a720-e2b9891a63f3",
   "metadata": {},
   "outputs": [
    {
     "name": "stdout",
     "output_type": "stream",
     "text": [
      "executing finally clause\n"
     ]
    },
    {
     "data": {
      "text/plain": [
       "6.0"
      ]
     },
     "execution_count": 12,
     "metadata": {},
     "output_type": "execute_result"
    }
   ],
   "source": [
    "divide(12,2)"
   ]
  },
  {
   "cell_type": "code",
   "execution_count": 15,
   "id": "735c3360-095e-48a0-ae20-18a7ff7e303d",
   "metadata": {},
   "outputs": [
    {
     "name": "stdin",
     "output_type": "stream",
     "text": [
      "Enter a valid integer:  sds\n"
     ]
    },
    {
     "name": "stdout",
     "output_type": "stream",
     "text": [
      "Invalid input!\n"
     ]
    },
    {
     "name": "stdin",
     "output_type": "stream",
     "text": [
      "Enter a valid integer:  12s\n"
     ]
    },
    {
     "name": "stdout",
     "output_type": "stream",
     "text": [
      "Invalid input!\n"
     ]
    },
    {
     "name": "stdin",
     "output_type": "stream",
     "text": [
      "Enter a valid integer:  212\n"
     ]
    }
   ],
   "source": [
    "while True:\n",
    "    try:\n",
    "        x = int(input(\"Enter a valid integer: \"))\n",
    "        break\n",
    "    except:\n",
    "        print(\"Invalid input!\")"
   ]
  },
  {
   "cell_type": "code",
   "execution_count": 19,
   "id": "1284327c-226b-46e7-adbc-c20eddc1c989",
   "metadata": {},
   "outputs": [
    {
     "name": "stdin",
     "output_type": "stream",
     "text": [
      "Enter an integer:  12\n"
     ]
    },
    {
     "name": "stdout",
     "output_type": "stream",
     "text": [
      "Not in numbers list\n",
      "This was your 1 chance\n",
      "End code!\n"
     ]
    },
    {
     "name": "stdin",
     "output_type": "stream",
     "text": [
      "Enter an integer:  10\n"
     ]
    },
    {
     "name": "stdout",
     "output_type": "stream",
     "text": [
      "10 is in numbers\n",
      "This was your 1 chance\n",
      "End code!\n"
     ]
    }
   ],
   "source": [
    "numbers = 10, 20, 30, 40\n",
    "chance = 0\n",
    "while chance < 3:\n",
    "    try:\n",
    "        num = input(\"Enter an integer: \")\n",
    "        if eval(num) in numbers:\n",
    "            print(num, \"is in numbers\")\n",
    "            break\n",
    "        elif num == \"quit\":\n",
    "            break\n",
    "        else:\n",
    "            print(\"Not in numbers list\")\n",
    "            chance = chance + 1\n",
    "    except:\n",
    "        print(\"Try again, please!\")\n",
    "        chance = chance + 1\n",
    "        continue\n",
    "    finally:\n",
    "        print('This was your %d chance'%chance)\n",
    "        print(\"End code!\")"
   ]
  },
  {
   "cell_type": "code",
   "execution_count": 22,
   "id": "e56d66e7-f5a7-4f0f-8b3f-2df9776e4fa8",
   "metadata": {},
   "outputs": [
    {
     "name": "stdin",
     "output_type": "stream",
     "text": [
      "Please select a friend:  3\n"
     ]
    },
    {
     "name": "stdout",
     "output_type": "stream",
     "text": [
      "cow\n",
      "________\n",
      "bird\n",
      "cat\n",
      "dog\n",
      "cow\n",
      "lamb\n",
      "pig\n",
      "____END LOOP___\n"
     ]
    }
   ],
   "source": [
    "def friends():\n",
    "    animals = \"bird\", \"cat\", \"dog\", \"cow\", \"lamb\", \"pig\"\n",
    "    try:\n",
    "        num = int(eval(input(\"Please select a friend: \")))\n",
    "        try:\n",
    "            if animals[num] in animals:\n",
    "                print(animals[num])\n",
    "        except:\n",
    "            print(\"You did not choose a friend!\")\n",
    "        finally:\n",
    "            print(\"________\")\n",
    "            for pet in animals:\n",
    "                print(pet)\n",
    "            print(\"____END LOOP___\")\n",
    "    except:\n",
    "        print(\"You did not enter a valid index!\")\n",
    "friends()"
   ]
  },
  {
   "cell_type": "code",
   "execution_count": null,
   "id": "ad79b3e8-b730-493a-b1f5-5630614ca513",
   "metadata": {},
   "outputs": [],
   "source": []
  }
 ],
 "metadata": {
  "kernelspec": {
   "display_name": "Python 3 (ipykernel)",
   "language": "python",
   "name": "python3"
  },
  "language_info": {
   "codemirror_mode": {
    "name": "ipython",
    "version": 3
   },
   "file_extension": ".py",
   "mimetype": "text/x-python",
   "name": "python",
   "nbconvert_exporter": "python",
   "pygments_lexer": "ipython3",
   "version": "3.10.9"
  }
 },
 "nbformat": 4,
 "nbformat_minor": 5
}
