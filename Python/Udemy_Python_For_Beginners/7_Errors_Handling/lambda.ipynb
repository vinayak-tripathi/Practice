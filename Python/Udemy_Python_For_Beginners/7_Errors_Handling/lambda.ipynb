{
 "cells": [
  {
   "cell_type": "markdown",
   "id": "4ccd7e56-d014-4035-a761-4ce718e3ce5f",
   "metadata": {},
   "source": [
    "## LAMBDA EXPRESSIONS\n",
    "* Lambda is called an anonymous function, meaning it does not require a def name.\n",
    "* Does not require a return.\n",
    "* Lambdas are single line expressions.\n",
    "* Can only be used as a substitute for basic functions.\n",
    "*Cannot add a docstring.\n"
   ]
  },
  {
   "cell_type": "code",
   "execution_count": 1,
   "id": "179aa22f-8ccf-4527-8a99-944e825c325e",
   "metadata": {},
   "outputs": [
    {
     "data": {
      "text/plain": [
       "30"
      ]
     },
     "execution_count": 1,
     "metadata": {},
     "output_type": "execute_result"
    }
   ],
   "source": [
    "def add(arg1, arg2):\n",
    "    return arg1 + arg2\n",
    "add(10, 20)"
   ]
  },
  {
   "cell_type": "code",
   "execution_count": 2,
   "id": "f817ea66-44b8-4d50-b155-1153f6bca31d",
   "metadata": {},
   "outputs": [],
   "source": [
    "g = lambda x, y , z: x + y + z"
   ]
  },
  {
   "cell_type": "code",
   "execution_count": 3,
   "id": "76f3f355-c5ea-415e-b50a-e3cd5476de21",
   "metadata": {},
   "outputs": [
    {
     "name": "stdout",
     "output_type": "stream",
     "text": [
      "<class 'function'>\n"
     ]
    },
    {
     "data": {
      "text/plain": [
       "130"
      ]
     },
     "execution_count": 3,
     "metadata": {},
     "output_type": "execute_result"
    }
   ],
   "source": [
    "print(type(g))\n",
    "g(10,20, 100)"
   ]
  },
  {
   "cell_type": "code",
   "execution_count": 4,
   "id": "ac6f5979-de30-4782-bce9-4d97e892abc4",
   "metadata": {},
   "outputs": [
    {
     "data": {
      "text/plain": [
       "25"
      ]
     },
     "execution_count": 4,
     "metadata": {},
     "output_type": "execute_result"
    }
   ],
   "source": [
    "g2 = lambda num1, num2 : num1*2 + num2\n",
    "g2(10,5)"
   ]
  },
  {
   "cell_type": "code",
   "execution_count": 5,
   "id": "0dedd1d2-ca7d-4367-8e8b-eb1f0476d0fb",
   "metadata": {},
   "outputs": [
    {
     "data": {
      "text/plain": [
       "True"
      ]
     },
     "execution_count": 5,
     "metadata": {},
     "output_type": "execute_result"
    }
   ],
   "source": [
    "c = lambda num : num %2 == 0 or num > 5\n",
    "c(9)"
   ]
  },
  {
   "cell_type": "code",
   "execution_count": 7,
   "id": "38d90b54-5cc6-4635-a8de-ad9b4f2abdf9",
   "metadata": {},
   "outputs": [
    {
     "name": "stdout",
     "output_type": "stream",
     "text": [
      "None\n",
      "True\n"
     ]
    }
   ],
   "source": [
    "def chop(num):\n",
    "    if num>= 10 and num < 30:\n",
    "        return num\n",
    "print(chop(50))\n",
    "c1 = lambda num2 : num2 > 10 and num2 < 30\n",
    "print(c1(20))"
   ]
  },
  {
   "cell_type": "code",
   "execution_count": 1,
   "id": "dff05573-9a09-488e-add1-eb55bfe58591",
   "metadata": {},
   "outputs": [],
   "source": [
    "import random as rd\n",
    "w = lambda s, num= rd.randint(0,30): \"inside\" if num in range(rd.randint(0,s)) else \"outside\""
   ]
  },
  {
   "cell_type": "code",
   "execution_count": 7,
   "id": "5965fe2d-7098-49bf-93d0-7b98d765af06",
   "metadata": {},
   "outputs": [
    {
     "data": {
      "text/plain": [
       "'outside'"
      ]
     },
     "execution_count": 7,
     "metadata": {},
     "output_type": "execute_result"
    }
   ],
   "source": [
    "w(9,10)"
   ]
  },
  {
   "cell_type": "code",
   "execution_count": 10,
   "id": "ad9a62f5-ce6c-407b-9b91-b9aa4b8467c5",
   "metadata": {},
   "outputs": [
    {
     "name": "stdout",
     "output_type": "stream",
     "text": [
      "11\n",
      "3\n"
     ]
    }
   ],
   "source": [
    "def compare(a, b):\n",
    "    if a > 10:\n",
    "        return a\n",
    "    else:\n",
    "        return b\n",
    "print(compare(11, 2))\n",
    "\n",
    "compare_lambda = lambda a,b : a if a>b  else b\n",
    "print(compare_lambda(2,3))"
   ]
  },
  {
   "cell_type": "code",
   "execution_count": 11,
   "id": "a1e745d1-d59a-432f-8f52-273cc6814ba0",
   "metadata": {},
   "outputs": [
    {
     "data": {
      "text/plain": [
       "100"
      ]
     },
     "execution_count": 11,
     "metadata": {},
     "output_type": "execute_result"
    }
   ],
   "source": [
    "f = lambda x:x *x\n",
    "f(10)"
   ]
  },
  {
   "cell_type": "code",
   "execution_count": null,
   "id": "b109cb37-33e2-496a-958a-5f6b657ec8e7",
   "metadata": {},
   "outputs": [],
   "source": []
  }
 ],
 "metadata": {
  "kernelspec": {
   "display_name": "Python 3 (ipykernel)",
   "language": "python",
   "name": "python3"
  },
  "language_info": {
   "codemirror_mode": {
    "name": "ipython",
    "version": 3
   },
   "file_extension": ".py",
   "mimetype": "text/x-python",
   "name": "python",
   "nbconvert_exporter": "python",
   "pygments_lexer": "ipython3",
   "version": "3.10.9"
  }
 },
 "nbformat": 4,
 "nbformat_minor": 5
}
