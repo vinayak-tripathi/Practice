{
 "cells": [
  {
   "cell_type": "markdown",
   "id": "c59c5799-d91c-4367-a7a7-631e82a9c474",
   "metadata": {},
   "source": [
    "### TASK 1: CONVERT FUNCTIONS INTO LAMBDA EXPRESSIONS"
   ]
  },
  {
   "cell_type": "code",
   "execution_count": 2,
   "id": "b2ad4aef-c7f8-47e0-a375-cc97691d782c",
   "metadata": {},
   "outputs": [],
   "source": [
    "def add(num1= 5, num2= 20, num3= 100):\n",
    "    return num1 + num2 + num3\n",
    "\n",
    "bowl = [\"cherries\", \"orange\", \"apple\", \"melon\", \"figs\"]\n",
    "def salad(fruit):\n",
    "    if fruit in bowl:\n",
    "        print(fruit)\n",
    "    else:\n",
    "        print(\"not in bowl\")\n",
    "\n",
    "def inside(num):\n",
    "    if num in list(range(10)):\n",
    "        return num**2\n",
    "    else:\n",
    "        print(\"outside\")\n"
   ]
  },
  {
   "cell_type": "code",
   "execution_count": 3,
   "id": "4a71a3ec-30bf-4212-abe7-ad83c37a5dbd",
   "metadata": {},
   "outputs": [
    {
     "data": {
      "text/plain": [
       "125"
      ]
     },
     "execution_count": 3,
     "metadata": {},
     "output_type": "execute_result"
    }
   ],
   "source": [
    "add = lambda num1 = 5, num2 = 20, num3= 100: num1+num2+num3\n",
    "add()"
   ]
  },
  {
   "cell_type": "code",
   "execution_count": 5,
   "id": "eeaf733f-4a05-4dba-b42e-c09037c40d7f",
   "metadata": {},
   "outputs": [
    {
     "name": "stdout",
     "output_type": "stream",
     "text": [
      "not in bowl\n",
      "fruit\n"
     ]
    }
   ],
   "source": [
    "bowl = [\"cherries\", \"orange\", \"apple\", \"melon\", \"figs\"]\n",
    "salad = lambda x : \"fruit\" if x in bowl else \"not in bowl\"\n",
    "\n",
    "print(salad(\"mango\"))\n",
    "print(salad(\"orange\"))"
   ]
  },
  {
   "cell_type": "code",
   "execution_count": 6,
   "id": "78fff443-d089-43bc-871a-dde30f084c29",
   "metadata": {},
   "outputs": [
    {
     "data": {
      "text/plain": [
       "'outside'"
      ]
     },
     "execution_count": 6,
     "metadata": {},
     "output_type": "execute_result"
    }
   ],
   "source": [
    "inside = lambda num: num**2 if num in range(10) else \"outside\"\n",
    "inside(20)"
   ]
  },
  {
   "cell_type": "markdown",
   "id": "57039eed-89f2-47c5-9abe-73fae8413d30",
   "metadata": {},
   "source": [
    "### TASK 2: HANDLING ERRORS WITH LAMBDA AND WHILE LOOP1"
   ]
  },
  {
   "cell_type": "code",
   "execution_count": 9,
   "id": "971c4dbe-e6cd-4d05-88ba-f2e92fe0192f",
   "metadata": {},
   "outputs": [
    {
     "name": "stdin",
     "output_type": "stream",
     "text": [
      "Enter an integer:  1\n"
     ]
    },
    {
     "name": "stdout",
     "output_type": "stream",
     "text": [
      "Try again, please\n",
      "END CODE\n"
     ]
    },
    {
     "name": "stdin",
     "output_type": "stream",
     "text": [
      "Enter an integer:  2\n"
     ]
    },
    {
     "name": "stdout",
     "output_type": "stream",
     "text": [
      "Try again, please\n",
      "END CODE\n"
     ]
    },
    {
     "name": "stdin",
     "output_type": "stream",
     "text": [
      "Enter an integer:  12\n"
     ]
    },
    {
     "name": "stdout",
     "output_type": "stream",
     "text": [
      "Lambda(Mulriple of 3) is 36\n",
      "Input value is 12\n",
      "END CODE\n"
     ]
    }
   ],
   "source": [
    "def error():\n",
    "    while True:\n",
    "        try:\n",
    "            val = int(eval(input(\"Enter an integer: \")))\n",
    "            g = lambda x:x*3 if x > 10 else \"too low\"\n",
    "            if g(val) > 20:\n",
    "                print(\"Lambda(Mulriple of 3) is\", g(val))\n",
    "                print(\"Input value is\", val)\n",
    "                break\n",
    "            else:\n",
    "                print(\"No output\")\n",
    "        except:\n",
    "            print(\"Try again, please\")\n",
    "            continue\n",
    "        finally:\n",
    "            print(\"END CODE\")\n",
    "error()"
   ]
  },
  {
   "cell_type": "markdown",
   "id": "2813b05c-3bd7-4753-a031-25b031f3a84c",
   "metadata": {},
   "source": [
    "### TASK 3: USE FOR LOOPS WITH LAMBDA"
   ]
  },
  {
   "cell_type": "code",
   "execution_count": 10,
   "id": "c8694a50-db40-45c8-82fe-b285a6211ddc",
   "metadata": {},
   "outputs": [
    {
     "name": "stdout",
     "output_type": "stream",
     "text": [
      "100 81\n",
      "101 82\n",
      "102 83\n",
      "103 84\n",
      "104 85\n",
      "105 86\n",
      "106 87\n",
      "107 88\n",
      "108 89\n",
      "109 90\n"
     ]
    }
   ],
   "source": [
    "g = lambda x: x**2 if x > 5 in range(10) else 0\n",
    "for i in range(10):\n",
    "    print(i+100, i + g(9))\n"
   ]
  },
  {
   "cell_type": "markdown",
   "id": "676e26b0-7a8e-48cc-8627-380ac7263b27",
   "metadata": {},
   "source": [
    "### TASK 4: FOR LOOP AND LIST COMPREHENSION"
   ]
  },
  {
   "cell_type": "code",
   "execution_count": 12,
   "id": "907d7c44-950d-4c42-90af-6efc9694e4db",
   "metadata": {},
   "outputs": [
    {
     "name": "stdout",
     "output_type": "stream",
     "text": [
      "[\"Mustafa's favourite film is Akira\", \"Michael's favourite film is Blade Runner 2049\", \"Callum's favourite film is Mr. Robot\", \"George's favourite film is The Ten Commandments\"]\n"
     ]
    }
   ],
   "source": [
    "critics = (\"Mustafa\", \"Michael\", \"Callum\", \"George\")\n",
    "films = [\"Akira\", \"Blade Runner 2049\", \"Mr. Robot\", \"The Ten Commandments\"]\n",
    "opinion = []\n",
    "for i in range(4):\n",
    "    fave = critics[i] + \"'s favourite film is \" + films[i]\n",
    "    opinion.append(fave)\n",
    "print(opinion)\n"
   ]
  },
  {
   "cell_type": "code",
   "execution_count": 13,
   "id": "056dcf12-258b-420c-80ef-29c4c4b134c8",
   "metadata": {},
   "outputs": [
    {
     "name": "stdout",
     "output_type": "stream",
     "text": [
      "[\"Mustafa's favourite film is Akira\", \"Michael's favourite film is Blade Runner 2049\", \"Callum's favourite film is Mr. Robot\", \"George's favourite film is The Ten Commandments\"]\n"
     ]
    }
   ],
   "source": [
    "print([critics[i] + \"'s favourite film is \" + films[i] for i in range(4)])"
   ]
  },
  {
   "cell_type": "code",
   "execution_count": null,
   "id": "55bc4155-fe08-4ce1-bdb9-9455e0162c41",
   "metadata": {},
   "outputs": [],
   "source": []
  }
 ],
 "metadata": {
  "kernelspec": {
   "display_name": "Python 3 (ipykernel)",
   "language": "python",
   "name": "python3"
  },
  "language_info": {
   "codemirror_mode": {
    "name": "ipython",
    "version": 3
   },
   "file_extension": ".py",
   "mimetype": "text/x-python",
   "name": "python",
   "nbconvert_exporter": "python",
   "pygments_lexer": "ipython3",
   "version": "3.10.9"
  }
 },
 "nbformat": 4,
 "nbformat_minor": 5
}
