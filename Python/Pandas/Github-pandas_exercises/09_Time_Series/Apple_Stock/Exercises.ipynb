{
 "cells": [
  {
   "cell_type": "markdown",
   "metadata": {},
   "source": [
    "# Apple Stock"
   ]
  },
  {
   "cell_type": "markdown",
   "metadata": {},
   "source": [
    "### Introduction:\n",
    "\n",
    "We are going to use Apple's stock price.\n",
    "\n",
    "\n",
    "### Step 1. Import the necessary libraries"
   ]
  },
  {
   "cell_type": "code",
   "execution_count": 1,
   "metadata": {
    "collapsed": false,
    "jupyter": {
     "outputs_hidden": false
    }
   },
   "outputs": [],
   "source": [
    "import pandas as pd\n",
    "import numpy as np\n",
    "\n",
    "# visualization\n",
    "import matplotlib.pyplot as plt\n",
    "\n",
    "%matplotlib inline"
   ]
  },
  {
   "cell_type": "markdown",
   "metadata": {},
   "source": [
    "### Step 2. Import the dataset from this [address](https://raw.githubusercontent.com/guipsamora/pandas_exercises/master/09_Time_Series/Apple_Stock/appl_1980_2014.csv)"
   ]
  },
  {
   "cell_type": "code",
   "execution_count": 3,
   "metadata": {
    "tags": []
   },
   "outputs": [
    {
     "data": {
      "text/html": [
       "<div>\n",
       "<style scoped>\n",
       "    .dataframe tbody tr th:only-of-type {\n",
       "        vertical-align: middle;\n",
       "    }\n",
       "\n",
       "    .dataframe tbody tr th {\n",
       "        vertical-align: top;\n",
       "    }\n",
       "\n",
       "    .dataframe thead th {\n",
       "        text-align: right;\n",
       "    }\n",
       "</style>\n",
       "<table border=\"1\" class=\"dataframe\">\n",
       "  <thead>\n",
       "    <tr style=\"text-align: right;\">\n",
       "      <th></th>\n",
       "      <th>Date</th>\n",
       "      <th>Open</th>\n",
       "      <th>High</th>\n",
       "      <th>Low</th>\n",
       "      <th>Close</th>\n",
       "      <th>Volume</th>\n",
       "      <th>Adj Close</th>\n",
       "    </tr>\n",
       "  </thead>\n",
       "  <tbody>\n",
       "    <tr>\n",
       "      <th>0</th>\n",
       "      <td>2014-07-08</td>\n",
       "      <td>96.27</td>\n",
       "      <td>96.80</td>\n",
       "      <td>93.92</td>\n",
       "      <td>95.35</td>\n",
       "      <td>65130000</td>\n",
       "      <td>95.35</td>\n",
       "    </tr>\n",
       "    <tr>\n",
       "      <th>1</th>\n",
       "      <td>2014-07-07</td>\n",
       "      <td>94.14</td>\n",
       "      <td>95.99</td>\n",
       "      <td>94.10</td>\n",
       "      <td>95.97</td>\n",
       "      <td>56305400</td>\n",
       "      <td>95.97</td>\n",
       "    </tr>\n",
       "    <tr>\n",
       "      <th>2</th>\n",
       "      <td>2014-07-03</td>\n",
       "      <td>93.67</td>\n",
       "      <td>94.10</td>\n",
       "      <td>93.20</td>\n",
       "      <td>94.03</td>\n",
       "      <td>22891800</td>\n",
       "      <td>94.03</td>\n",
       "    </tr>\n",
       "    <tr>\n",
       "      <th>3</th>\n",
       "      <td>2014-07-02</td>\n",
       "      <td>93.87</td>\n",
       "      <td>94.06</td>\n",
       "      <td>93.09</td>\n",
       "      <td>93.48</td>\n",
       "      <td>28420900</td>\n",
       "      <td>93.48</td>\n",
       "    </tr>\n",
       "    <tr>\n",
       "      <th>4</th>\n",
       "      <td>2014-07-01</td>\n",
       "      <td>93.52</td>\n",
       "      <td>94.07</td>\n",
       "      <td>93.13</td>\n",
       "      <td>93.52</td>\n",
       "      <td>38170200</td>\n",
       "      <td>93.52</td>\n",
       "    </tr>\n",
       "  </tbody>\n",
       "</table>\n",
       "</div>"
      ],
      "text/plain": [
       "         Date   Open   High    Low  Close    Volume  Adj Close\n",
       "0  2014-07-08  96.27  96.80  93.92  95.35  65130000      95.35\n",
       "1  2014-07-07  94.14  95.99  94.10  95.97  56305400      95.97\n",
       "2  2014-07-03  93.67  94.10  93.20  94.03  22891800      94.03\n",
       "3  2014-07-02  93.87  94.06  93.09  93.48  28420900      93.48\n",
       "4  2014-07-01  93.52  94.07  93.13  93.52  38170200      93.52"
      ]
     },
     "execution_count": 3,
     "metadata": {},
     "output_type": "execute_result"
    }
   ],
   "source": [
    "appl = pd.read_csv('appl_1980_2014.csv')\n",
    "appl.head()"
   ]
  },
  {
   "cell_type": "markdown",
   "metadata": {},
   "source": [
    "### Step 3. Assign it to a variable apple"
   ]
  },
  {
   "cell_type": "code",
   "execution_count": 5,
   "metadata": {
    "collapsed": false,
    "jupyter": {
     "outputs_hidden": false
    }
   },
   "outputs": [
    {
     "data": {
      "text/html": [
       "<div>\n",
       "<style scoped>\n",
       "    .dataframe tbody tr th:only-of-type {\n",
       "        vertical-align: middle;\n",
       "    }\n",
       "\n",
       "    .dataframe tbody tr th {\n",
       "        vertical-align: top;\n",
       "    }\n",
       "\n",
       "    .dataframe thead th {\n",
       "        text-align: right;\n",
       "    }\n",
       "</style>\n",
       "<table border=\"1\" class=\"dataframe\">\n",
       "  <thead>\n",
       "    <tr style=\"text-align: right;\">\n",
       "      <th></th>\n",
       "      <th>Date</th>\n",
       "      <th>Open</th>\n",
       "      <th>High</th>\n",
       "      <th>Low</th>\n",
       "      <th>Close</th>\n",
       "      <th>Volume</th>\n",
       "      <th>Adj Close</th>\n",
       "    </tr>\n",
       "  </thead>\n",
       "  <tbody>\n",
       "    <tr>\n",
       "      <th>0</th>\n",
       "      <td>2014-07-08</td>\n",
       "      <td>96.27</td>\n",
       "      <td>96.80</td>\n",
       "      <td>93.92</td>\n",
       "      <td>95.35</td>\n",
       "      <td>65130000</td>\n",
       "      <td>95.35</td>\n",
       "    </tr>\n",
       "    <tr>\n",
       "      <th>1</th>\n",
       "      <td>2014-07-07</td>\n",
       "      <td>94.14</td>\n",
       "      <td>95.99</td>\n",
       "      <td>94.10</td>\n",
       "      <td>95.97</td>\n",
       "      <td>56305400</td>\n",
       "      <td>95.97</td>\n",
       "    </tr>\n",
       "    <tr>\n",
       "      <th>2</th>\n",
       "      <td>2014-07-03</td>\n",
       "      <td>93.67</td>\n",
       "      <td>94.10</td>\n",
       "      <td>93.20</td>\n",
       "      <td>94.03</td>\n",
       "      <td>22891800</td>\n",
       "      <td>94.03</td>\n",
       "    </tr>\n",
       "    <tr>\n",
       "      <th>3</th>\n",
       "      <td>2014-07-02</td>\n",
       "      <td>93.87</td>\n",
       "      <td>94.06</td>\n",
       "      <td>93.09</td>\n",
       "      <td>93.48</td>\n",
       "      <td>28420900</td>\n",
       "      <td>93.48</td>\n",
       "    </tr>\n",
       "    <tr>\n",
       "      <th>4</th>\n",
       "      <td>2014-07-01</td>\n",
       "      <td>93.52</td>\n",
       "      <td>94.07</td>\n",
       "      <td>93.13</td>\n",
       "      <td>93.52</td>\n",
       "      <td>38170200</td>\n",
       "      <td>93.52</td>\n",
       "    </tr>\n",
       "  </tbody>\n",
       "</table>\n",
       "</div>"
      ],
      "text/plain": [
       "         Date   Open   High    Low  Close    Volume  Adj Close\n",
       "0  2014-07-08  96.27  96.80  93.92  95.35  65130000      95.35\n",
       "1  2014-07-07  94.14  95.99  94.10  95.97  56305400      95.97\n",
       "2  2014-07-03  93.67  94.10  93.20  94.03  22891800      94.03\n",
       "3  2014-07-02  93.87  94.06  93.09  93.48  28420900      93.48\n",
       "4  2014-07-01  93.52  94.07  93.13  93.52  38170200      93.52"
      ]
     },
     "execution_count": 5,
     "metadata": {},
     "output_type": "execute_result"
    }
   ],
   "source": [
    "appl.head()"
   ]
  },
  {
   "cell_type": "markdown",
   "metadata": {},
   "source": [
    "### Step 4.  Check out the type of the columns"
   ]
  },
  {
   "cell_type": "code",
   "execution_count": 6,
   "metadata": {
    "collapsed": false,
    "jupyter": {
     "outputs_hidden": false
    }
   },
   "outputs": [
    {
     "data": {
      "text/plain": [
       "Date          object\n",
       "Open         float64\n",
       "High         float64\n",
       "Low          float64\n",
       "Close        float64\n",
       "Volume         int64\n",
       "Adj Close    float64\n",
       "dtype: object"
      ]
     },
     "execution_count": 6,
     "metadata": {},
     "output_type": "execute_result"
    }
   ],
   "source": [
    "appl.dtypes"
   ]
  },
  {
   "cell_type": "markdown",
   "metadata": {},
   "source": [
    "### Step 5. Transform the Date column as a datetime type"
   ]
  },
  {
   "cell_type": "code",
   "execution_count": 8,
   "metadata": {
    "collapsed": false,
    "jupyter": {
     "outputs_hidden": false
    }
   },
   "outputs": [],
   "source": [
    "appl.Date = pd.to_datetime(appl.Date,format = '%Y/%m/%d')"
   ]
  },
  {
   "cell_type": "code",
   "execution_count": 9,
   "metadata": {},
   "outputs": [
    {
     "data": {
      "text/plain": [
       "Date         datetime64[ns]\n",
       "Open                float64\n",
       "High                float64\n",
       "Low                 float64\n",
       "Close               float64\n",
       "Volume                int64\n",
       "Adj Close           float64\n",
       "dtype: object"
      ]
     },
     "execution_count": 9,
     "metadata": {},
     "output_type": "execute_result"
    }
   ],
   "source": [
    "appl.dtypes"
   ]
  },
  {
   "cell_type": "markdown",
   "metadata": {},
   "source": [
    "### Step 6.  Set the date as the index"
   ]
  },
  {
   "cell_type": "code",
   "execution_count": 11,
   "metadata": {
    "collapsed": false,
    "jupyter": {
     "outputs_hidden": false
    }
   },
   "outputs": [
    {
     "data": {
      "text/html": [
       "<div>\n",
       "<style scoped>\n",
       "    .dataframe tbody tr th:only-of-type {\n",
       "        vertical-align: middle;\n",
       "    }\n",
       "\n",
       "    .dataframe tbody tr th {\n",
       "        vertical-align: top;\n",
       "    }\n",
       "\n",
       "    .dataframe thead th {\n",
       "        text-align: right;\n",
       "    }\n",
       "</style>\n",
       "<table border=\"1\" class=\"dataframe\">\n",
       "  <thead>\n",
       "    <tr style=\"text-align: right;\">\n",
       "      <th></th>\n",
       "      <th>Open</th>\n",
       "      <th>High</th>\n",
       "      <th>Low</th>\n",
       "      <th>Close</th>\n",
       "      <th>Volume</th>\n",
       "      <th>Adj Close</th>\n",
       "    </tr>\n",
       "    <tr>\n",
       "      <th>Date</th>\n",
       "      <th></th>\n",
       "      <th></th>\n",
       "      <th></th>\n",
       "      <th></th>\n",
       "      <th></th>\n",
       "      <th></th>\n",
       "    </tr>\n",
       "  </thead>\n",
       "  <tbody>\n",
       "    <tr>\n",
       "      <th>2014-07-08</th>\n",
       "      <td>96.27</td>\n",
       "      <td>96.80</td>\n",
       "      <td>93.92</td>\n",
       "      <td>95.35</td>\n",
       "      <td>65130000</td>\n",
       "      <td>95.35</td>\n",
       "    </tr>\n",
       "    <tr>\n",
       "      <th>2014-07-07</th>\n",
       "      <td>94.14</td>\n",
       "      <td>95.99</td>\n",
       "      <td>94.10</td>\n",
       "      <td>95.97</td>\n",
       "      <td>56305400</td>\n",
       "      <td>95.97</td>\n",
       "    </tr>\n",
       "    <tr>\n",
       "      <th>2014-07-03</th>\n",
       "      <td>93.67</td>\n",
       "      <td>94.10</td>\n",
       "      <td>93.20</td>\n",
       "      <td>94.03</td>\n",
       "      <td>22891800</td>\n",
       "      <td>94.03</td>\n",
       "    </tr>\n",
       "    <tr>\n",
       "      <th>2014-07-02</th>\n",
       "      <td>93.87</td>\n",
       "      <td>94.06</td>\n",
       "      <td>93.09</td>\n",
       "      <td>93.48</td>\n",
       "      <td>28420900</td>\n",
       "      <td>93.48</td>\n",
       "    </tr>\n",
       "    <tr>\n",
       "      <th>2014-07-01</th>\n",
       "      <td>93.52</td>\n",
       "      <td>94.07</td>\n",
       "      <td>93.13</td>\n",
       "      <td>93.52</td>\n",
       "      <td>38170200</td>\n",
       "      <td>93.52</td>\n",
       "    </tr>\n",
       "  </tbody>\n",
       "</table>\n",
       "</div>"
      ],
      "text/plain": [
       "             Open   High    Low  Close    Volume  Adj Close\n",
       "Date                                                       \n",
       "2014-07-08  96.27  96.80  93.92  95.35  65130000      95.35\n",
       "2014-07-07  94.14  95.99  94.10  95.97  56305400      95.97\n",
       "2014-07-03  93.67  94.10  93.20  94.03  22891800      94.03\n",
       "2014-07-02  93.87  94.06  93.09  93.48  28420900      93.48\n",
       "2014-07-01  93.52  94.07  93.13  93.52  38170200      93.52"
      ]
     },
     "execution_count": 11,
     "metadata": {},
     "output_type": "execute_result"
    }
   ],
   "source": [
    "appl.set_index(['Date'],inplace = True)\n",
    "appl.head()"
   ]
  },
  {
   "cell_type": "markdown",
   "metadata": {},
   "source": [
    "### Step 7.  Is there any duplicate dates?"
   ]
  },
  {
   "cell_type": "code",
   "execution_count": 15,
   "metadata": {
    "collapsed": false,
    "jupyter": {
     "outputs_hidden": false
    }
   },
   "outputs": [
    {
     "data": {
      "text/plain": [
       "True"
      ]
     },
     "execution_count": 15,
     "metadata": {},
     "output_type": "execute_result"
    }
   ],
   "source": [
    "appl.index[appl.index.duplicated()]\n",
    "appl.index.is_unique"
   ]
  },
  {
   "cell_type": "markdown",
   "metadata": {},
   "source": [
    "### Step 8.  Ops...it seems the index is from the most recent date. Make the first entry the oldest date."
   ]
  },
  {
   "cell_type": "code",
   "execution_count": 17,
   "metadata": {
    "collapsed": false,
    "jupyter": {
     "outputs_hidden": false
    }
   },
   "outputs": [
    {
     "data": {
      "text/html": [
       "<div>\n",
       "<style scoped>\n",
       "    .dataframe tbody tr th:only-of-type {\n",
       "        vertical-align: middle;\n",
       "    }\n",
       "\n",
       "    .dataframe tbody tr th {\n",
       "        vertical-align: top;\n",
       "    }\n",
       "\n",
       "    .dataframe thead th {\n",
       "        text-align: right;\n",
       "    }\n",
       "</style>\n",
       "<table border=\"1\" class=\"dataframe\">\n",
       "  <thead>\n",
       "    <tr style=\"text-align: right;\">\n",
       "      <th></th>\n",
       "      <th>Open</th>\n",
       "      <th>High</th>\n",
       "      <th>Low</th>\n",
       "      <th>Close</th>\n",
       "      <th>Volume</th>\n",
       "      <th>Adj Close</th>\n",
       "    </tr>\n",
       "    <tr>\n",
       "      <th>Date</th>\n",
       "      <th></th>\n",
       "      <th></th>\n",
       "      <th></th>\n",
       "      <th></th>\n",
       "      <th></th>\n",
       "      <th></th>\n",
       "    </tr>\n",
       "  </thead>\n",
       "  <tbody>\n",
       "    <tr>\n",
       "      <th>1980-12-12</th>\n",
       "      <td>28.75</td>\n",
       "      <td>28.87</td>\n",
       "      <td>28.75</td>\n",
       "      <td>28.75</td>\n",
       "      <td>117258400</td>\n",
       "      <td>0.45</td>\n",
       "    </tr>\n",
       "    <tr>\n",
       "      <th>1980-12-15</th>\n",
       "      <td>27.38</td>\n",
       "      <td>27.38</td>\n",
       "      <td>27.25</td>\n",
       "      <td>27.25</td>\n",
       "      <td>43971200</td>\n",
       "      <td>0.42</td>\n",
       "    </tr>\n",
       "    <tr>\n",
       "      <th>1980-12-16</th>\n",
       "      <td>25.37</td>\n",
       "      <td>25.37</td>\n",
       "      <td>25.25</td>\n",
       "      <td>25.25</td>\n",
       "      <td>26432000</td>\n",
       "      <td>0.39</td>\n",
       "    </tr>\n",
       "    <tr>\n",
       "      <th>1980-12-17</th>\n",
       "      <td>25.87</td>\n",
       "      <td>26.00</td>\n",
       "      <td>25.87</td>\n",
       "      <td>25.87</td>\n",
       "      <td>21610400</td>\n",
       "      <td>0.40</td>\n",
       "    </tr>\n",
       "    <tr>\n",
       "      <th>1980-12-18</th>\n",
       "      <td>26.63</td>\n",
       "      <td>26.75</td>\n",
       "      <td>26.63</td>\n",
       "      <td>26.63</td>\n",
       "      <td>18362400</td>\n",
       "      <td>0.41</td>\n",
       "    </tr>\n",
       "  </tbody>\n",
       "</table>\n",
       "</div>"
      ],
      "text/plain": [
       "             Open   High    Low  Close     Volume  Adj Close\n",
       "Date                                                        \n",
       "1980-12-12  28.75  28.87  28.75  28.75  117258400       0.45\n",
       "1980-12-15  27.38  27.38  27.25  27.25   43971200       0.42\n",
       "1980-12-16  25.37  25.37  25.25  25.25   26432000       0.39\n",
       "1980-12-17  25.87  26.00  25.87  25.87   21610400       0.40\n",
       "1980-12-18  26.63  26.75  26.63  26.63   18362400       0.41"
      ]
     },
     "execution_count": 17,
     "metadata": {},
     "output_type": "execute_result"
    }
   ],
   "source": [
    "appl.sort_index(inplace = True,ascending = True)\n",
    "appl.head()"
   ]
  },
  {
   "cell_type": "markdown",
   "metadata": {},
   "source": [
    "### Step 9. Get the last business day of each month"
   ]
  },
  {
   "cell_type": "markdown",
   "metadata": {
    "jupyter": {
     "source_hidden": true
    },
    "tags": []
   },
   "source": [
    "<table class=\"colwidths-given table\">\n",
    "<colgroup>\n",
    "<col style=\"width: 16%\">\n",
    "<col style=\"width: 16%\">\n",
    "<col style=\"width: 68%\">\n",
    "</colgroup>\n",
    "<thead>\n",
    "<tr class=\"row-odd\"><th class=\"head\"><p>Date Offset</p></th>\n",
    "<th class=\"head\"><p>Frequency String</p></th>\n",
    "<th class=\"head\"><p>Description</p></th>\n",
    "</tr>\n",
    "</thead>\n",
    "<tbody>\n",
    "<tr class=\"row-even\"><td><p><a class=\"reference internal\" href=\"../reference/api/pandas.tseries.offsets.DateOffset.html#pandas.tseries.offsets.DateOffset\" title=\"pandas.tseries.offsets.DateOffset\"><code class=\"xref py py-class docutils literal notranslate\"><span class=\"pre\">DateOffset</span></code></a></p></td>\n",
    "<td><p>None</p></td>\n",
    "<td><p>Generic offset class, defaults to absolute 24 hours</p></td>\n",
    "</tr>\n",
    "<tr class=\"row-odd\"><td><p><a class=\"reference internal\" href=\"../reference/api/pandas.tseries.offsets.BDay.html#pandas.tseries.offsets.BDay\" title=\"pandas.tseries.offsets.BDay\"><code class=\"xref py py-class docutils literal notranslate\"><span class=\"pre\">BDay</span></code></a> or <a class=\"reference internal\" href=\"../reference/api/pandas.tseries.offsets.BusinessDay.html#pandas.tseries.offsets.BusinessDay\" title=\"pandas.tseries.offsets.BusinessDay\"><code class=\"xref py py-class docutils literal notranslate\"><span class=\"pre\">BusinessDay</span></code></a></p></td>\n",
    "<td><p><code class=\"docutils literal notranslate\"><span class=\"pre\">'B'</span></code></p></td>\n",
    "<td><p>business day (weekday)</p></td>\n",
    "</tr>\n",
    "<tr class=\"row-even\"><td><p><a class=\"reference internal\" href=\"../reference/api/pandas.tseries.offsets.CDay.html#pandas.tseries.offsets.CDay\" title=\"pandas.tseries.offsets.CDay\"><code class=\"xref py py-class docutils literal notranslate\"><span class=\"pre\">CDay</span></code></a> or <a class=\"reference internal\" href=\"../reference/api/pandas.tseries.offsets.CustomBusinessDay.html#pandas.tseries.offsets.CustomBusinessDay\" title=\"pandas.tseries.offsets.CustomBusinessDay\"><code class=\"xref py py-class docutils literal notranslate\"><span class=\"pre\">CustomBusinessDay</span></code></a></p></td>\n",
    "<td><p><code class=\"docutils literal notranslate\"><span class=\"pre\">'C'</span></code></p></td>\n",
    "<td><p>custom business day</p></td>\n",
    "</tr>\n",
    "<tr class=\"row-odd\"><td><p><a class=\"reference internal\" href=\"../reference/api/pandas.tseries.offsets.Week.html#pandas.tseries.offsets.Week\" title=\"pandas.tseries.offsets.Week\"><code class=\"xref py py-class docutils literal notranslate\"><span class=\"pre\">Week</span></code></a></p></td>\n",
    "<td><p><code class=\"docutils literal notranslate\"><span class=\"pre\">'W'</span></code></p></td>\n",
    "<td><p>one week, optionally anchored on a day of the week</p></td>\n",
    "</tr>\n",
    "<tr class=\"row-even\"><td><p><a class=\"reference internal\" href=\"../reference/api/pandas.tseries.offsets.WeekOfMonth.html#pandas.tseries.offsets.WeekOfMonth\" title=\"pandas.tseries.offsets.WeekOfMonth\"><code class=\"xref py py-class docutils literal notranslate\"><span class=\"pre\">WeekOfMonth</span></code></a></p></td>\n",
    "<td><p><code class=\"docutils literal notranslate\"><span class=\"pre\">'WOM'</span></code></p></td>\n",
    "<td><p>the x-th day of the y-th week of each month</p></td>\n",
    "</tr>\n",
    "<tr class=\"row-odd\"><td><p><a class=\"reference internal\" href=\"../reference/api/pandas.tseries.offsets.LastWeekOfMonth.html#pandas.tseries.offsets.LastWeekOfMonth\" title=\"pandas.tseries.offsets.LastWeekOfMonth\"><code class=\"xref py py-class docutils literal notranslate\"><span class=\"pre\">LastWeekOfMonth</span></code></a></p></td>\n",
    "<td><p><code class=\"docutils literal notranslate\"><span class=\"pre\">'LWOM'</span></code></p></td>\n",
    "<td><p>the x-th day of the last week of each month</p></td>\n",
    "</tr>\n",
    "<tr class=\"row-even\"><td><p><a class=\"reference internal\" href=\"../reference/api/pandas.tseries.offsets.MonthEnd.html#pandas.tseries.offsets.MonthEnd\" title=\"pandas.tseries.offsets.MonthEnd\"><code class=\"xref py py-class docutils literal notranslate\"><span class=\"pre\">MonthEnd</span></code></a></p></td>\n",
    "<td><p><code class=\"docutils literal notranslate\"><span class=\"pre\">'M'</span></code></p></td>\n",
    "<td><p>calendar month end</p></td>\n",
    "</tr>\n",
    "<tr class=\"row-odd\"><td><p><a class=\"reference internal\" href=\"../reference/api/pandas.tseries.offsets.MonthBegin.html#pandas.tseries.offsets.MonthBegin\" title=\"pandas.tseries.offsets.MonthBegin\"><code class=\"xref py py-class docutils literal notranslate\"><span class=\"pre\">MonthBegin</span></code></a></p></td>\n",
    "<td><p><code class=\"docutils literal notranslate\"><span class=\"pre\">'MS'</span></code></p></td>\n",
    "<td><p>calendar month begin</p></td>\n",
    "</tr>\n",
    "<tr class=\"row-even\"><td><p><a class=\"reference internal\" href=\"../reference/api/pandas.tseries.offsets.BMonthEnd.html#pandas.tseries.offsets.BMonthEnd\" title=\"pandas.tseries.offsets.BMonthEnd\"><code class=\"xref py py-class docutils literal notranslate\"><span class=\"pre\">BMonthEnd</span></code></a> or <a class=\"reference internal\" href=\"../reference/api/pandas.tseries.offsets.BusinessMonthEnd.html#pandas.tseries.offsets.BusinessMonthEnd\" title=\"pandas.tseries.offsets.BusinessMonthEnd\"><code class=\"xref py py-class docutils literal notranslate\"><span class=\"pre\">BusinessMonthEnd</span></code></a></p></td>\n",
    "<td><p><code class=\"docutils literal notranslate\"><span class=\"pre\">'BM'</span></code></p></td>\n",
    "<td><p>business month end</p></td>\n",
    "</tr>\n",
    "<tr class=\"row-odd\"><td><p><a class=\"reference internal\" href=\"../reference/api/pandas.tseries.offsets.BMonthBegin.html#pandas.tseries.offsets.BMonthBegin\" title=\"pandas.tseries.offsets.BMonthBegin\"><code class=\"xref py py-class docutils literal notranslate\"><span class=\"pre\">BMonthBegin</span></code></a> or <a class=\"reference internal\" href=\"../reference/api/pandas.tseries.offsets.BusinessMonthBegin.html#pandas.tseries.offsets.BusinessMonthBegin\" title=\"pandas.tseries.offsets.BusinessMonthBegin\"><code class=\"xref py py-class docutils literal notranslate\"><span class=\"pre\">BusinessMonthBegin</span></code></a></p></td>\n",
    "<td><p><code class=\"docutils literal notranslate\"><span class=\"pre\">'BMS'</span></code></p></td>\n",
    "<td><p>business month begin</p></td>\n",
    "</tr>\n",
    "<tr class=\"row-even\"><td><p><a class=\"reference internal\" href=\"../reference/api/pandas.tseries.offsets.CBMonthEnd.html#pandas.tseries.offsets.CBMonthEnd\" title=\"pandas.tseries.offsets.CBMonthEnd\"><code class=\"xref py py-class docutils literal notranslate\"><span class=\"pre\">CBMonthEnd</span></code></a> or <a class=\"reference internal\" href=\"../reference/api/pandas.tseries.offsets.CustomBusinessMonthEnd.html#pandas.tseries.offsets.CustomBusinessMonthEnd\" title=\"pandas.tseries.offsets.CustomBusinessMonthEnd\"><code class=\"xref py py-class docutils literal notranslate\"><span class=\"pre\">CustomBusinessMonthEnd</span></code></a></p></td>\n",
    "<td><p><code class=\"docutils literal notranslate\"><span class=\"pre\">'CBM'</span></code></p></td>\n",
    "<td><p>custom business month end</p></td>\n",
    "</tr>\n",
    "<tr class=\"row-odd\"><td><p><a class=\"reference internal\" href=\"../reference/api/pandas.tseries.offsets.CBMonthBegin.html#pandas.tseries.offsets.CBMonthBegin\" title=\"pandas.tseries.offsets.CBMonthBegin\"><code class=\"xref py py-class docutils literal notranslate\"><span class=\"pre\">CBMonthBegin</span></code></a> or <a class=\"reference internal\" href=\"../reference/api/pandas.tseries.offsets.CustomBusinessMonthBegin.html#pandas.tseries.offsets.CustomBusinessMonthBegin\" title=\"pandas.tseries.offsets.CustomBusinessMonthBegin\"><code class=\"xref py py-class docutils literal notranslate\"><span class=\"pre\">CustomBusinessMonthBegin</span></code></a></p></td>\n",
    "<td><p><code class=\"docutils literal notranslate\"><span class=\"pre\">'CBMS'</span></code></p></td>\n",
    "<td><p>custom business month begin</p></td>\n",
    "</tr>\n",
    "<tr class=\"row-even\"><td><p><a class=\"reference internal\" href=\"../reference/api/pandas.tseries.offsets.SemiMonthEnd.html#pandas.tseries.offsets.SemiMonthEnd\" title=\"pandas.tseries.offsets.SemiMonthEnd\"><code class=\"xref py py-class docutils literal notranslate\"><span class=\"pre\">SemiMonthEnd</span></code></a></p></td>\n",
    "<td><p><code class=\"docutils literal notranslate\"><span class=\"pre\">'SM'</span></code></p></td>\n",
    "<td><p>15th (or other day_of_month) and calendar month end</p></td>\n",
    "</tr>\n",
    "<tr class=\"row-odd\"><td><p><a class=\"reference internal\" href=\"../reference/api/pandas.tseries.offsets.SemiMonthBegin.html#pandas.tseries.offsets.SemiMonthBegin\" title=\"pandas.tseries.offsets.SemiMonthBegin\"><code class=\"xref py py-class docutils literal notranslate\"><span class=\"pre\">SemiMonthBegin</span></code></a></p></td>\n",
    "<td><p><code class=\"docutils literal notranslate\"><span class=\"pre\">'SMS'</span></code></p></td>\n",
    "<td><p>15th (or other day_of_month) and calendar month begin</p></td>\n",
    "</tr>\n",
    "<tr class=\"row-even\"><td><p><a class=\"reference internal\" href=\"../reference/api/pandas.tseries.offsets.QuarterEnd.html#pandas.tseries.offsets.QuarterEnd\" title=\"pandas.tseries.offsets.QuarterEnd\"><code class=\"xref py py-class docutils literal notranslate\"><span class=\"pre\">QuarterEnd</span></code></a></p></td>\n",
    "<td><p><code class=\"docutils literal notranslate\"><span class=\"pre\">'Q'</span></code></p></td>\n",
    "<td><p>calendar quarter end</p></td>\n",
    "</tr>\n",
    "<tr class=\"row-odd\"><td><p><a class=\"reference internal\" href=\"../reference/api/pandas.tseries.offsets.QuarterBegin.html#pandas.tseries.offsets.QuarterBegin\" title=\"pandas.tseries.offsets.QuarterBegin\"><code class=\"xref py py-class docutils literal notranslate\"><span class=\"pre\">QuarterBegin</span></code></a></p></td>\n",
    "<td><p><code class=\"docutils literal notranslate\"><span class=\"pre\">'QS'</span></code></p></td>\n",
    "<td><p>calendar quarter begin</p></td>\n",
    "</tr>\n",
    "<tr class=\"row-even\"><td><p><a class=\"reference internal\" href=\"../reference/api/pandas.tseries.offsets.BQuarterEnd.html#pandas.tseries.offsets.BQuarterEnd\" title=\"pandas.tseries.offsets.BQuarterEnd\"><code class=\"xref py py-class docutils literal notranslate\"><span class=\"pre\">BQuarterEnd</span></code></a></p></td>\n",
    "<td><p><code class=\"docutils literal notranslate\"><span class=\"pre\">'BQ</span></code></p></td>\n",
    "<td><p>business quarter end</p></td>\n",
    "</tr>\n",
    "<tr class=\"row-odd\"><td><p><a class=\"reference internal\" href=\"../reference/api/pandas.tseries.offsets.BQuarterBegin.html#pandas.tseries.offsets.BQuarterBegin\" title=\"pandas.tseries.offsets.BQuarterBegin\"><code class=\"xref py py-class docutils literal notranslate\"><span class=\"pre\">BQuarterBegin</span></code></a></p></td>\n",
    "<td><p><code class=\"docutils literal notranslate\"><span class=\"pre\">'BQS'</span></code></p></td>\n",
    "<td><p>business quarter begin</p></td>\n",
    "</tr>\n",
    "<tr class=\"row-even\"><td><p><a class=\"reference internal\" href=\"../reference/api/pandas.tseries.offsets.FY5253Quarter.html#pandas.tseries.offsets.FY5253Quarter\" title=\"pandas.tseries.offsets.FY5253Quarter\"><code class=\"xref py py-class docutils literal notranslate\"><span class=\"pre\">FY5253Quarter</span></code></a></p></td>\n",
    "<td><p><code class=\"docutils literal notranslate\"><span class=\"pre\">'REQ'</span></code></p></td>\n",
    "<td><p>retail (aka 52-53 week) quarter</p></td>\n",
    "</tr>\n",
    "<tr class=\"row-odd\"><td><p><a class=\"reference internal\" href=\"../reference/api/pandas.tseries.offsets.YearEnd.html#pandas.tseries.offsets.YearEnd\" title=\"pandas.tseries.offsets.YearEnd\"><code class=\"xref py py-class docutils literal notranslate\"><span class=\"pre\">YearEnd</span></code></a></p></td>\n",
    "<td><p><code class=\"docutils literal notranslate\"><span class=\"pre\">'A'</span></code></p></td>\n",
    "<td><p>calendar year end</p></td>\n",
    "</tr>\n",
    "<tr class=\"row-even\"><td><p><a class=\"reference internal\" href=\"../reference/api/pandas.tseries.offsets.YearBegin.html#pandas.tseries.offsets.YearBegin\" title=\"pandas.tseries.offsets.YearBegin\"><code class=\"xref py py-class docutils literal notranslate\"><span class=\"pre\">YearBegin</span></code></a></p></td>\n",
    "<td><p><code class=\"docutils literal notranslate\"><span class=\"pre\">'AS'</span></code> or <code class=\"docutils literal notranslate\"><span class=\"pre\">'BYS'</span></code></p></td>\n",
    "<td><p>calendar year begin</p></td>\n",
    "</tr>\n",
    "<tr class=\"row-odd\"><td><p><a class=\"reference internal\" href=\"../reference/api/pandas.tseries.offsets.BYearEnd.html#pandas.tseries.offsets.BYearEnd\" title=\"pandas.tseries.offsets.BYearEnd\"><code class=\"xref py py-class docutils literal notranslate\"><span class=\"pre\">BYearEnd</span></code></a></p></td>\n",
    "<td><p><code class=\"docutils literal notranslate\"><span class=\"pre\">'BA'</span></code></p></td>\n",
    "<td><p>business year end</p></td>\n",
    "</tr>\n",
    "<tr class=\"row-even\"><td><p><a class=\"reference internal\" href=\"../reference/api/pandas.tseries.offsets.BYearBegin.html#pandas.tseries.offsets.BYearBegin\" title=\"pandas.tseries.offsets.BYearBegin\"><code class=\"xref py py-class docutils literal notranslate\"><span class=\"pre\">BYearBegin</span></code></a></p></td>\n",
    "<td><p><code class=\"docutils literal notranslate\"><span class=\"pre\">'BAS'</span></code></p></td>\n",
    "<td><p>business year begin</p></td>\n",
    "</tr>\n",
    "<tr class=\"row-odd\"><td><p><a class=\"reference internal\" href=\"../reference/api/pandas.tseries.offsets.FY5253.html#pandas.tseries.offsets.FY5253\" title=\"pandas.tseries.offsets.FY5253\"><code class=\"xref py py-class docutils literal notranslate\"><span class=\"pre\">FY5253</span></code></a></p></td>\n",
    "<td><p><code class=\"docutils literal notranslate\"><span class=\"pre\">'RE'</span></code></p></td>\n",
    "<td><p>retail (aka 52-53 week) year</p></td>\n",
    "</tr>\n",
    "<tr class=\"row-even\"><td><p><a class=\"reference internal\" href=\"../reference/api/pandas.tseries.offsets.Easter.html#pandas.tseries.offsets.Easter\" title=\"pandas.tseries.offsets.Easter\"><code class=\"xref py py-class docutils literal notranslate\"><span class=\"pre\">Easter</span></code></a></p></td>\n",
    "<td><p>None</p></td>\n",
    "<td><p>Easter holiday</p></td>\n",
    "</tr>\n",
    "<tr class=\"row-odd\"><td><p><a class=\"reference internal\" href=\"../reference/api/pandas.tseries.offsets.BusinessHour.html#pandas.tseries.offsets.BusinessHour\" title=\"pandas.tseries.offsets.BusinessHour\"><code class=\"xref py py-class docutils literal notranslate\"><span class=\"pre\">BusinessHour</span></code></a></p></td>\n",
    "<td><p><code class=\"docutils literal notranslate\"><span class=\"pre\">'BH'</span></code></p></td>\n",
    "<td><p>business hour</p></td>\n",
    "</tr>\n",
    "<tr class=\"row-even\"><td><p><a class=\"reference internal\" href=\"../reference/api/pandas.tseries.offsets.CustomBusinessHour.html#pandas.tseries.offsets.CustomBusinessHour\" title=\"pandas.tseries.offsets.CustomBusinessHour\"><code class=\"xref py py-class docutils literal notranslate\"><span class=\"pre\">CustomBusinessHour</span></code></a></p></td>\n",
    "<td><p><code class=\"docutils literal notranslate\"><span class=\"pre\">'CBH'</span></code></p></td>\n",
    "<td><p>custom business hour</p></td>\n",
    "</tr>\n",
    "<tr class=\"row-odd\"><td><p><a class=\"reference internal\" href=\"../reference/api/pandas.tseries.offsets.Day.html#pandas.tseries.offsets.Day\" title=\"pandas.tseries.offsets.Day\"><code class=\"xref py py-class docutils literal notranslate\"><span class=\"pre\">Day</span></code></a></p></td>\n",
    "<td><p><code class=\"docutils literal notranslate\"><span class=\"pre\">'D'</span></code></p></td>\n",
    "<td><p>one absolute day</p></td>\n",
    "</tr>\n",
    "<tr class=\"row-even\"><td><p><a class=\"reference internal\" href=\"../reference/api/pandas.tseries.offsets.Hour.html#pandas.tseries.offsets.Hour\" title=\"pandas.tseries.offsets.Hour\"><code class=\"xref py py-class docutils literal notranslate\"><span class=\"pre\">Hour</span></code></a></p></td>\n",
    "<td><p><code class=\"docutils literal notranslate\"><span class=\"pre\">'H'</span></code></p></td>\n",
    "<td><p>one hour</p></td>\n",
    "</tr>\n",
    "<tr class=\"row-odd\"><td><p><a class=\"reference internal\" href=\"../reference/api/pandas.tseries.offsets.Minute.html#pandas.tseries.offsets.Minute\" title=\"pandas.tseries.offsets.Minute\"><code class=\"xref py py-class docutils literal notranslate\"><span class=\"pre\">Minute</span></code></a></p></td>\n",
    "<td><p><code class=\"docutils literal notranslate\"><span class=\"pre\">'T'</span></code> or <code class=\"docutils literal notranslate\"><span class=\"pre\">'min'</span></code></p></td>\n",
    "<td><p>one minute</p></td>\n",
    "</tr>\n",
    "<tr class=\"row-even\"><td><p><a class=\"reference internal\" href=\"../reference/api/pandas.tseries.offsets.Second.html#pandas.tseries.offsets.Second\" title=\"pandas.tseries.offsets.Second\"><code class=\"xref py py-class docutils literal notranslate\"><span class=\"pre\">Second</span></code></a></p></td>\n",
    "<td><p><code class=\"docutils literal notranslate\"><span class=\"pre\">'S'</span></code></p></td>\n",
    "<td><p>one second</p></td>\n",
    "</tr>\n",
    "<tr class=\"row-odd\"><td><p><a class=\"reference internal\" href=\"../reference/api/pandas.tseries.offsets.Milli.html#pandas.tseries.offsets.Milli\" title=\"pandas.tseries.offsets.Milli\"><code class=\"xref py py-class docutils literal notranslate\"><span class=\"pre\">Milli</span></code></a></p></td>\n",
    "<td><p><code class=\"docutils literal notranslate\"><span class=\"pre\">'L'</span></code> or <code class=\"docutils literal notranslate\"><span class=\"pre\">'ms'</span></code></p></td>\n",
    "<td><p>one millisecond</p></td>\n",
    "</tr>\n",
    "<tr class=\"row-even\"><td><p><a class=\"reference internal\" href=\"../reference/api/pandas.tseries.offsets.Micro.html#pandas.tseries.offsets.Micro\" title=\"pandas.tseries.offsets.Micro\"><code class=\"xref py py-class docutils literal notranslate\"><span class=\"pre\">Micro</span></code></a></p></td>\n",
    "<td><p><code class=\"docutils literal notranslate\"><span class=\"pre\">'U'</span></code> or <code class=\"docutils literal notranslate\"><span class=\"pre\">'us'</span></code></p></td>\n",
    "<td><p>one microsecond</p></td>\n",
    "</tr>\n",
    "<tr class=\"row-odd\"><td><p><a class=\"reference internal\" href=\"../reference/api/pandas.tseries.offsets.Nano.html#pandas.tseries.offsets.Nano\" title=\"pandas.tseries.offsets.Nano\"><code class=\"xref py py-class docutils literal notranslate\"><span class=\"pre\">Nano</span></code></a></p></td>\n",
    "<td><p><code class=\"docutils literal notranslate\"><span class=\"pre\">'N'</span></code></p></td>\n",
    "<td><p>one nanosecond</p></td>\n",
    "</tr>\n",
    "</tbody>\n",
    "</table>"
   ]
  },
  {
   "cell_type": "code",
   "execution_count": 21,
   "metadata": {
    "collapsed": false,
    "jupyter": {
     "outputs_hidden": false
    }
   },
   "outputs": [
    {
     "data": {
      "text/html": [
       "<div>\n",
       "<style scoped>\n",
       "    .dataframe tbody tr th:only-of-type {\n",
       "        vertical-align: middle;\n",
       "    }\n",
       "\n",
       "    .dataframe tbody tr th {\n",
       "        vertical-align: top;\n",
       "    }\n",
       "\n",
       "    .dataframe thead th {\n",
       "        text-align: right;\n",
       "    }\n",
       "</style>\n",
       "<table border=\"1\" class=\"dataframe\">\n",
       "  <thead>\n",
       "    <tr style=\"text-align: right;\">\n",
       "      <th></th>\n",
       "      <th>Open</th>\n",
       "      <th>High</th>\n",
       "      <th>Low</th>\n",
       "      <th>Close</th>\n",
       "      <th>Volume</th>\n",
       "      <th>Adj Close</th>\n",
       "    </tr>\n",
       "    <tr>\n",
       "      <th>Date</th>\n",
       "      <th></th>\n",
       "      <th></th>\n",
       "      <th></th>\n",
       "      <th></th>\n",
       "      <th></th>\n",
       "      <th></th>\n",
       "    </tr>\n",
       "  </thead>\n",
       "  <tbody>\n",
       "    <tr>\n",
       "      <th>1980-12-31</th>\n",
       "      <td>30.481538</td>\n",
       "      <td>30.567692</td>\n",
       "      <td>30.443077</td>\n",
       "      <td>30.443077</td>\n",
       "      <td>2.586252e+07</td>\n",
       "      <td>0.473077</td>\n",
       "    </tr>\n",
       "    <tr>\n",
       "      <th>1981-01-30</th>\n",
       "      <td>31.754762</td>\n",
       "      <td>31.826667</td>\n",
       "      <td>31.654762</td>\n",
       "      <td>31.654762</td>\n",
       "      <td>7.249867e+06</td>\n",
       "      <td>0.493810</td>\n",
       "    </tr>\n",
       "    <tr>\n",
       "      <th>1981-02-27</th>\n",
       "      <td>26.480000</td>\n",
       "      <td>26.572105</td>\n",
       "      <td>26.407895</td>\n",
       "      <td>26.407895</td>\n",
       "      <td>4.231832e+06</td>\n",
       "      <td>0.411053</td>\n",
       "    </tr>\n",
       "    <tr>\n",
       "      <th>1981-03-31</th>\n",
       "      <td>24.937727</td>\n",
       "      <td>25.016818</td>\n",
       "      <td>24.836364</td>\n",
       "      <td>24.836364</td>\n",
       "      <td>7.962691e+06</td>\n",
       "      <td>0.387727</td>\n",
       "    </tr>\n",
       "    <tr>\n",
       "      <th>1981-04-30</th>\n",
       "      <td>27.286667</td>\n",
       "      <td>27.368095</td>\n",
       "      <td>27.227143</td>\n",
       "      <td>27.227143</td>\n",
       "      <td>6.392000e+06</td>\n",
       "      <td>0.423333</td>\n",
       "    </tr>\n",
       "  </tbody>\n",
       "</table>\n",
       "</div>"
      ],
      "text/plain": [
       "                 Open       High        Low      Close        Volume  \\\n",
       "Date                                                                   \n",
       "1980-12-31  30.481538  30.567692  30.443077  30.443077  2.586252e+07   \n",
       "1981-01-30  31.754762  31.826667  31.654762  31.654762  7.249867e+06   \n",
       "1981-02-27  26.480000  26.572105  26.407895  26.407895  4.231832e+06   \n",
       "1981-03-31  24.937727  25.016818  24.836364  24.836364  7.962691e+06   \n",
       "1981-04-30  27.286667  27.368095  27.227143  27.227143  6.392000e+06   \n",
       "\n",
       "            Adj Close  \n",
       "Date                   \n",
       "1980-12-31   0.473077  \n",
       "1981-01-30   0.493810  \n",
       "1981-02-27   0.411053  \n",
       "1981-03-31   0.387727  \n",
       "1981-04-30   0.423333  "
      ]
     },
     "execution_count": 21,
     "metadata": {},
     "output_type": "execute_result"
    }
   ],
   "source": [
    "appl_month_end = appl.resample('BM').mean()\n",
    "appl_month_end.head()"
   ]
  },
  {
   "cell_type": "markdown",
   "metadata": {},
   "source": [
    "### Step 10.  What is the difference in days between the first day and the oldest"
   ]
  },
  {
   "cell_type": "code",
   "execution_count": 27,
   "metadata": {
    "collapsed": false,
    "jupyter": {
     "outputs_hidden": false
    }
   },
   "outputs": [
    {
     "data": {
      "text/plain": [
       "12261"
      ]
     },
     "execution_count": 27,
     "metadata": {},
     "output_type": "execute_result"
    }
   ],
   "source": [
    "(appl.index.max()-appl.index.min()).days"
   ]
  },
  {
   "cell_type": "markdown",
   "metadata": {},
   "source": [
    "### Step 11.  How many months in the data we have?"
   ]
  },
  {
   "cell_type": "code",
   "execution_count": 30,
   "metadata": {
    "collapsed": false,
    "jupyter": {
     "outputs_hidden": false
    }
   },
   "outputs": [
    {
     "data": {
      "text/plain": [
       "404"
      ]
     },
     "execution_count": 30,
     "metadata": {},
     "output_type": "execute_result"
    }
   ],
   "source": [
    "len(appl_month_end)"
   ]
  },
  {
   "cell_type": "markdown",
   "metadata": {},
   "source": [
    "### Step 12. Plot the 'Adj Close' value. Set the size of the figure to 13.5 x 9 inches"
   ]
  },
  {
   "cell_type": "code",
   "execution_count": 39,
   "metadata": {
    "collapsed": false,
    "jupyter": {
     "outputs_hidden": false
    }
   },
   "outputs": [
    {
     "data": {
      "image/png": "[encoded data removed]",
      "text/plain": [
       "<Figure size 972x648 with 1 Axes>"
      ]
     },
     "metadata": {
      "needs_background": "light"
     },
     "output_type": "display_data"
    }
   ],
   "source": [
    "appl_plot = appl.plot.line(y = ['Adj Close'])\n",
    "fig = appl_plot.get_figure()\n",
    "fig.set_size_inches(13.5, 9)"
   ]
  },
  {
   "cell_type": "markdown",
   "metadata": {},
   "source": [
    "### BONUS: Create your own question and answer it."
   ]
  },
  {
   "cell_type": "code",
   "execution_count": 48,
   "metadata": {
    "tags": []
   },
   "outputs": [
    {
     "data": {
      "image/png": "[encoded data removed]",
      "text/plain": [
       "<Figure size 972x648 with 1 Axes>"
      ]
     },
     "metadata": {
      "needs_background": "light"
     },
     "output_type": "display_data"
    }
   ],
   "source": [
    "appl['DMA30'] = appl.Close.rolling(20).mean()\n",
    "appl['DMA200'] = appl.Close.rolling(200).mean()\n",
    "appl_plot = appl.plot.line(y = ['Close','DMA30','DMA200'])\n",
    "fig = appl_plot.get_figure()\n",
    "fig.set_size_inches(13.5, 9)"
   ]
  },
  {
   "cell_type": "code",
   "execution_count": null,
   "metadata": {},
   "outputs": [],
   "source": []
  }
 ],
 "metadata": {
  "anaconda-cloud": {},
  "kernelspec": {
   "display_name": "Python 3",
   "language": "python",
   "name": "python3"
  },
  "language_info": {
   "codemirror_mode": {
    "name": "ipython",
    "version": 3
   },
   "file_extension": ".py",
   "mimetype": "text/x-python",
   "name": "python",
   "nbconvert_exporter": "python",
   "pygments_lexer": "ipython3",
   "version": "3.8.8"
  }
 },
 "nbformat": 4,
 "nbformat_minor": 4
}
