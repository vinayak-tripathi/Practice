{
 "cells": [
  {
   "cell_type": "code",
   "execution_count": 1,
   "id": "24351d43-4f58-4768-ab31-ddc8ebf4f090",
   "metadata": {},
   "outputs": [],
   "source": [
    "import numpy as np"
   ]
  },
  {
   "cell_type": "markdown",
   "id": "66b2a9c6-5ae2-413e-bd0b-cbe5f56e7b91",
   "metadata": {},
   "source": [
    "#### Consider a random 100x2 matrix representing cartesian coordinates, convert them to polar coordinates"
   ]
  },
  {
   "cell_type": "code",
   "execution_count": 10,
   "id": "dedb6cea-90b5-4498-8e3f-22f0a1014df3",
   "metadata": {},
   "outputs": [],
   "source": [
    "Z = np.random.random((100,2))\n",
    "X, Y = Z[:,0],Z[:,1]\n",
    "R = np.sqrt(X,Y)\n",
    "T = np.arctan2(Y,X)"
   ]
  },
  {
   "cell_type": "markdown",
   "id": "c44a261a-0d8b-412e-ab00-07fe32cd3a2f",
   "metadata": {},
   "source": [
    "#### Create random vector of size 100 and replace the maximum value by 0"
   ]
  },
  {
   "cell_type": "code",
   "execution_count": 25,
   "id": "f178dbca-e120-454b-bd82-9fd1d6901320",
   "metadata": {},
   "outputs": [],
   "source": [
    "Z = np.random.random(100)\n",
    "Z[Z.argmax()] = 0"
   ]
  },
  {
   "cell_type": "markdown",
   "id": "65341639-a6c4-4478-ba4b-7b3a563c4cc8",
   "metadata": {},
   "source": [
    "#### Declare a structured array with x and y coordinates covering the [0,1]x[0,1] area."
   ]
  },
  {
   "cell_type": "code",
   "execution_count": 31,
   "id": "304040cf-ae38-4132-8f7c-b263817ff152",
   "metadata": {},
   "outputs": [],
   "source": [
    "Z = np.zeros((10,10), [('x',float),('y',float)])\n",
    "Z['x'], Z['y'] = np.meshgrid(np.linspace(0,1,10),\n",
    "                             np.linspace(0,1,10))"
   ]
  },
  {
   "cell_type": "markdown",
   "id": "1d51d004-be78-4877-9807-37d8ff56b416",
   "metadata": {},
   "source": [
    "#### Print the minimum and maximum representable value for each numpy scalar type"
   ]
  },
  {
   "cell_type": "code",
   "execution_count": 32,
   "id": "0e477e00-badd-4ceb-b121-e24a29ea9222",
   "metadata": {},
   "outputs": [
    {
     "name": "stdout",
     "output_type": "stream",
     "text": [
      "-128\n",
      "127\n",
      "-2147483648\n",
      "2147483647\n",
      "-9223372036854775808\n",
      "9223372036854775807\n",
      "-3.4028235e+38\n",
      "3.4028235e+38\n",
      "1.1920929e-07\n",
      "-1.7976931348623157e+308\n",
      "1.7976931348623157e+308\n",
      "2.220446049250313e-16\n"
     ]
    }
   ],
   "source": [
    "for dtype in [np.int8, np.int32, np.int64]:\n",
    "    print(np.iinfo(dtype).min)\n",
    "    print(np.iinfo(dtype).max)\n",
    "for dtype in [np.float32, np.float64]:\n",
    "    print(np.finfo(dtype).min)\n",
    "    print(np.finfo(dtype).max)\n",
    "    print(np.finfo(dtype).eps)"
   ]
  },
  {
   "cell_type": "markdown",
   "id": "32da4423-3b63-4c49-a641-4816bfad059e",
   "metadata": {},
   "source": [
    "#### Create a structured array representing a position (x,y) and a color (r,g,b)"
   ]
  },
  {
   "cell_type": "code",
   "execution_count": 33,
   "id": "af1d4f00-ef6b-4fce-9859-23ae1710e2b0",
   "metadata": {},
   "outputs": [
    {
     "name": "stderr",
     "output_type": "stream",
     "text": [
      "<ipython-input-33-49c1e20ea685>:1: FutureWarning: Passing (type, 1) or '1type' as a synonym of type is deprecated; in a future version of numpy, it will be understood as (type, (1,)) / '(1,)type'.\n",
      "  Z = np.zeros(10,[('position',[('x',float,1),('y',float,1)]),\n"
     ]
    }
   ],
   "source": [
    "Z = np.zeros(10,[('position',[('x',float,1),('y',float,1)]),\n",
    "                 ('color',[('r',float,1),('g',float,1),('b',float,1)])])"
   ]
  },
  {
   "cell_type": "markdown",
   "id": "6110ebd4-ffe1-492b-af9d-3cd1c02f7f22",
   "metadata": {},
   "source": [
    "#### Consider a random vector with shape (100,2) representing coordinates, find point by point distances"
   ]
  },
  {
   "cell_type": "code",
   "execution_count": 43,
   "id": "6a10e307-8725-4839-a7ca-3cae814daa10",
   "metadata": {},
   "outputs": [
    {
     "data": {
      "text/plain": [
       "array([[0.        , 0.42950276, 0.19043686, ..., 0.56651362, 0.52743038,\n",
       "        0.56202513],\n",
       "       [0.42950276, 0.        , 0.38137659, ..., 0.48919766, 0.30694945,\n",
       "        0.52529075],\n",
       "       [0.19043686, 0.38137659, 0.        , ..., 0.37751477, 0.5857066 ,\n",
       "        0.37159212],\n",
       "       ...,\n",
       "       [0.56651362, 0.48919766, 0.37751477, ..., 0.        , 0.79030019,\n",
       "        0.05382544],\n",
       "       [0.52743038, 0.30694945, 0.5857066 , ..., 0.79030019, 0.        ,\n",
       "        0.82184817],\n",
       "       [0.56202513, 0.52529075, 0.37159212, ..., 0.05382544, 0.82184817,\n",
       "        0.        ]])"
      ]
     },
     "execution_count": 43,
     "metadata": {},
     "output_type": "execute_result"
    }
   ],
   "source": [
    "Z = np.random.random((100,2))\n",
    "X, Y = np.atleast_2d(Z[:,0]),np.atleast_2d(Z[:,1])\n",
    "np.sqrt((X-X.T)**2+(Y-Y.T)**2)"
   ]
  },
  {
   "cell_type": "markdown",
   "id": "462f5761-5915-4964-806c-8aa4ba375cee",
   "metadata": {},
   "source": [
    "#### Generate a generic 2D Gaussian-like array"
   ]
  },
  {
   "cell_type": "code",
   "execution_count": 52,
   "id": "6596b3ef-2f88-4042-a393-31b781b2eaf3",
   "metadata": {},
   "outputs": [],
   "source": [
    "X,Y = np.meshgrid(np.linspace(-1,1,100), np.linspace(-1,1,100))\n",
    "D = np.sqrt(X*X+Y*Y)\n",
    "sigma, mu = 1.0, 0.0\n",
    "G = np.exp(-( (D-mu)**2 / ( 2.0 * sigma**2 ) ) )"
   ]
  },
  {
   "cell_type": "code",
   "execution_count": 54,
   "id": "3a15d527-8ad0-439d-b47f-054f8613bc88",
   "metadata": {},
   "outputs": [
    {
     "data": {
      "text/plain": [
       "(100, 100)"
      ]
     },
     "execution_count": 54,
     "metadata": {},
     "output_type": "execute_result"
    }
   ],
   "source": [
    "vt[0].shape"
   ]
  },
  {
   "cell_type": "markdown",
   "id": "8a625c48-a9d4-4075-aae6-1c3cb9cb8209",
   "metadata": {},
   "source": [
    "#### Consider the vector [1, 2, 3, 4, 5], how to build a new vector with 3 consecutive zeros interleaved between each value ?"
   ]
  },
  {
   "cell_type": "code",
   "execution_count": 60,
   "id": "758c79ef-b833-44aa-a5a5-019d1163f453",
   "metadata": {},
   "outputs": [],
   "source": [
    "Z = np.array([1,2,3,4,5])\n",
    "nz = 3\n",
    "Z0 = np.zeros(len(Z) + (len(Z)-1)*(nz))\n",
    "Z0[::nz+1] = Z"
   ]
  },
  {
   "cell_type": "code",
   "execution_count": null,
   "id": "5c77f10e-1581-4c44-9f9b-b4ca01fc41f0",
   "metadata": {},
   "outputs": [],
   "source": []
  }
 ],
 "metadata": {
  "kernelspec": {
   "display_name": "Python 3",
   "language": "python",
   "name": "python3"
  },
  "language_info": {
   "codemirror_mode": {
    "name": "ipython",
    "version": 3
   },
   "file_extension": ".py",
   "mimetype": "text/x-python",
   "name": "python",
   "nbconvert_exporter": "python",
   "pygments_lexer": "ipython3",
   "version": "3.8.8"
  }
 },
 "nbformat": 4,
 "nbformat_minor": 5
}
