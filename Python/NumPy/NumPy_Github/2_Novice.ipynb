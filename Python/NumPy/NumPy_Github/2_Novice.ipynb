{
 "cells": [
  {
   "cell_type": "code",
   "execution_count": 2,
   "id": "246e7df3-cb56-486e-a07a-7ddee29794d5",
   "metadata": {},
   "outputs": [],
   "source": [
    "import numpy as np"
   ]
  },
  {
   "cell_type": "markdown",
   "id": "be34fa4e-fb1e-4fce-9275-2d9085817173",
   "metadata": {},
   "source": [
    "#### Declare a 8x8 matrix and fill it with a checkerboard pattern"
   ]
  },
  {
   "cell_type": "code",
   "execution_count": 5,
   "id": "c3e7e8f5-4664-4813-ba32-6e126c971c93",
   "metadata": {},
   "outputs": [
    {
     "data": {
      "text/plain": [
       "array([[0., 1., 0., 1., 0., 1., 0., 1.],\n",
       "       [1., 0., 1., 0., 1., 0., 1., 0.],\n",
       "       [0., 1., 0., 1., 0., 1., 0., 1.],\n",
       "       [1., 0., 1., 0., 1., 0., 1., 0.],\n",
       "       [0., 1., 0., 1., 0., 1., 0., 1.],\n",
       "       [1., 0., 1., 0., 1., 0., 1., 0.],\n",
       "       [0., 1., 0., 1., 0., 1., 0., 1.],\n",
       "       [1., 0., 1., 0., 1., 0., 1., 0.]])"
      ]
     },
     "execution_count": 5,
     "metadata": {},
     "output_type": "execute_result"
    }
   ],
   "source": [
    "Z = np.zeros((8,8))\n",
    "Z[1::2,::2] = 1\n",
    "Z[::2,1::2] = 1\n",
    "Z"
   ]
  },
  {
   "cell_type": "markdown",
   "id": "2098aaf6-3437-4883-8d0b-c453d419e6bb",
   "metadata": {},
   "source": [
    "#### Declare a 10x10 array with random values and find the minimum and maximum values"
   ]
  },
  {
   "cell_type": "code",
   "execution_count": 12,
   "id": "e4aeb915-beae-4a37-8f5f-bc36d5d5756a",
   "metadata": {},
   "outputs": [
    {
     "name": "stdout",
     "output_type": "stream",
     "text": [
      "0.021358221943246436\n",
      "0.9659928977485794\n"
     ]
    }
   ],
   "source": [
    "Z = np.random.random((10,10))\n",
    "print(Z.min())\n",
    "print(Z.max())"
   ]
  },
  {
   "cell_type": "code",
   "execution_count": 13,
   "id": "96aa5a8a-54b5-4e2c-80c7-a21707330c8b",
   "metadata": {},
   "outputs": [
    {
     "data": {
      "text/plain": [
       "array([[0.42429893, 0.30715969, 0.57749401, 0.8088798 , 0.70010112,\n",
       "        0.79110909, 0.83955577, 0.72192675, 0.96137201, 0.800876  ],\n",
       "       [0.87590008, 0.78814302, 0.54587815, 0.81982173, 0.43787686,\n",
       "        0.78503807, 0.48343376, 0.54600013, 0.54158732, 0.06353732],\n",
       "       [0.91921217, 0.18068421, 0.68354775, 0.37376972, 0.6031651 ,\n",
       "        0.16057467, 0.3440539 , 0.49175094, 0.25539959, 0.21627529],\n",
       "       [0.73727541, 0.09115232, 0.45170259, 0.16169076, 0.54108899,\n",
       "        0.40817132, 0.13816389, 0.79318379, 0.78473243, 0.69923924],\n",
       "       [0.18516803, 0.51378046, 0.93696687, 0.21975175, 0.53318649,\n",
       "        0.40660409, 0.45097709, 0.59649186, 0.46550816, 0.55239472],\n",
       "       [0.38549822, 0.80308514, 0.78768405, 0.90642538, 0.94218502,\n",
       "        0.04519029, 0.65310776, 0.25448806, 0.02135822, 0.7248991 ],\n",
       "       [0.35677276, 0.06181944, 0.16346986, 0.38221902, 0.43970558,\n",
       "        0.41638628, 0.36886312, 0.41547382, 0.12928302, 0.50751605],\n",
       "       [0.44142122, 0.81996412, 0.04766848, 0.17795546, 0.8322737 ,\n",
       "        0.75150667, 0.54127582, 0.1137405 , 0.79478054, 0.61088263],\n",
       "       [0.71017237, 0.4205469 , 0.45064573, 0.49337689, 0.26014846,\n",
       "        0.05131523, 0.83657657, 0.28315848, 0.62358563, 0.92827037],\n",
       "       [0.27303902, 0.55664891, 0.7989417 , 0.9659929 , 0.22319156,\n",
       "        0.1776835 , 0.61857578, 0.11310793, 0.53855842, 0.77727678]])"
      ]
     },
     "execution_count": 13,
     "metadata": {},
     "output_type": "execute_result"
    }
   ],
   "source": [
    "Z"
   ]
  },
  {
   "cell_type": "markdown",
   "id": "f1016964-f35b-4095-a803-3ea8d340027f",
   "metadata": {},
   "source": [
    "#### Create a checkerboard 8x8 matrix using the tile function"
   ]
  },
  {
   "cell_type": "code",
   "execution_count": 28,
   "id": "d6232eb3-d90b-4651-a5a4-6431bb21527c",
   "metadata": {},
   "outputs": [],
   "source": [
    "Z = np.tile([[0,1],[1,0]],(4,4))"
   ]
  },
  {
   "cell_type": "code",
   "execution_count": 29,
   "id": "25e183aa-2a44-4625-a360-072bdc2f3af5",
   "metadata": {},
   "outputs": [
    {
     "data": {
      "text/plain": [
       "array([[0, 1, 0, 1, 0, 1, 0, 1],\n",
       "       [1, 0, 1, 0, 1, 0, 1, 0],\n",
       "       [0, 1, 0, 1, 0, 1, 0, 1],\n",
       "       [1, 0, 1, 0, 1, 0, 1, 0],\n",
       "       [0, 1, 0, 1, 0, 1, 0, 1],\n",
       "       [1, 0, 1, 0, 1, 0, 1, 0],\n",
       "       [0, 1, 0, 1, 0, 1, 0, 1],\n",
       "       [1, 0, 1, 0, 1, 0, 1, 0]])"
      ]
     },
     "execution_count": 29,
     "metadata": {},
     "output_type": "execute_result"
    }
   ],
   "source": [
    "Z"
   ]
  },
  {
   "cell_type": "markdown",
   "id": "f05b0f1e-1188-4625-bff8-4951604d31ae",
   "metadata": {},
   "source": [
    "#### Normalize a 5x5 random matrix (between 0 and 1)"
   ]
  },
  {
   "cell_type": "code",
   "execution_count": 33,
   "id": "32ed543e-bda8-4d88-8b7a-e545bef64bba",
   "metadata": {},
   "outputs": [
    {
     "data": {
      "text/plain": [
       "array([[0.19091939, 1.        , 0.28564048, 0.37045673, 0.92122184],\n",
       "       [0.63937895, 0.59872386, 0.01594625, 0.42298152, 0.23519683],\n",
       "       [0.35811171, 0.90174817, 0.80593107, 0.27802266, 0.07810214],\n",
       "       [0.02292353, 0.9179186 , 0.08047466, 0.40291183, 0.55093731],\n",
       "       [0.69596506, 0.        , 0.36173422, 0.33562316, 0.35863576]])"
      ]
     },
     "execution_count": 33,
     "metadata": {},
     "output_type": "execute_result"
    }
   ],
   "source": [
    "Z = np.random.random((5,5))\n",
    "Zmin = Z.min()\n",
    "Zmax = Z.max()\n",
    "Z = (Z-Zmin)/(Zmax-Zmin)\n",
    "Z"
   ]
  },
  {
   "cell_type": "markdown",
   "id": "3a1f4c28-7d55-4c7b-8690-73f567962ac4",
   "metadata": {},
   "source": [
    "#### Multiply a 5x3 matrix by a 3x2 matrix (real matrix product)"
   ]
  },
  {
   "cell_type": "code",
   "execution_count": 37,
   "id": "ae0a67f5-b1c3-409e-aa14-37aba4a46e03",
   "metadata": {},
   "outputs": [
    {
     "data": {
      "text/plain": [
       "array([[11097, 12606],\n",
       "       [ 6480,  4796],\n",
       "       [16488, 13288],\n",
       "       [14280, 10672],\n",
       "       [15483,  9618]])"
      ]
     },
     "execution_count": 37,
     "metadata": {},
     "output_type": "execute_result"
    }
   ],
   "source": [
    "np.dot(np.random.randint(100,size=(5,3)),np.random.randint(200,size=(3,2)))"
   ]
  },
  {
   "cell_type": "markdown",
   "id": "c5ecdc16-061d-420e-8d0b-808bb1432c9c",
   "metadata": {},
   "source": [
    "#### Create a 10x10 matrix with row values ranging from 0 to 9"
   ]
  },
  {
   "cell_type": "code",
   "execution_count": 40,
   "id": "b5c3af1a-71cf-433e-94bd-0e5ea35461e1",
   "metadata": {},
   "outputs": [],
   "source": [
    "Z = np.zeros((10,10))+np.arange(0,10)"
   ]
  },
  {
   "cell_type": "code",
   "execution_count": 41,
   "id": "7a46201e-0dc8-4e9d-9e17-21c2a1a7092f",
   "metadata": {},
   "outputs": [
    {
     "data": {
      "text/plain": [
       "array([[0., 1., 2., 3., 4., 5., 6., 7., 8., 9.],\n",
       "       [0., 1., 2., 3., 4., 5., 6., 7., 8., 9.],\n",
       "       [0., 1., 2., 3., 4., 5., 6., 7., 8., 9.],\n",
       "       [0., 1., 2., 3., 4., 5., 6., 7., 8., 9.],\n",
       "       [0., 1., 2., 3., 4., 5., 6., 7., 8., 9.],\n",
       "       [0., 1., 2., 3., 4., 5., 6., 7., 8., 9.],\n",
       "       [0., 1., 2., 3., 4., 5., 6., 7., 8., 9.],\n",
       "       [0., 1., 2., 3., 4., 5., 6., 7., 8., 9.],\n",
       "       [0., 1., 2., 3., 4., 5., 6., 7., 8., 9.],\n",
       "       [0., 1., 2., 3., 4., 5., 6., 7., 8., 9.]])"
      ]
     },
     "execution_count": 41,
     "metadata": {},
     "output_type": "execute_result"
    }
   ],
   "source": [
    "Z"
   ]
  },
  {
   "cell_type": "markdown",
   "id": "bdb28599-13c7-475d-9a39-2559733a654b",
   "metadata": {},
   "source": [
    "#### Create a random vector of size 100 and sort it"
   ]
  },
  {
   "cell_type": "code",
   "execution_count": 44,
   "id": "ea829465-bf3a-4494-8cfc-4908dc610be1",
   "metadata": {},
   "outputs": [],
   "source": [
    "Z =np.random.random(100)\n",
    "Z.sort()\n",
    "# print(Z)"
   ]
  },
  {
   "cell_type": "markdown",
   "id": "d005d600-ba22-4d3f-9dda-57e91ad1437f",
   "metadata": {},
   "source": [
    "#### Consider two random matrices A anb B, check if they are equal."
   ]
  },
  {
   "cell_type": "code",
   "execution_count": 48,
   "id": "4f33b60f-07ea-4a9d-8c86-5899f3588263",
   "metadata": {},
   "outputs": [
    {
     "data": {
      "text/plain": [
       "False"
      ]
     },
     "execution_count": 48,
     "metadata": {},
     "output_type": "execute_result"
    }
   ],
   "source": [
    "a = np.random.randint(0,3,(3,4))\n",
    "b = np.random.randint(2,4,(3,4))\n",
    "np.allclose(a,b)"
   ]
  },
  {
   "cell_type": "markdown",
   "id": "ef602920-f1e5-49dd-9c96-07d981ae3827",
   "metadata": {},
   "source": [
    "#### Create a random vector of size 1000 and find the mean value"
   ]
  },
  {
   "cell_type": "code",
   "execution_count": 53,
   "id": "e9dcb43a-e401-49a1-971f-62e7fee243c9",
   "metadata": {},
   "outputs": [
    {
     "data": {
      "text/plain": [
       "0.508324767749841"
      ]
     },
     "execution_count": 53,
     "metadata": {},
     "output_type": "execute_result"
    }
   ],
   "source": [
    "Z = np.random.random(1000)\n",
    "Z.mean()"
   ]
  }
 ],
 "metadata": {
  "kernelspec": {
   "display_name": "Python 3",
   "language": "python",
   "name": "python3"
  },
  "language_info": {
   "codemirror_mode": {
    "name": "ipython",
    "version": 3
   },
   "file_extension": ".py",
   "mimetype": "text/x-python",
   "name": "python",
   "nbconvert_exporter": "python",
   "pygments_lexer": "ipython3",
   "version": "3.8.8"
  }
 },
 "nbformat": 4,
 "nbformat_minor": 5
}
